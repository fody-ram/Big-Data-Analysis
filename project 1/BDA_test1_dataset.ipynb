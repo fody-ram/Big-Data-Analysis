{
  "nbformat": 4,
  "nbformat_minor": 0,
  "metadata": {
    "colab": {
      "provenance": [],
      "collapsed_sections": [
        "wZP0UItCE4ND",
        "qA3gP56FJU2D",
        "8VlQfyOFOjEk",
        "Xt7WlqCvPKYx",
        "mDq2fgEBVRHY",
        "Fc_c58liXsgv",
        "8qabaU3O4WJ9",
        "nI0FWFk86A5M"
      ]
    },
    "kernelspec": {
      "name": "python3",
      "display_name": "Python 3"
    },
    "language_info": {
      "name": "python"
    }
  },
  "cells": [
    {
      "cell_type": "code",
      "execution_count": 4,
      "metadata": {
        "id": "XDRZbvQ63jP0"
      },
      "outputs": [],
      "source": [
        "import numpy as np\n",
        "import matplotlib as mpl\n",
        "import matplotlib.pyplot as plt\n",
        "import seaborn as sns\n",
        "import pandas as pd\n",
        "%matplotlib inline"
      ]
    },
    {
      "cell_type": "code",
      "source": [
        "hdata = pd.read_csv('housdata.csv')"
      ],
      "metadata": {
        "id": "6dEH2mnn35Qq"
      },
      "execution_count": 5,
      "outputs": []
    },
    {
      "cell_type": "code",
      "source": [
        "hdata"
      ],
      "metadata": {
        "id": "oB5vntRH4Uk9",
        "colab": {
          "base_uri": "https://localhost:8080/",
          "height": 626
        },
        "outputId": "2302e2a5-7ae1-415a-af1a-f3feef73d235"
      },
      "execution_count": 6,
      "outputs": [
        {
          "output_type": "execute_result",
          "data": {
            "text/plain": [
              "             CONTROL  AGE1  BEDRMS  PER REGION METRO3   LMED   FMR    L30  \\\n",
              "0     '734778500142'    56       4    2    '4'    '2'  70998  1925  18392   \n",
              "1     '730204310145'    54       6    4    '2'    '1'  62425  1199  18729   \n",
              "2     '295273830133'    39       4    4    '1'    '2'  91523  1819  27459   \n",
              "3     '301895590141'    49       5    3    '2'    '2'  70700  1216  19100   \n",
              "4     '100007130148'    30       2    2    '3'    '1'  61059   685  14662   \n",
              "...              ...   ...     ...  ...    ...    ...    ...   ...    ...   \n",
              "3946  '187812570142'    25       3    4    '3'    '1'  67900  1236  20350   \n",
              "3947  '280828360140'    67       3    6    '2'    '1'  83900  1143  29150   \n",
              "3948  '187827900149'    78       4    2    '3'    '1'  61239  1047  14818   \n",
              "3949  '187828980149'    -9       4   -6    '2'    '2'  83900  1284  17600   \n",
              "3950  '200958770141'    44       3    4    '2'    '2'  63054   889  18943   \n",
              "\n",
              "        L50  ...      FMTINCRELFMRCAT  FMTCOST06RELAMICAT  FMTCOST08RELAMICAT  \\\n",
              "0     30628  ...           '3 GT FMR'      '7 120% AMI +'      '7 120% AMI +'   \n",
              "1     31213  ...           '3 GT FMR'      '7 120% AMI +'      '7 120% AMI +'   \n",
              "2     45761  ...           '3 GT FMR'      '7 120% AMI +'      '7 120% AMI +'   \n",
              "3     31800  ...           '3 GT FMR'      '7 120% AMI +'      '7 120% AMI +'   \n",
              "4     24438  ...  '2 50.1 - 100% FMR'    '3 50 - 60% AMI'    '3 50 - 60% AMI'   \n",
              "...     ...  ...                  ...                 ...                 ...   \n",
              "3946  33950  ...           '3 GT FMR'   '5 80 - 100% AMI'   '5 80 - 100% AMI'   \n",
              "3947  48650  ...           '3 GT FMR'    '4 60 - 80% AMI'   '5 80 - 100% AMI'   \n",
              "3948  24711  ...           '3 GT FMR'    '4 60 - 80% AMI'    '4 60 - 80% AMI'   \n",
              "3949  29350  ...                  '.'  '6 100 - 120% AMI'  '6 100 - 120% AMI'   \n",
              "3950  31562  ...                  NaN                 NaN                 NaN   \n",
              "\n",
              "      FMTCOST12RELAMICAT  FMTCOSTMEDRELAMICAT     FMTINCRELAMICAT  \\\n",
              "0         '7 120% AMI +'       '7 120% AMI +'      '7 120% AMI +'   \n",
              "1         '7 120% AMI +'       '7 120% AMI +'      '7 120% AMI +'   \n",
              "2         '7 120% AMI +'       '7 120% AMI +'      '7 120% AMI +'   \n",
              "3         '7 120% AMI +'       '7 120% AMI +'      '7 120% AMI +'   \n",
              "4       '3 50 - 60% AMI'     '3 50 - 60% AMI'    '2 30 - 50% AMI'   \n",
              "...                  ...                  ...                 ...   \n",
              "3946      '7 120% AMI +'    '5 80 - 100% AMI'  '6 100 - 120% AMI'   \n",
              "3947  '6 100 - 120% AMI'     '4 60 - 80% AMI'      '7 120% AMI +'   \n",
              "3948   '5 80 - 100% AMI'     '4 60 - 80% AMI'   '5 80 - 100% AMI'   \n",
              "3949      '7 120% AMI +'    '5 80 - 100% AMI'                 '.'   \n",
              "3950                 NaN                  NaN                 NaN   \n",
              "\n",
              "           FMTASSISTED          FMTBURDEN FMTREGION  FMTSTATUS  \n",
              "0                  '.'  '1 Less than 30%'    'West'       '-5'  \n",
              "1                  '.'  '1 Less than 30%'      '-5'       '-5'  \n",
              "2                  '.'  '1 Less than 30%'      '-5'       '-5'  \n",
              "3                  '.'  '1 Less than 30%'      '-5'       '-5'  \n",
              "4     '0 Not Assisted'    '3 50% or More'      '-5'       '-5'  \n",
              "...                ...                ...       ...        ...  \n",
              "3946               '.'  '1 Less than 30%'      '-5'       '-5'  \n",
              "3947               '.'  '1 Less than 30%'      '-5'       '-5'  \n",
              "3948               '.'  '1 Less than 30%'      '-5'       '-5'  \n",
              "3949               '.'                '.'      '-5'       '-5'  \n",
              "3950               NaN                NaN       NaN        NaN  \n",
              "\n",
              "[3951 rows x 100 columns]"
            ],
            "text/html": [
              "\n",
              "  <div id=\"df-0947468f-d138-4da3-8454-5ebf85c3faf9\">\n",
              "    <div class=\"colab-df-container\">\n",
              "      <div>\n",
              "<style scoped>\n",
              "    .dataframe tbody tr th:only-of-type {\n",
              "        vertical-align: middle;\n",
              "    }\n",
              "\n",
              "    .dataframe tbody tr th {\n",
              "        vertical-align: top;\n",
              "    }\n",
              "\n",
              "    .dataframe thead th {\n",
              "        text-align: right;\n",
              "    }\n",
              "</style>\n",
              "<table border=\"1\" class=\"dataframe\">\n",
              "  <thead>\n",
              "    <tr style=\"text-align: right;\">\n",
              "      <th></th>\n",
              "      <th>CONTROL</th>\n",
              "      <th>AGE1</th>\n",
              "      <th>BEDRMS</th>\n",
              "      <th>PER</th>\n",
              "      <th>REGION</th>\n",
              "      <th>METRO3</th>\n",
              "      <th>LMED</th>\n",
              "      <th>FMR</th>\n",
              "      <th>L30</th>\n",
              "      <th>L50</th>\n",
              "      <th>...</th>\n",
              "      <th>FMTINCRELFMRCAT</th>\n",
              "      <th>FMTCOST06RELAMICAT</th>\n",
              "      <th>FMTCOST08RELAMICAT</th>\n",
              "      <th>FMTCOST12RELAMICAT</th>\n",
              "      <th>FMTCOSTMEDRELAMICAT</th>\n",
              "      <th>FMTINCRELAMICAT</th>\n",
              "      <th>FMTASSISTED</th>\n",
              "      <th>FMTBURDEN</th>\n",
              "      <th>FMTREGION</th>\n",
              "      <th>FMTSTATUS</th>\n",
              "    </tr>\n",
              "  </thead>\n",
              "  <tbody>\n",
              "    <tr>\n",
              "      <th>0</th>\n",
              "      <td>'734778500142'</td>\n",
              "      <td>56</td>\n",
              "      <td>4</td>\n",
              "      <td>2</td>\n",
              "      <td>'4'</td>\n",
              "      <td>'2'</td>\n",
              "      <td>70998</td>\n",
              "      <td>1925</td>\n",
              "      <td>18392</td>\n",
              "      <td>30628</td>\n",
              "      <td>...</td>\n",
              "      <td>'3 GT FMR'</td>\n",
              "      <td>'7 120% AMI +'</td>\n",
              "      <td>'7 120% AMI +'</td>\n",
              "      <td>'7 120% AMI +'</td>\n",
              "      <td>'7 120% AMI +'</td>\n",
              "      <td>'7 120% AMI +'</td>\n",
              "      <td>'.'</td>\n",
              "      <td>'1 Less than 30%'</td>\n",
              "      <td>'West'</td>\n",
              "      <td>'-5'</td>\n",
              "    </tr>\n",
              "    <tr>\n",
              "      <th>1</th>\n",
              "      <td>'730204310145'</td>\n",
              "      <td>54</td>\n",
              "      <td>6</td>\n",
              "      <td>4</td>\n",
              "      <td>'2'</td>\n",
              "      <td>'1'</td>\n",
              "      <td>62425</td>\n",
              "      <td>1199</td>\n",
              "      <td>18729</td>\n",
              "      <td>31213</td>\n",
              "      <td>...</td>\n",
              "      <td>'3 GT FMR'</td>\n",
              "      <td>'7 120% AMI +'</td>\n",
              "      <td>'7 120% AMI +'</td>\n",
              "      <td>'7 120% AMI +'</td>\n",
              "      <td>'7 120% AMI +'</td>\n",
              "      <td>'7 120% AMI +'</td>\n",
              "      <td>'.'</td>\n",
              "      <td>'1 Less than 30%'</td>\n",
              "      <td>'-5'</td>\n",
              "      <td>'-5'</td>\n",
              "    </tr>\n",
              "    <tr>\n",
              "      <th>2</th>\n",
              "      <td>'295273830133'</td>\n",
              "      <td>39</td>\n",
              "      <td>4</td>\n",
              "      <td>4</td>\n",
              "      <td>'1'</td>\n",
              "      <td>'2'</td>\n",
              "      <td>91523</td>\n",
              "      <td>1819</td>\n",
              "      <td>27459</td>\n",
              "      <td>45761</td>\n",
              "      <td>...</td>\n",
              "      <td>'3 GT FMR'</td>\n",
              "      <td>'7 120% AMI +'</td>\n",
              "      <td>'7 120% AMI +'</td>\n",
              "      <td>'7 120% AMI +'</td>\n",
              "      <td>'7 120% AMI +'</td>\n",
              "      <td>'7 120% AMI +'</td>\n",
              "      <td>'.'</td>\n",
              "      <td>'1 Less than 30%'</td>\n",
              "      <td>'-5'</td>\n",
              "      <td>'-5'</td>\n",
              "    </tr>\n",
              "    <tr>\n",
              "      <th>3</th>\n",
              "      <td>'301895590141'</td>\n",
              "      <td>49</td>\n",
              "      <td>5</td>\n",
              "      <td>3</td>\n",
              "      <td>'2'</td>\n",
              "      <td>'2'</td>\n",
              "      <td>70700</td>\n",
              "      <td>1216</td>\n",
              "      <td>19100</td>\n",
              "      <td>31800</td>\n",
              "      <td>...</td>\n",
              "      <td>'3 GT FMR'</td>\n",
              "      <td>'7 120% AMI +'</td>\n",
              "      <td>'7 120% AMI +'</td>\n",
              "      <td>'7 120% AMI +'</td>\n",
              "      <td>'7 120% AMI +'</td>\n",
              "      <td>'7 120% AMI +'</td>\n",
              "      <td>'.'</td>\n",
              "      <td>'1 Less than 30%'</td>\n",
              "      <td>'-5'</td>\n",
              "      <td>'-5'</td>\n",
              "    </tr>\n",
              "    <tr>\n",
              "      <th>4</th>\n",
              "      <td>'100007130148'</td>\n",
              "      <td>30</td>\n",
              "      <td>2</td>\n",
              "      <td>2</td>\n",
              "      <td>'3'</td>\n",
              "      <td>'1'</td>\n",
              "      <td>61059</td>\n",
              "      <td>685</td>\n",
              "      <td>14662</td>\n",
              "      <td>24438</td>\n",
              "      <td>...</td>\n",
              "      <td>'2 50.1 - 100% FMR'</td>\n",
              "      <td>'3 50 - 60% AMI'</td>\n",
              "      <td>'3 50 - 60% AMI'</td>\n",
              "      <td>'3 50 - 60% AMI'</td>\n",
              "      <td>'3 50 - 60% AMI'</td>\n",
              "      <td>'2 30 - 50% AMI'</td>\n",
              "      <td>'0 Not Assisted'</td>\n",
              "      <td>'3 50% or More'</td>\n",
              "      <td>'-5'</td>\n",
              "      <td>'-5'</td>\n",
              "    </tr>\n",
              "    <tr>\n",
              "      <th>...</th>\n",
              "      <td>...</td>\n",
              "      <td>...</td>\n",
              "      <td>...</td>\n",
              "      <td>...</td>\n",
              "      <td>...</td>\n",
              "      <td>...</td>\n",
              "      <td>...</td>\n",
              "      <td>...</td>\n",
              "      <td>...</td>\n",
              "      <td>...</td>\n",
              "      <td>...</td>\n",
              "      <td>...</td>\n",
              "      <td>...</td>\n",
              "      <td>...</td>\n",
              "      <td>...</td>\n",
              "      <td>...</td>\n",
              "      <td>...</td>\n",
              "      <td>...</td>\n",
              "      <td>...</td>\n",
              "      <td>...</td>\n",
              "      <td>...</td>\n",
              "    </tr>\n",
              "    <tr>\n",
              "      <th>3946</th>\n",
              "      <td>'187812570142'</td>\n",
              "      <td>25</td>\n",
              "      <td>3</td>\n",
              "      <td>4</td>\n",
              "      <td>'3'</td>\n",
              "      <td>'1'</td>\n",
              "      <td>67900</td>\n",
              "      <td>1236</td>\n",
              "      <td>20350</td>\n",
              "      <td>33950</td>\n",
              "      <td>...</td>\n",
              "      <td>'3 GT FMR'</td>\n",
              "      <td>'5 80 - 100% AMI'</td>\n",
              "      <td>'5 80 - 100% AMI'</td>\n",
              "      <td>'7 120% AMI +'</td>\n",
              "      <td>'5 80 - 100% AMI'</td>\n",
              "      <td>'6 100 - 120% AMI'</td>\n",
              "      <td>'.'</td>\n",
              "      <td>'1 Less than 30%'</td>\n",
              "      <td>'-5'</td>\n",
              "      <td>'-5'</td>\n",
              "    </tr>\n",
              "    <tr>\n",
              "      <th>3947</th>\n",
              "      <td>'280828360140'</td>\n",
              "      <td>67</td>\n",
              "      <td>3</td>\n",
              "      <td>6</td>\n",
              "      <td>'2'</td>\n",
              "      <td>'1'</td>\n",
              "      <td>83900</td>\n",
              "      <td>1143</td>\n",
              "      <td>29150</td>\n",
              "      <td>48650</td>\n",
              "      <td>...</td>\n",
              "      <td>'3 GT FMR'</td>\n",
              "      <td>'4 60 - 80% AMI'</td>\n",
              "      <td>'5 80 - 100% AMI'</td>\n",
              "      <td>'6 100 - 120% AMI'</td>\n",
              "      <td>'4 60 - 80% AMI'</td>\n",
              "      <td>'7 120% AMI +'</td>\n",
              "      <td>'.'</td>\n",
              "      <td>'1 Less than 30%'</td>\n",
              "      <td>'-5'</td>\n",
              "      <td>'-5'</td>\n",
              "    </tr>\n",
              "    <tr>\n",
              "      <th>3948</th>\n",
              "      <td>'187827900149'</td>\n",
              "      <td>78</td>\n",
              "      <td>4</td>\n",
              "      <td>2</td>\n",
              "      <td>'3'</td>\n",
              "      <td>'1'</td>\n",
              "      <td>61239</td>\n",
              "      <td>1047</td>\n",
              "      <td>14818</td>\n",
              "      <td>24711</td>\n",
              "      <td>...</td>\n",
              "      <td>'3 GT FMR'</td>\n",
              "      <td>'4 60 - 80% AMI'</td>\n",
              "      <td>'4 60 - 80% AMI'</td>\n",
              "      <td>'5 80 - 100% AMI'</td>\n",
              "      <td>'4 60 - 80% AMI'</td>\n",
              "      <td>'5 80 - 100% AMI'</td>\n",
              "      <td>'.'</td>\n",
              "      <td>'1 Less than 30%'</td>\n",
              "      <td>'-5'</td>\n",
              "      <td>'-5'</td>\n",
              "    </tr>\n",
              "    <tr>\n",
              "      <th>3949</th>\n",
              "      <td>'187828980149'</td>\n",
              "      <td>-9</td>\n",
              "      <td>4</td>\n",
              "      <td>-6</td>\n",
              "      <td>'2'</td>\n",
              "      <td>'2'</td>\n",
              "      <td>83900</td>\n",
              "      <td>1284</td>\n",
              "      <td>17600</td>\n",
              "      <td>29350</td>\n",
              "      <td>...</td>\n",
              "      <td>'.'</td>\n",
              "      <td>'6 100 - 120% AMI'</td>\n",
              "      <td>'6 100 - 120% AMI'</td>\n",
              "      <td>'7 120% AMI +'</td>\n",
              "      <td>'5 80 - 100% AMI'</td>\n",
              "      <td>'.'</td>\n",
              "      <td>'.'</td>\n",
              "      <td>'.'</td>\n",
              "      <td>'-5'</td>\n",
              "      <td>'-5'</td>\n",
              "    </tr>\n",
              "    <tr>\n",
              "      <th>3950</th>\n",
              "      <td>'200958770141'</td>\n",
              "      <td>44</td>\n",
              "      <td>3</td>\n",
              "      <td>4</td>\n",
              "      <td>'2'</td>\n",
              "      <td>'2'</td>\n",
              "      <td>63054</td>\n",
              "      <td>889</td>\n",
              "      <td>18943</td>\n",
              "      <td>31562</td>\n",
              "      <td>...</td>\n",
              "      <td>NaN</td>\n",
              "      <td>NaN</td>\n",
              "      <td>NaN</td>\n",
              "      <td>NaN</td>\n",
              "      <td>NaN</td>\n",
              "      <td>NaN</td>\n",
              "      <td>NaN</td>\n",
              "      <td>NaN</td>\n",
              "      <td>NaN</td>\n",
              "      <td>NaN</td>\n",
              "    </tr>\n",
              "  </tbody>\n",
              "</table>\n",
              "<p>3951 rows × 100 columns</p>\n",
              "</div>\n",
              "      <button class=\"colab-df-convert\" onclick=\"convertToInteractive('df-0947468f-d138-4da3-8454-5ebf85c3faf9')\"\n",
              "              title=\"Convert this dataframe to an interactive table.\"\n",
              "              style=\"display:none;\">\n",
              "        \n",
              "  <svg xmlns=\"http://www.w3.org/2000/svg\" height=\"24px\"viewBox=\"0 0 24 24\"\n",
              "       width=\"24px\">\n",
              "    <path d=\"M0 0h24v24H0V0z\" fill=\"none\"/>\n",
              "    <path d=\"M18.56 5.44l.94 2.06.94-2.06 2.06-.94-2.06-.94-.94-2.06-.94 2.06-2.06.94zm-11 1L8.5 8.5l.94-2.06 2.06-.94-2.06-.94L8.5 2.5l-.94 2.06-2.06.94zm10 10l.94 2.06.94-2.06 2.06-.94-2.06-.94-.94-2.06-.94 2.06-2.06.94z\"/><path d=\"M17.41 7.96l-1.37-1.37c-.4-.4-.92-.59-1.43-.59-.52 0-1.04.2-1.43.59L10.3 9.45l-7.72 7.72c-.78.78-.78 2.05 0 2.83L4 21.41c.39.39.9.59 1.41.59.51 0 1.02-.2 1.41-.59l7.78-7.78 2.81-2.81c.8-.78.8-2.07 0-2.86zM5.41 20L4 18.59l7.72-7.72 1.47 1.35L5.41 20z\"/>\n",
              "  </svg>\n",
              "      </button>\n",
              "      \n",
              "  <style>\n",
              "    .colab-df-container {\n",
              "      display:flex;\n",
              "      flex-wrap:wrap;\n",
              "      gap: 12px;\n",
              "    }\n",
              "\n",
              "    .colab-df-convert {\n",
              "      background-color: #E8F0FE;\n",
              "      border: none;\n",
              "      border-radius: 50%;\n",
              "      cursor: pointer;\n",
              "      display: none;\n",
              "      fill: #1967D2;\n",
              "      height: 32px;\n",
              "      padding: 0 0 0 0;\n",
              "      width: 32px;\n",
              "    }\n",
              "\n",
              "    .colab-df-convert:hover {\n",
              "      background-color: #E2EBFA;\n",
              "      box-shadow: 0px 1px 2px rgba(60, 64, 67, 0.3), 0px 1px 3px 1px rgba(60, 64, 67, 0.15);\n",
              "      fill: #174EA6;\n",
              "    }\n",
              "\n",
              "    [theme=dark] .colab-df-convert {\n",
              "      background-color: #3B4455;\n",
              "      fill: #D2E3FC;\n",
              "    }\n",
              "\n",
              "    [theme=dark] .colab-df-convert:hover {\n",
              "      background-color: #434B5C;\n",
              "      box-shadow: 0px 1px 3px 1px rgba(0, 0, 0, 0.15);\n",
              "      filter: drop-shadow(0px 1px 2px rgba(0, 0, 0, 0.3));\n",
              "      fill: #FFFFFF;\n",
              "    }\n",
              "  </style>\n",
              "\n",
              "      <script>\n",
              "        const buttonEl =\n",
              "          document.querySelector('#df-0947468f-d138-4da3-8454-5ebf85c3faf9 button.colab-df-convert');\n",
              "        buttonEl.style.display =\n",
              "          google.colab.kernel.accessAllowed ? 'block' : 'none';\n",
              "\n",
              "        async function convertToInteractive(key) {\n",
              "          const element = document.querySelector('#df-0947468f-d138-4da3-8454-5ebf85c3faf9');\n",
              "          const dataTable =\n",
              "            await google.colab.kernel.invokeFunction('convertToInteractive',\n",
              "                                                     [key], {});\n",
              "          if (!dataTable) return;\n",
              "\n",
              "          const docLinkHtml = 'Like what you see? Visit the ' +\n",
              "            '<a target=\"_blank\" href=https://colab.research.google.com/notebooks/data_table.ipynb>data table notebook</a>'\n",
              "            + ' to learn more about interactive tables.';\n",
              "          element.innerHTML = '';\n",
              "          dataTable['output_type'] = 'display_data';\n",
              "          await google.colab.output.renderOutput(dataTable, element);\n",
              "          const docLink = document.createElement('div');\n",
              "          docLink.innerHTML = docLinkHtml;\n",
              "          element.appendChild(docLink);\n",
              "        }\n",
              "      </script>\n",
              "    </div>\n",
              "  </div>\n",
              "  "
            ]
          },
          "metadata": {},
          "execution_count": 6
        }
      ]
    },
    {
      "cell_type": "code",
      "source": [
        "# Remove rows with negative values in 'VALUE' column\n",
        "hdata = hdata[hdata['VALUE'] >= 0]\n",
        "# Remove rows with null values in 'FMTZADEQ' column\n",
        "hdata = hdata.dropna(subset=['FMTZADEQ'])\n",
        "\n",
        "hdata"
      ],
      "metadata": {
        "id": "FVZS3_fb5LUm",
        "colab": {
          "base_uri": "https://localhost:8080/",
          "height": 644
        },
        "outputId": "320a1aa9-b480-4875-a8c9-d7d4a0f41d09"
      },
      "execution_count": 7,
      "outputs": [
        {
          "output_type": "execute_result",
          "data": {
            "text/plain": [
              "             CONTROL  AGE1  BEDRMS  PER REGION METRO3   LMED   FMR    L30  \\\n",
              "0     '734778500142'    56       4    2    '4'    '2'  70998  1925  18392   \n",
              "1     '730204310145'    54       6    4    '2'    '1'  62425  1199  18729   \n",
              "2     '295273830133'    39       4    4    '1'    '2'  91523  1819  27459   \n",
              "3     '301895590141'    49       5    3    '2'    '2'  70700  1216  19100   \n",
              "6     '466383110144'    40       3    5    '4'    '2'  96800  2213  36650   \n",
              "...              ...   ...     ...  ...    ...    ...    ...   ...    ...   \n",
              "3945  '299883930344'    57       3    2    '1'    '3'  71779  1095  17448   \n",
              "3946  '187812570142'    25       3    4    '3'    '1'  67900  1236  20350   \n",
              "3947  '280828360140'    67       3    6    '2'    '1'  83900  1143  29150   \n",
              "3948  '187827900149'    78       4    2    '3'    '1'  61239  1047  14818   \n",
              "3949  '187828980149'    -9       4   -6    '2'    '2'  83900  1284  17600   \n",
              "\n",
              "        L50  ...  FMTINCRELFMRCAT  FMTCOST06RELAMICAT  FMTCOST08RELAMICAT  \\\n",
              "0     30628  ...       '3 GT FMR'      '7 120% AMI +'      '7 120% AMI +'   \n",
              "1     31213  ...       '3 GT FMR'      '7 120% AMI +'      '7 120% AMI +'   \n",
              "2     45761  ...       '3 GT FMR'      '7 120% AMI +'      '7 120% AMI +'   \n",
              "3     31800  ...       '3 GT FMR'      '7 120% AMI +'      '7 120% AMI +'   \n",
              "6     61050  ...       '3 GT FMR'      '7 120% AMI +'      '7 120% AMI +'   \n",
              "...     ...  ...              ...                 ...                 ...   \n",
              "3945  29071  ...       '3 GT FMR'      '7 120% AMI +'      '7 120% AMI +'   \n",
              "3946  33950  ...       '3 GT FMR'   '5 80 - 100% AMI'   '5 80 - 100% AMI'   \n",
              "3947  48650  ...       '3 GT FMR'    '4 60 - 80% AMI'   '5 80 - 100% AMI'   \n",
              "3948  24711  ...       '3 GT FMR'    '4 60 - 80% AMI'    '4 60 - 80% AMI'   \n",
              "3949  29350  ...              '.'  '6 100 - 120% AMI'  '6 100 - 120% AMI'   \n",
              "\n",
              "      FMTCOST12RELAMICAT  FMTCOSTMEDRELAMICAT     FMTINCRELAMICAT  \\\n",
              "0         '7 120% AMI +'       '7 120% AMI +'      '7 120% AMI +'   \n",
              "1         '7 120% AMI +'       '7 120% AMI +'      '7 120% AMI +'   \n",
              "2         '7 120% AMI +'       '7 120% AMI +'      '7 120% AMI +'   \n",
              "3         '7 120% AMI +'       '7 120% AMI +'      '7 120% AMI +'   \n",
              "6         '7 120% AMI +'       '7 120% AMI +'      '7 120% AMI +'   \n",
              "...                  ...                  ...                 ...   \n",
              "3945      '7 120% AMI +'       '7 120% AMI +'      '7 120% AMI +'   \n",
              "3946      '7 120% AMI +'    '5 80 - 100% AMI'  '6 100 - 120% AMI'   \n",
              "3947  '6 100 - 120% AMI'     '4 60 - 80% AMI'      '7 120% AMI +'   \n",
              "3948   '5 80 - 100% AMI'     '4 60 - 80% AMI'   '5 80 - 100% AMI'   \n",
              "3949      '7 120% AMI +'    '5 80 - 100% AMI'                 '.'   \n",
              "\n",
              "      FMTASSISTED          FMTBURDEN FMTREGION  FMTSTATUS  \n",
              "0             '.'  '1 Less than 30%'    'West'       '-5'  \n",
              "1             '.'  '1 Less than 30%'      '-5'       '-5'  \n",
              "2             '.'  '1 Less than 30%'      '-5'       '-5'  \n",
              "3             '.'  '1 Less than 30%'      '-5'       '-5'  \n",
              "6             '.'  '1 Less than 30%'    'West'       '-5'  \n",
              "...           ...                ...       ...        ...  \n",
              "3945          '.'  '1 Less than 30%'      '-5'       '-5'  \n",
              "3946          '.'  '1 Less than 30%'      '-5'       '-5'  \n",
              "3947          '.'  '1 Less than 30%'      '-5'       '-5'  \n",
              "3948          '.'  '1 Less than 30%'      '-5'       '-5'  \n",
              "3949          '.'                '.'      '-5'       '-5'  \n",
              "\n",
              "[2331 rows x 100 columns]"
            ],
            "text/html": [
              "\n",
              "  <div id=\"df-1330524d-e457-48c4-9dd7-bd15df1fedc8\">\n",
              "    <div class=\"colab-df-container\">\n",
              "      <div>\n",
              "<style scoped>\n",
              "    .dataframe tbody tr th:only-of-type {\n",
              "        vertical-align: middle;\n",
              "    }\n",
              "\n",
              "    .dataframe tbody tr th {\n",
              "        vertical-align: top;\n",
              "    }\n",
              "\n",
              "    .dataframe thead th {\n",
              "        text-align: right;\n",
              "    }\n",
              "</style>\n",
              "<table border=\"1\" class=\"dataframe\">\n",
              "  <thead>\n",
              "    <tr style=\"text-align: right;\">\n",
              "      <th></th>\n",
              "      <th>CONTROL</th>\n",
              "      <th>AGE1</th>\n",
              "      <th>BEDRMS</th>\n",
              "      <th>PER</th>\n",
              "      <th>REGION</th>\n",
              "      <th>METRO3</th>\n",
              "      <th>LMED</th>\n",
              "      <th>FMR</th>\n",
              "      <th>L30</th>\n",
              "      <th>L50</th>\n",
              "      <th>...</th>\n",
              "      <th>FMTINCRELFMRCAT</th>\n",
              "      <th>FMTCOST06RELAMICAT</th>\n",
              "      <th>FMTCOST08RELAMICAT</th>\n",
              "      <th>FMTCOST12RELAMICAT</th>\n",
              "      <th>FMTCOSTMEDRELAMICAT</th>\n",
              "      <th>FMTINCRELAMICAT</th>\n",
              "      <th>FMTASSISTED</th>\n",
              "      <th>FMTBURDEN</th>\n",
              "      <th>FMTREGION</th>\n",
              "      <th>FMTSTATUS</th>\n",
              "    </tr>\n",
              "  </thead>\n",
              "  <tbody>\n",
              "    <tr>\n",
              "      <th>0</th>\n",
              "      <td>'734778500142'</td>\n",
              "      <td>56</td>\n",
              "      <td>4</td>\n",
              "      <td>2</td>\n",
              "      <td>'4'</td>\n",
              "      <td>'2'</td>\n",
              "      <td>70998</td>\n",
              "      <td>1925</td>\n",
              "      <td>18392</td>\n",
              "      <td>30628</td>\n",
              "      <td>...</td>\n",
              "      <td>'3 GT FMR'</td>\n",
              "      <td>'7 120% AMI +'</td>\n",
              "      <td>'7 120% AMI +'</td>\n",
              "      <td>'7 120% AMI +'</td>\n",
              "      <td>'7 120% AMI +'</td>\n",
              "      <td>'7 120% AMI +'</td>\n",
              "      <td>'.'</td>\n",
              "      <td>'1 Less than 30%'</td>\n",
              "      <td>'West'</td>\n",
              "      <td>'-5'</td>\n",
              "    </tr>\n",
              "    <tr>\n",
              "      <th>1</th>\n",
              "      <td>'730204310145'</td>\n",
              "      <td>54</td>\n",
              "      <td>6</td>\n",
              "      <td>4</td>\n",
              "      <td>'2'</td>\n",
              "      <td>'1'</td>\n",
              "      <td>62425</td>\n",
              "      <td>1199</td>\n",
              "      <td>18729</td>\n",
              "      <td>31213</td>\n",
              "      <td>...</td>\n",
              "      <td>'3 GT FMR'</td>\n",
              "      <td>'7 120% AMI +'</td>\n",
              "      <td>'7 120% AMI +'</td>\n",
              "      <td>'7 120% AMI +'</td>\n",
              "      <td>'7 120% AMI +'</td>\n",
              "      <td>'7 120% AMI +'</td>\n",
              "      <td>'.'</td>\n",
              "      <td>'1 Less than 30%'</td>\n",
              "      <td>'-5'</td>\n",
              "      <td>'-5'</td>\n",
              "    </tr>\n",
              "    <tr>\n",
              "      <th>2</th>\n",
              "      <td>'295273830133'</td>\n",
              "      <td>39</td>\n",
              "      <td>4</td>\n",
              "      <td>4</td>\n",
              "      <td>'1'</td>\n",
              "      <td>'2'</td>\n",
              "      <td>91523</td>\n",
              "      <td>1819</td>\n",
              "      <td>27459</td>\n",
              "      <td>45761</td>\n",
              "      <td>...</td>\n",
              "      <td>'3 GT FMR'</td>\n",
              "      <td>'7 120% AMI +'</td>\n",
              "      <td>'7 120% AMI +'</td>\n",
              "      <td>'7 120% AMI +'</td>\n",
              "      <td>'7 120% AMI +'</td>\n",
              "      <td>'7 120% AMI +'</td>\n",
              "      <td>'.'</td>\n",
              "      <td>'1 Less than 30%'</td>\n",
              "      <td>'-5'</td>\n",
              "      <td>'-5'</td>\n",
              "    </tr>\n",
              "    <tr>\n",
              "      <th>3</th>\n",
              "      <td>'301895590141'</td>\n",
              "      <td>49</td>\n",
              "      <td>5</td>\n",
              "      <td>3</td>\n",
              "      <td>'2'</td>\n",
              "      <td>'2'</td>\n",
              "      <td>70700</td>\n",
              "      <td>1216</td>\n",
              "      <td>19100</td>\n",
              "      <td>31800</td>\n",
              "      <td>...</td>\n",
              "      <td>'3 GT FMR'</td>\n",
              "      <td>'7 120% AMI +'</td>\n",
              "      <td>'7 120% AMI +'</td>\n",
              "      <td>'7 120% AMI +'</td>\n",
              "      <td>'7 120% AMI +'</td>\n",
              "      <td>'7 120% AMI +'</td>\n",
              "      <td>'.'</td>\n",
              "      <td>'1 Less than 30%'</td>\n",
              "      <td>'-5'</td>\n",
              "      <td>'-5'</td>\n",
              "    </tr>\n",
              "    <tr>\n",
              "      <th>6</th>\n",
              "      <td>'466383110144'</td>\n",
              "      <td>40</td>\n",
              "      <td>3</td>\n",
              "      <td>5</td>\n",
              "      <td>'4'</td>\n",
              "      <td>'2'</td>\n",
              "      <td>96800</td>\n",
              "      <td>2213</td>\n",
              "      <td>36650</td>\n",
              "      <td>61050</td>\n",
              "      <td>...</td>\n",
              "      <td>'3 GT FMR'</td>\n",
              "      <td>'7 120% AMI +'</td>\n",
              "      <td>'7 120% AMI +'</td>\n",
              "      <td>'7 120% AMI +'</td>\n",
              "      <td>'7 120% AMI +'</td>\n",
              "      <td>'7 120% AMI +'</td>\n",
              "      <td>'.'</td>\n",
              "      <td>'1 Less than 30%'</td>\n",
              "      <td>'West'</td>\n",
              "      <td>'-5'</td>\n",
              "    </tr>\n",
              "    <tr>\n",
              "      <th>...</th>\n",
              "      <td>...</td>\n",
              "      <td>...</td>\n",
              "      <td>...</td>\n",
              "      <td>...</td>\n",
              "      <td>...</td>\n",
              "      <td>...</td>\n",
              "      <td>...</td>\n",
              "      <td>...</td>\n",
              "      <td>...</td>\n",
              "      <td>...</td>\n",
              "      <td>...</td>\n",
              "      <td>...</td>\n",
              "      <td>...</td>\n",
              "      <td>...</td>\n",
              "      <td>...</td>\n",
              "      <td>...</td>\n",
              "      <td>...</td>\n",
              "      <td>...</td>\n",
              "      <td>...</td>\n",
              "      <td>...</td>\n",
              "      <td>...</td>\n",
              "    </tr>\n",
              "    <tr>\n",
              "      <th>3945</th>\n",
              "      <td>'299883930344'</td>\n",
              "      <td>57</td>\n",
              "      <td>3</td>\n",
              "      <td>2</td>\n",
              "      <td>'1'</td>\n",
              "      <td>'3'</td>\n",
              "      <td>71779</td>\n",
              "      <td>1095</td>\n",
              "      <td>17448</td>\n",
              "      <td>29071</td>\n",
              "      <td>...</td>\n",
              "      <td>'3 GT FMR'</td>\n",
              "      <td>'7 120% AMI +'</td>\n",
              "      <td>'7 120% AMI +'</td>\n",
              "      <td>'7 120% AMI +'</td>\n",
              "      <td>'7 120% AMI +'</td>\n",
              "      <td>'7 120% AMI +'</td>\n",
              "      <td>'.'</td>\n",
              "      <td>'1 Less than 30%'</td>\n",
              "      <td>'-5'</td>\n",
              "      <td>'-5'</td>\n",
              "    </tr>\n",
              "    <tr>\n",
              "      <th>3946</th>\n",
              "      <td>'187812570142'</td>\n",
              "      <td>25</td>\n",
              "      <td>3</td>\n",
              "      <td>4</td>\n",
              "      <td>'3'</td>\n",
              "      <td>'1'</td>\n",
              "      <td>67900</td>\n",
              "      <td>1236</td>\n",
              "      <td>20350</td>\n",
              "      <td>33950</td>\n",
              "      <td>...</td>\n",
              "      <td>'3 GT FMR'</td>\n",
              "      <td>'5 80 - 100% AMI'</td>\n",
              "      <td>'5 80 - 100% AMI'</td>\n",
              "      <td>'7 120% AMI +'</td>\n",
              "      <td>'5 80 - 100% AMI'</td>\n",
              "      <td>'6 100 - 120% AMI'</td>\n",
              "      <td>'.'</td>\n",
              "      <td>'1 Less than 30%'</td>\n",
              "      <td>'-5'</td>\n",
              "      <td>'-5'</td>\n",
              "    </tr>\n",
              "    <tr>\n",
              "      <th>3947</th>\n",
              "      <td>'280828360140'</td>\n",
              "      <td>67</td>\n",
              "      <td>3</td>\n",
              "      <td>6</td>\n",
              "      <td>'2'</td>\n",
              "      <td>'1'</td>\n",
              "      <td>83900</td>\n",
              "      <td>1143</td>\n",
              "      <td>29150</td>\n",
              "      <td>48650</td>\n",
              "      <td>...</td>\n",
              "      <td>'3 GT FMR'</td>\n",
              "      <td>'4 60 - 80% AMI'</td>\n",
              "      <td>'5 80 - 100% AMI'</td>\n",
              "      <td>'6 100 - 120% AMI'</td>\n",
              "      <td>'4 60 - 80% AMI'</td>\n",
              "      <td>'7 120% AMI +'</td>\n",
              "      <td>'.'</td>\n",
              "      <td>'1 Less than 30%'</td>\n",
              "      <td>'-5'</td>\n",
              "      <td>'-5'</td>\n",
              "    </tr>\n",
              "    <tr>\n",
              "      <th>3948</th>\n",
              "      <td>'187827900149'</td>\n",
              "      <td>78</td>\n",
              "      <td>4</td>\n",
              "      <td>2</td>\n",
              "      <td>'3'</td>\n",
              "      <td>'1'</td>\n",
              "      <td>61239</td>\n",
              "      <td>1047</td>\n",
              "      <td>14818</td>\n",
              "      <td>24711</td>\n",
              "      <td>...</td>\n",
              "      <td>'3 GT FMR'</td>\n",
              "      <td>'4 60 - 80% AMI'</td>\n",
              "      <td>'4 60 - 80% AMI'</td>\n",
              "      <td>'5 80 - 100% AMI'</td>\n",
              "      <td>'4 60 - 80% AMI'</td>\n",
              "      <td>'5 80 - 100% AMI'</td>\n",
              "      <td>'.'</td>\n",
              "      <td>'1 Less than 30%'</td>\n",
              "      <td>'-5'</td>\n",
              "      <td>'-5'</td>\n",
              "    </tr>\n",
              "    <tr>\n",
              "      <th>3949</th>\n",
              "      <td>'187828980149'</td>\n",
              "      <td>-9</td>\n",
              "      <td>4</td>\n",
              "      <td>-6</td>\n",
              "      <td>'2'</td>\n",
              "      <td>'2'</td>\n",
              "      <td>83900</td>\n",
              "      <td>1284</td>\n",
              "      <td>17600</td>\n",
              "      <td>29350</td>\n",
              "      <td>...</td>\n",
              "      <td>'.'</td>\n",
              "      <td>'6 100 - 120% AMI'</td>\n",
              "      <td>'6 100 - 120% AMI'</td>\n",
              "      <td>'7 120% AMI +'</td>\n",
              "      <td>'5 80 - 100% AMI'</td>\n",
              "      <td>'.'</td>\n",
              "      <td>'.'</td>\n",
              "      <td>'.'</td>\n",
              "      <td>'-5'</td>\n",
              "      <td>'-5'</td>\n",
              "    </tr>\n",
              "  </tbody>\n",
              "</table>\n",
              "<p>2331 rows × 100 columns</p>\n",
              "</div>\n",
              "      <button class=\"colab-df-convert\" onclick=\"convertToInteractive('df-1330524d-e457-48c4-9dd7-bd15df1fedc8')\"\n",
              "              title=\"Convert this dataframe to an interactive table.\"\n",
              "              style=\"display:none;\">\n",
              "        \n",
              "  <svg xmlns=\"http://www.w3.org/2000/svg\" height=\"24px\"viewBox=\"0 0 24 24\"\n",
              "       width=\"24px\">\n",
              "    <path d=\"M0 0h24v24H0V0z\" fill=\"none\"/>\n",
              "    <path d=\"M18.56 5.44l.94 2.06.94-2.06 2.06-.94-2.06-.94-.94-2.06-.94 2.06-2.06.94zm-11 1L8.5 8.5l.94-2.06 2.06-.94-2.06-.94L8.5 2.5l-.94 2.06-2.06.94zm10 10l.94 2.06.94-2.06 2.06-.94-2.06-.94-.94-2.06-.94 2.06-2.06.94z\"/><path d=\"M17.41 7.96l-1.37-1.37c-.4-.4-.92-.59-1.43-.59-.52 0-1.04.2-1.43.59L10.3 9.45l-7.72 7.72c-.78.78-.78 2.05 0 2.83L4 21.41c.39.39.9.59 1.41.59.51 0 1.02-.2 1.41-.59l7.78-7.78 2.81-2.81c.8-.78.8-2.07 0-2.86zM5.41 20L4 18.59l7.72-7.72 1.47 1.35L5.41 20z\"/>\n",
              "  </svg>\n",
              "      </button>\n",
              "      \n",
              "  <style>\n",
              "    .colab-df-container {\n",
              "      display:flex;\n",
              "      flex-wrap:wrap;\n",
              "      gap: 12px;\n",
              "    }\n",
              "\n",
              "    .colab-df-convert {\n",
              "      background-color: #E8F0FE;\n",
              "      border: none;\n",
              "      border-radius: 50%;\n",
              "      cursor: pointer;\n",
              "      display: none;\n",
              "      fill: #1967D2;\n",
              "      height: 32px;\n",
              "      padding: 0 0 0 0;\n",
              "      width: 32px;\n",
              "    }\n",
              "\n",
              "    .colab-df-convert:hover {\n",
              "      background-color: #E2EBFA;\n",
              "      box-shadow: 0px 1px 2px rgba(60, 64, 67, 0.3), 0px 1px 3px 1px rgba(60, 64, 67, 0.15);\n",
              "      fill: #174EA6;\n",
              "    }\n",
              "\n",
              "    [theme=dark] .colab-df-convert {\n",
              "      background-color: #3B4455;\n",
              "      fill: #D2E3FC;\n",
              "    }\n",
              "\n",
              "    [theme=dark] .colab-df-convert:hover {\n",
              "      background-color: #434B5C;\n",
              "      box-shadow: 0px 1px 3px 1px rgba(0, 0, 0, 0.15);\n",
              "      filter: drop-shadow(0px 1px 2px rgba(0, 0, 0, 0.3));\n",
              "      fill: #FFFFFF;\n",
              "    }\n",
              "  </style>\n",
              "\n",
              "      <script>\n",
              "        const buttonEl =\n",
              "          document.querySelector('#df-1330524d-e457-48c4-9dd7-bd15df1fedc8 button.colab-df-convert');\n",
              "        buttonEl.style.display =\n",
              "          google.colab.kernel.accessAllowed ? 'block' : 'none';\n",
              "\n",
              "        async function convertToInteractive(key) {\n",
              "          const element = document.querySelector('#df-1330524d-e457-48c4-9dd7-bd15df1fedc8');\n",
              "          const dataTable =\n",
              "            await google.colab.kernel.invokeFunction('convertToInteractive',\n",
              "                                                     [key], {});\n",
              "          if (!dataTable) return;\n",
              "\n",
              "          const docLinkHtml = 'Like what you see? Visit the ' +\n",
              "            '<a target=\"_blank\" href=https://colab.research.google.com/notebooks/data_table.ipynb>data table notebook</a>'\n",
              "            + ' to learn more about interactive tables.';\n",
              "          element.innerHTML = '';\n",
              "          dataTable['output_type'] = 'display_data';\n",
              "          await google.colab.output.renderOutput(dataTable, element);\n",
              "          const docLink = document.createElement('div');\n",
              "          docLink.innerHTML = docLinkHtml;\n",
              "          element.appendChild(docLink);\n",
              "        }\n",
              "      </script>\n",
              "    </div>\n",
              "  </div>\n",
              "  "
            ]
          },
          "metadata": {},
          "execution_count": 7
        }
      ]
    },
    {
      "cell_type": "markdown",
      "source": [
        "# Q1\n",
        "How does the housing quality vary across different regions? (ZADEQ, REGION)"
      ],
      "metadata": {
        "id": "XwFIjYAJJcMy"
      }
    },
    {
      "cell_type": "code",
      "source": [
        "import re\n",
        "\n",
        "# Define a function to clean and replace values in 'ZADEQ' column \n",
        "# bcecoues there r 2 values that hv the same meaning \"2\" and '2'.\n",
        "def clean_zadeq(value):\n",
        "    if re.match(r\"^\\s*'2'?\\s*$\", value):\n",
        "        return '2'\n",
        "    else:\n",
        "        return value\n",
        "\n",
        "hdata['ZADEQ'] = hdata['ZADEQ'].apply(clean_zadeq)\n",
        "\n",
        "hdata['ZADEQ'] = hdata['ZADEQ'].replace('-', np.nan)\n"
      ],
      "metadata": {
        "id": "AwqFNmLfLPt4"
      },
      "execution_count": 8,
      "outputs": []
    },
    {
      "cell_type": "code",
      "source": [
        "## Get the unique values in the 'ZADEQ' column to make sure data is clean\n",
        "unique_values = hdata['ZADEQ'].unique()\n",
        "\n",
        "print(\"Unique values in 'ZADEQ' column:\", unique_values)\n"
      ],
      "metadata": {
        "colab": {
          "base_uri": "https://localhost:8080/"
        },
        "id": "7nPA4CweQl8Z",
        "outputId": "c7507273-d36d-42e4-b775-3e3706046bbe"
      },
      "execution_count": 9,
      "outputs": [
        {
          "output_type": "stream",
          "name": "stdout",
          "text": [
            "Unique values in 'ZADEQ' column: [\"'1'\" '2' \"'-6'\" \"'3'\"]\n"
          ]
        }
      ]
    },
    {
      "cell_type": "code",
      "source": [
        "# Group the data by 'REGION' and 'ZADEQ' and count the number of occurrences\n",
        "counts = hdata.groupby(['REGION', 'ZADEQ']).size().reset_index(name='count')\n",
        "\n",
        "Q1 = counts.pivot(index='REGION', columns='ZADEQ', values='count')\n",
        "\n",
        "# Fill missing values with 0\n",
        "Q1 = Q1.fillna(0)\n",
        "\n",
        "# Rename the columns to proppr naming\n",
        "Q1 = Q1.rename(columns={\"'1'\": \"Highly Adequate\", \"2\": \"Middle Adequate\", \"'3'\": \"Low Adequate\"})\n",
        "Q1 = Q1.reindex(columns=[\"Highly Adequate\", \"Middle Adequate\", \"Low Adequate\"])\n",
        "\n",
        "print(Q1)\n",
        "\n"
      ],
      "metadata": {
        "colab": {
          "base_uri": "https://localhost:8080/"
        },
        "id": "UeHviPFWUaCT",
        "outputId": "f5f3588b-738d-46a0-82e2-301512dd2687"
      },
      "execution_count": 10,
      "outputs": [
        {
          "output_type": "stream",
          "name": "stdout",
          "text": [
            "ZADEQ   Highly Adequate  Middle Adequate  Low Adequate\n",
            "REGION                                                \n",
            "'1'                 589                9             4\n",
            "'2'                 462                6             2\n",
            "'3'                 606                4             2\n",
            "'4'                 511                4             4\n"
          ]
        }
      ]
    },
    {
      "cell_type": "code",
      "source": [
        "# Calculate the total count of units in each region\n",
        "total_counts = Q1.sum(axis=1)\n",
        "\n",
        "# Calculate the percentage of highly adequate units in each region\n",
        "percentage_highly_adequate = (Q1[\"Highly Adequate\"] / total_counts) * 100\n",
        "\n",
        "# Display the resulting percentages\n",
        "print(\"Percentage of Highly Adequate Units in Each Region:\")\n",
        "print(percentage_highly_adequate)\n"
      ],
      "metadata": {
        "colab": {
          "base_uri": "https://localhost:8080/"
        },
        "id": "7mTV3tojQvWo",
        "outputId": "63874e29-2b77-47e9-9c41-df72276399c0"
      },
      "execution_count": 12,
      "outputs": [
        {
          "output_type": "stream",
          "name": "stdout",
          "text": [
            "Percentage of Highly Adequate Units in Each Region:\n",
            "REGION\n",
            "'1'    97.840532\n",
            "'2'    98.297872\n",
            "'3'    99.019608\n",
            "'4'    98.458574\n",
            "dtype: float64\n"
          ]
        }
      ]
    },
    {
      "cell_type": "markdown",
      "source": [
        "# Q2\n",
        "which housing unit has the most number of rooms and has an under-average value? (CONTROL, ROOMS, VALUE)\n",
        "\n"
      ],
      "metadata": {
        "id": "wZP0UItCE4ND"
      }
    },
    {
      "cell_type": "code",
      "source": [
        "# Calculate the average value\n",
        "\n",
        "hdata['VALUE'] = hdata['VALUE'].replace('-', np.nan)\n",
        "average_value = hdata['VALUE'].mean()\n",
        "\n",
        "# Filter to under the average and positive value\n",
        "filtered_data = hdata[(hdata['VALUE'] < average_value) & (hdata['VALUE'] >= 0)]\n",
        "\n",
        "# Find the unit with the most rooms\n",
        "housing_unit = filtered_data[filtered_data['ROOMS'] == filtered_data['ROOMS'].max()]\n",
        "\n",
        "print(housing_unit[['CONTROL', 'ROOMS', 'VALUE']])\n",
        "\n",
        "print(average_value)\n"
      ],
      "metadata": {
        "colab": {
          "base_uri": "https://localhost:8080/"
        },
        "id": "3xvORKA8-WaC",
        "outputId": "3d5d806a-cc64-4fd8-f23c-940d0f2e17d3"
      },
      "execution_count": 13,
      "outputs": [
        {
          "output_type": "stream",
          "name": "stdout",
          "text": [
            "            CONTROL  ROOMS   VALUE\n",
            "455  '184502790140'     14  200000\n",
            "504217.58601458604\n"
          ]
        }
      ]
    },
    {
      "cell_type": "markdown",
      "source": [
        "# Q3\n",
        "How does the housing quality vary across different year ranges? (FMTZADEQ, FMTBUILT) \n"
      ],
      "metadata": {
        "id": "qA3gP56FJU2D"
      }
    },
    {
      "cell_type": "code",
      "source": [
        "unique_values = hdata['FMTBUILT'].unique()\n",
        "print(unique_values)\n",
        "\n",
        "\n",
        "# Remove rows with '-5' in the 'FMTBUILT' column\n",
        "hdata = hdata[hdata['FMTBUILT'] != \"'-5'\"]\n",
        "\n",
        "# Display the filtered data\n",
        "print(hdata[['CONTROL', 'FMTBUILT']])\n"
      ],
      "metadata": {
        "colab": {
          "base_uri": "https://localhost:8080/"
        },
        "id": "WIo5F0OaGZs5",
        "outputId": "bcaafe9d-ac10-4eef-9994-2c63d29cdbfb"
      },
      "execution_count": 14,
      "outputs": [
        {
          "output_type": "stream",
          "name": "stdout",
          "text": [
            "[\"'2000-2009'\" \"'1990-1999'\" \"'1960-1979'\" \"'1980-1989'\" \"'1940-1959'\"\n",
            " \"'-5'\"]\n",
            "             CONTROL     FMTBUILT\n",
            "0     '734778500142'  '2000-2009'\n",
            "1     '730204310145'  '1990-1999'\n",
            "2     '295273830133'  '1960-1979'\n",
            "3     '301895590141'  '1980-1989'\n",
            "6     '466383110144'  '1960-1979'\n",
            "...              ...          ...\n",
            "3939  '730783800149'  '1990-1999'\n",
            "3944  '288127700140'  '1960-1979'\n",
            "3945  '299883930344'  '1960-1979'\n",
            "3947  '280828360140'  '1960-1979'\n",
            "3949  '187828980149'  '1960-1979'\n",
            "\n",
            "[2060 rows x 2 columns]\n"
          ]
        }
      ]
    },
    {
      "cell_type": "code",
      "source": [
        "\n",
        "# Remove rows with '-5' in the 'FMTZADEQ' column\n",
        "hdata  = hdata [hdata ['FMTZADEQ'] != \"'-5'\"]\n",
        "\n",
        "# Display the filtered data\n",
        "print(hdata [ 'FMTZADEQ'])\n",
        "\n",
        "\n",
        "unique_values = hdata['FMTZADEQ'].unique()\n",
        "print(unique_values)\n"
      ],
      "metadata": {
        "colab": {
          "base_uri": "https://localhost:8080/"
        },
        "id": "HHMMFM3LH9-l",
        "outputId": "8fb07826-5964-414a-dde3-397159717c0f"
      },
      "execution_count": 15,
      "outputs": [
        {
          "output_type": "stream",
          "name": "stdout",
          "text": [
            "0                 '1 Adequate'\n",
            "1                 '1 Adequate'\n",
            "2                 '1 Adequate'\n",
            "3                 '1 Adequate'\n",
            "6                 '1 Adequate'\n",
            "                 ...          \n",
            "3938              '1 Adequate'\n",
            "3939              '1 Adequate'\n",
            "3944              '1 Adequate'\n",
            "3945              '1 Adequate'\n",
            "3947    '2 Moderately Inadequ'\n",
            "Name: FMTZADEQ, Length: 1950, dtype: object\n",
            "[\"'1 Adequate'\" \"'2 Moderately Inadequ'\" \"'3 Severely Indadequa'\"]\n"
          ]
        }
      ]
    },
    {
      "cell_type": "code",
      "source": [
        "# Clean the column\n",
        "hdata['FMTZADEQ'] = hdata['FMTZADEQ'].str.replace(\"'\", \"\")\n",
        "\n",
        "# Group the data by 'FMTBUILT' and 'FMTZADEQ' \n",
        "grouped_counts = hdata.groupby(['FMTBUILT', 'FMTZADEQ']).size().reset_index(name='count')\n",
        "\n",
        "Q3 = grouped_counts.pivot(index='FMTZADEQ', columns='FMTBUILT', values='count')\n",
        "\n",
        "# Sort the columns \n",
        "Q3 = Q3.reindex(sorted(Q3.columns), axis=1)\n",
        "\n",
        "print(Q3)\n"
      ],
      "metadata": {
        "colab": {
          "base_uri": "https://localhost:8080/"
        },
        "id": "Mcn4LPjEeEVl",
        "outputId": "058bf3d3-ea18-42bc-b5ad-a4aec6dfc287"
      },
      "execution_count": 16,
      "outputs": [
        {
          "output_type": "stream",
          "name": "stdout",
          "text": [
            "FMTBUILT              '1940-1959'  '1960-1979'  '1980-1989'  '1990-1999'  \\\n",
            "FMTZADEQ                                                                   \n",
            "1 Adequate                  228.0        473.0        288.0        447.0   \n",
            "2 Moderately Inadequ          5.0          4.0          2.0          3.0   \n",
            "3 Severely Indadequa          1.0          4.0          1.0          NaN   \n",
            "\n",
            "FMTBUILT              '2000-2009'  \n",
            "FMTZADEQ                           \n",
            "1 Adequate                  492.0  \n",
            "2 Moderately Inadequ          1.0  \n",
            "3 Severely Indadequa          1.0  \n"
          ]
        }
      ]
    },
    {
      "cell_type": "markdown",
      "source": [
        "# Q4\n",
        "what is the relationship between the number of people per unit and the monthly utility cost? (UTILITY, PER)\n"
      ],
      "metadata": {
        "id": "8VlQfyOFOjEk"
      }
    },
    {
      "cell_type": "code",
      "source": [
        "import pandas as pd\n",
        "\n",
        "# Calculate the correlation coefficient\n",
        "correlation = hdata['PER'].corr(hdata['UTILITY'])\n",
        "\n",
        "print(\"Correlation coefficient between 'PER' and 'UTILITY':\", correlation)\n"
      ],
      "metadata": {
        "colab": {
          "base_uri": "https://localhost:8080/"
        },
        "id": "JpmQobKLhr-B",
        "outputId": "57b56a20-abbe-46d6-bf3c-613ba5b006b5"
      },
      "execution_count": 17,
      "outputs": [
        {
          "output_type": "stream",
          "name": "stdout",
          "text": [
            "Correlation coefficient between 'PER' and 'UTILITY': 0.2657760945756594\n"
          ]
        }
      ]
    },
    {
      "cell_type": "markdown",
      "source": [
        "Data Visuallisation:"
      ],
      "metadata": {
        "id": "dps3PspjiCN3"
      }
    },
    {
      "cell_type": "code",
      "source": [
        "import matplotlib.pyplot as plt\n",
        "\n",
        "# Create a scatter plot of 'PER' vs 'UTILITY'\n",
        "plt.scatter(hdata['PER'], hdata['UTILITY'])\n",
        "\n",
        "# Set plot labels and title\n",
        "plt.xlabel('Number of People per Unit')\n",
        "plt.ylabel('Monthly Utility Cost')\n",
        "plt.title('Relationship between Number of People per Unit and Monthly Utility Cost')\n",
        "\n",
        "# Show the plot\n",
        "plt.show()\n"
      ],
      "metadata": {
        "colab": {
          "base_uri": "https://localhost:8080/",
          "height": 0
        },
        "id": "h1zUzBW1OlHD",
        "outputId": "cbbc125f-b3cb-4d55-9751-89f8f7eff45e"
      },
      "execution_count": 18,
      "outputs": [
        {
          "output_type": "display_data",
          "data": {
            "text/plain": [
              "<Figure size 640x480 with 1 Axes>"
            ],
            "image/png": "[encoded data removed]"
          },
          "metadata": {}
        }
      ]
    },
    {
      "cell_type": "markdown",
      "source": [
        "# Q5\n",
        "Are there any significant differences in the adequacy of the housing unit and the Location? (METRO3, FMTZADEQ)\n",
        "METRO3 indicates whether a housing unit is located in a central city, suburb, or outside a metropolitan area. "
      ],
      "metadata": {
        "id": "Xt7WlqCvPKYx"
      }
    },
    {
      "cell_type": "code",
      "source": [
        "# Compute cross-tabulation of METRO3 and FMTZADEQ\n",
        "cross_tab = pd.crosstab(hdata['METRO3'], hdata['FMTZADEQ'], dropna=False)\n",
        "print(cross_tab)"
      ],
      "metadata": {
        "colab": {
          "base_uri": "https://localhost:8080/"
        },
        "id": "zDQq3hkgPNF2",
        "outputId": "11d47dfb-22f3-42f5-8ea9-abeea5eb3a5d"
      },
      "execution_count": 20,
      "outputs": [
        {
          "output_type": "stream",
          "name": "stdout",
          "text": [
            "FMTZADEQ  1 Adequate  2 Moderately Inadequ  3 Severely Indadequa\n",
            "METRO3                                                          \n",
            "'1'              357                     5                     4\n",
            "'2'             1020                     7                     3\n",
            "'3'              364                     3                     0\n",
            "'4'               71                     0                     0\n",
            "'5'              116                     0                     0\n"
          ]
        }
      ]
    },
    {
      "cell_type": "markdown",
      "source": [
        "# Q6\n",
        "How does the quality of housing vary based on the number of occupants in a housing unit? (PER, FMTZADEQ)\n"
      ],
      "metadata": {
        "id": "mDq2fgEBVRHY"
      }
    },
    {
      "cell_type": "code",
      "source": [
        "# Group the data by 'PER' and 'FMTZADEQ' \n",
        "grouped_counts = hdata.groupby(['PER', 'FMTZADEQ']).size().reset_index(name='count')\n",
        "\n",
        "Q6 = grouped_counts.pivot(index='PER', columns='FMTZADEQ', values='count')\n",
        "Q6 = Q6.reindex(sorted(Q6.columns), axis=1)\n",
        "\n",
        "print(Q6)\n"
      ],
      "metadata": {
        "colab": {
          "base_uri": "https://localhost:8080/"
        },
        "id": "Ofqdy6xAVTTd",
        "outputId": "e11c013a-fb30-41af-c502-15f3ae9d96c5"
      },
      "execution_count": 21,
      "outputs": [
        {
          "output_type": "stream",
          "name": "stdout",
          "text": [
            "FMTZADEQ  1 Adequate  2 Moderately Inadequ  3 Severely Indadequa\n",
            "PER                                                             \n",
            "1              120.0                   3.0                   1.0\n",
            "2              687.0                   3.0                   1.0\n",
            "3              350.0                   3.0                   NaN\n",
            "4              465.0                   3.0                   5.0\n",
            "5              211.0                   1.0                   NaN\n",
            "6               63.0                   2.0                   NaN\n",
            "7               25.0                   NaN                   NaN\n",
            "8                4.0                   NaN                   NaN\n",
            "9                2.0                   NaN                   NaN\n",
            "10               1.0                   NaN                   NaN\n"
          ]
        }
      ]
    },
    {
      "cell_type": "markdown",
      "source": [
        "# Q7\n",
        "Are there any disparities in housing adequacy across income groups?(ZINC2,FMTZADEQ)\n",
        "\n",
        "\n",
        "\n"
      ],
      "metadata": {
        "id": "Fc_c58liXsgv"
      }
    },
    {
      "cell_type": "code",
      "source": [
        "# clean 'ZINC2' column\n",
        "hdata = hdata[hdata['ZINC2'] >= 0]\n",
        "print(hdata[['ZINC2']])\n"
      ],
      "metadata": {
        "colab": {
          "base_uri": "https://localhost:8080/"
        },
        "id": "xyJR0y8nZmMe",
        "outputId": "72441ad8-8eed-4cb6-bd5f-f6b744c8ed9d"
      },
      "execution_count": 23,
      "outputs": [
        {
          "output_type": "stream",
          "name": "stdout",
          "text": [
            "       ZINC2\n",
            "0     785402\n",
            "1     742441\n",
            "2     725402\n",
            "3     695402\n",
            "6     691480\n",
            "...      ...\n",
            "3938  176000\n",
            "3939  176000\n",
            "3944  175800\n",
            "3945  175600\n",
            "3947  175538\n",
            "\n",
            "[1949 rows x 1 columns]\n"
          ]
        }
      ]
    },
    {
      "cell_type": "code",
      "source": [
        "# Create income classes\n",
        "income_classes = ['Low Income', 'Medium Income', 'High Income']\n",
        "\n",
        "# Group 'ZINC2' into income classes and create a new column 'IncomeGroup'\n",
        "hdata['IncomeGroup'] = pd.cut(hdata['ZINC2'], bins=[0, 30000, 70000, float('inf')], labels=income_classes)\n",
        "\n",
        "# Group the data by 'IncomeGroup' and 'FMTZADEQ'\n",
        "Q7 = hdata.groupby(['IncomeGroup', 'FMTZADEQ']).size().unstack()\n",
        "\n",
        "print(Q7)\n"
      ],
      "metadata": {
        "colab": {
          "base_uri": "https://localhost:8080/"
        },
        "id": "r5g1nGS-Xrpc",
        "outputId": "9e193e71-49cd-481a-a5e6-f7c7bf7e45d0"
      },
      "execution_count": 24,
      "outputs": [
        {
          "output_type": "stream",
          "name": "stdout",
          "text": [
            "FMTZADEQ       1 Adequate  2 Moderately Inadequ  3 Severely Indadequa\n",
            "IncomeGroup                                                          \n",
            "Low Income              0                     0                     0\n",
            "Medium Income           0                     0                     0\n",
            "High Income          1927                    15                     7\n"
          ]
        }
      ]
    },
    {
      "cell_type": "markdown",
      "source": [
        "# Data Visualisation "
      ],
      "metadata": {
        "id": "96AInHLXS51b"
      }
    },
    {
      "cell_type": "code",
      "source": [
        "region_adequacy_counts = hdata.groupby(['REGION', 'FMTZADEQ']).size().unstack()\n",
        "region_adequacy_counts.plot(kind='bar')\n",
        "plt.xlabel('Region')\n",
        "plt.ylabel('Count')\n",
        "plt.title('Housing Unit Adequacy by Region')\n",
        "plt.legend(title='Housing Adequacy')\n",
        "plt.show()\n"
      ],
      "metadata": {
        "colab": {
          "base_uri": "https://localhost:8080/",
          "height": 474
        },
        "id": "84xCgNfAT6w7",
        "outputId": "edfaabea-054f-4877-d9e9-2d8041287478"
      },
      "execution_count": 30,
      "outputs": [
        {
          "output_type": "display_data",
          "data": {
            "text/plain": [
              "<Figure size 640x480 with 1 Axes>"
            ],
            "image/png": "[encoded data removed]"
          },
          "metadata": {}
        }
      ]
    },
    {
      "cell_type": "code",
      "source": [
        "\n",
        "# Filter data for housing units with below-average value\n",
        "below_avg_value = hdata[hdata['VALUE'] < hdata['VALUE'].mean()]\n",
        "\n",
        "# Plotting\n",
        "plt.scatter(below_avg_value['ROOMS'], below_avg_value['VALUE'])\n",
        "plt.xlabel('Number of Rooms')\n",
        "plt.ylabel('Value')\n",
        "plt.title('Housing Units with Below-Average Value')\n",
        "plt.show()\n"
      ],
      "metadata": {
        "colab": {
          "base_uri": "https://localhost:8080/",
          "height": 472
        },
        "id": "AwAPOdUTU3h1",
        "outputId": "26ba542c-3029-4e59-9d35-8dad74b11cdc"
      },
      "execution_count": 33,
      "outputs": [
        {
          "output_type": "display_data",
          "data": {
            "text/plain": [
              "<Figure size 640x480 with 1 Axes>"
            ],
            "image/png": "[encoded data removed]"
          },
          "metadata": {}
        }
      ]
    },
    {
      "cell_type": "code",
      "source": [
        "import matplotlib.pyplot as plt\n",
        "\n",
        "# Group data by location and adequacy, and calculate counts\n",
        "grouped_counts = hdata.groupby(['METRO3', 'FMTZADEQ']).size().unstack()\n",
        "\n",
        "# Plotting\n",
        "grouped_counts.plot(kind='bar', stacked=True)\n",
        "plt.xlabel('Location')\n",
        "plt.ylabel('Count')\n",
        "plt.title('Housing Adequacy by Location')\n",
        "plt.legend(title='Adequacy')\n",
        "plt.show()\n"
      ],
      "metadata": {
        "colab": {
          "base_uri": "https://localhost:8080/",
          "height": 474
        },
        "id": "jTEILhn4U_4t",
        "outputId": "15633edb-a90e-488f-e051-7b8c5fe046df"
      },
      "execution_count": 38,
      "outputs": [
        {
          "output_type": "display_data",
          "data": {
            "text/plain": [
              "<Figure size 640x480 with 1 Axes>"
            ],
            "image/png": "[encoded data removed]"
          },
          "metadata": {}
        }
      ]
    },
    {
      "cell_type": "code",
      "source": [
        "import matplotlib.pyplot as plt\n",
        "\n",
        "# Group data by 'PER' and calculate average utility cost\n",
        "utility_costs = hdata.groupby('PER')['UTILITY'].mean()\n",
        "\n",
        "# Set up the line plot\n",
        "fig, ax = plt.subplots()\n",
        "\n",
        "ax.plot(utility_costs, color='red', marker='o', linestyle='-', linewidth=2)\n",
        "\n",
        "ax.set_xlabel('Number of Occupants')\n",
        "ax.set_ylabel('Average Utility Cost')\n",
        "ax.set_title('Relationship between Number of Occupants and Average Utility Cost')\n",
        "\n",
        "plt.show()\n"
      ],
      "metadata": {
        "colab": {
          "base_uri": "https://localhost:8080/",
          "height": 472
        },
        "id": "R4dnWDBkVOtV",
        "outputId": "a03846cb-230d-4e75-a48a-e9f9b9b7cddb"
      },
      "execution_count": 51,
      "outputs": [
        {
          "output_type": "display_data",
          "data": {
            "text/plain": [
              "<Figure size 640x480 with 1 Axes>"
            ],
            "image/png": "[encoded data removed]"
          },
          "metadata": {}
        }
      ]
    },
    {
      "cell_type": "code",
      "source": [
        "\n",
        "grouped_counts = hdata.groupby(['FMTBUILT', 'FMTZADEQ']).size().unstack()\n",
        "\n",
        "grouped_counts.plot(kind='bar')\n",
        "plt.xlabel('Year Range Built')\n",
        "plt.ylabel('Count')\n",
        "plt.title('Housing Quality by Year Range Built')\n",
        "plt.legend(title='Adequacy')\n",
        "plt.show()\n"
      ],
      "metadata": {
        "colab": {
          "base_uri": "https://localhost:8080/",
          "height": 541
        },
        "id": "7bQaSXQOV3K6",
        "outputId": "c509527e-4e31-446a-ea54-4e7347a26925"
      },
      "execution_count": 45,
      "outputs": [
        {
          "output_type": "display_data",
          "data": {
            "text/plain": [
              "<Figure size 640x480 with 1 Axes>"
            ],
            "image/png": "[encoded data removed]"
          },
          "metadata": {}
        }
      ]
    },
    {
      "cell_type": "markdown",
      "source": [
        "# remove noise columns"
      ],
      "metadata": {
        "id": "8qabaU3O4WJ9"
      }
    },
    {
      "cell_type": "code",
      "source": [
        "columns_to_keep = ['CONTROL', 'PER', 'REGION', 'METRO3',\n",
        "                   'VALUE', 'ZINC2', 'ROOMS', 'ZADEQ',\n",
        "                   'UTILITY', 'FMTZADEQ']\n",
        "\n",
        "# Drop all other columns\n",
        "hdata = hdata[columns_to_keep]\n",
        "hdata"
      ],
      "metadata": {
        "colab": {
          "base_uri": "https://localhost:8080/",
          "height": 423
        },
        "id": "7NKfU09b4cVl",
        "outputId": "ce3f1ff9-dfdf-4337-8200-c5c2bfb7bf3d"
      },
      "execution_count": null,
      "outputs": [
        {
          "output_type": "execute_result",
          "data": {
            "text/plain": [
              "             CONTROL  PER REGION METRO3    VALUE   ZINC2  ROOMS ZADEQ  \\\n",
              "0     '734778500142'    2    '4'    '2'  2465647  785402      9   '1'   \n",
              "1     '730204310145'    4    '2'    '1'   740000  742441     10   '1'   \n",
              "2     '295273830133'    4    '1'    '2'   450000  725402      9   '1'   \n",
              "3     '301895590141'    3    '2'    '2'   665000  695402      9   '1'   \n",
              "4     '100007130148'    2    '3'    '1'       -6   15600      5   '1'   \n",
              "...              ...  ...    ...    ...      ...     ...    ...   ...   \n",
              "9166  '730591550146'    3    '3'    '5'   125000  120000      6   '1'   \n",
              "9167  '400434500148'    4    '3'    '1'   660000  120000      6   '1'   \n",
              "9169  '688045370142'    2    '4'    '2'   265000  120000      6   '1'   \n",
              "9170  '736389050140'    1    '3'    '2'   180000  120000      6   '1'   \n",
              "9171  '688519790142'    2    '4'    '1'   150000  120000      6   '3'   \n",
              "\n",
              "          UTILITY    FMTZADEQ  \n",
              "0     1009.166667  1 Adequate  \n",
              "1      381.000000  1 Adequate  \n",
              "2      710.166667  1 Adequate  \n",
              "3      471.416667  1 Adequate  \n",
              "4      113.000000  1 Adequate  \n",
              "...           ...         ...  \n",
              "9166   309.333333  1 Adequate  \n",
              "9167   313.000000  1 Adequate  \n",
              "9169   374.000000  1 Adequate  \n",
              "9170   315.666667  1 Adequate  \n",
              "9171   163.000000         NaN  \n",
              "\n",
              "[7074 rows x 10 columns]"
            ],
            "text/html": [
              "\n",
              "  <div id=\"df-1248ab56-e872-4c23-8b30-062c60f75dfe\">\n",
              "    <div class=\"colab-df-container\">\n",
              "      <div>\n",
              "<style scoped>\n",
              "    .dataframe tbody tr th:only-of-type {\n",
              "        vertical-align: middle;\n",
              "    }\n",
              "\n",
              "    .dataframe tbody tr th {\n",
              "        vertical-align: top;\n",
              "    }\n",
              "\n",
              "    .dataframe thead th {\n",
              "        text-align: right;\n",
              "    }\n",
              "</style>\n",
              "<table border=\"1\" class=\"dataframe\">\n",
              "  <thead>\n",
              "    <tr style=\"text-align: right;\">\n",
              "      <th></th>\n",
              "      <th>CONTROL</th>\n",
              "      <th>PER</th>\n",
              "      <th>REGION</th>\n",
              "      <th>METRO3</th>\n",
              "      <th>VALUE</th>\n",
              "      <th>ZINC2</th>\n",
              "      <th>ROOMS</th>\n",
              "      <th>ZADEQ</th>\n",
              "      <th>UTILITY</th>\n",
              "      <th>FMTZADEQ</th>\n",
              "    </tr>\n",
              "  </thead>\n",
              "  <tbody>\n",
              "    <tr>\n",
              "      <th>0</th>\n",
              "      <td>'734778500142'</td>\n",
              "      <td>2</td>\n",
              "      <td>'4'</td>\n",
              "      <td>'2'</td>\n",
              "      <td>2465647</td>\n",
              "      <td>785402</td>\n",
              "      <td>9</td>\n",
              "      <td>'1'</td>\n",
              "      <td>1009.166667</td>\n",
              "      <td>1 Adequate</td>\n",
              "    </tr>\n",
              "    <tr>\n",
              "      <th>1</th>\n",
              "      <td>'730204310145'</td>\n",
              "      <td>4</td>\n",
              "      <td>'2'</td>\n",
              "      <td>'1'</td>\n",
              "      <td>740000</td>\n",
              "      <td>742441</td>\n",
              "      <td>10</td>\n",
              "      <td>'1'</td>\n",
              "      <td>381.000000</td>\n",
              "      <td>1 Adequate</td>\n",
              "    </tr>\n",
              "    <tr>\n",
              "      <th>2</th>\n",
              "      <td>'295273830133'</td>\n",
              "      <td>4</td>\n",
              "      <td>'1'</td>\n",
              "      <td>'2'</td>\n",
              "      <td>450000</td>\n",
              "      <td>725402</td>\n",
              "      <td>9</td>\n",
              "      <td>'1'</td>\n",
              "      <td>710.166667</td>\n",
              "      <td>1 Adequate</td>\n",
              "    </tr>\n",
              "    <tr>\n",
              "      <th>3</th>\n",
              "      <td>'301895590141'</td>\n",
              "      <td>3</td>\n",
              "      <td>'2'</td>\n",
              "      <td>'2'</td>\n",
              "      <td>665000</td>\n",
              "      <td>695402</td>\n",
              "      <td>9</td>\n",
              "      <td>'1'</td>\n",
              "      <td>471.416667</td>\n",
              "      <td>1 Adequate</td>\n",
              "    </tr>\n",
              "    <tr>\n",
              "      <th>4</th>\n",
              "      <td>'100007130148'</td>\n",
              "      <td>2</td>\n",
              "      <td>'3'</td>\n",
              "      <td>'1'</td>\n",
              "      <td>-6</td>\n",
              "      <td>15600</td>\n",
              "      <td>5</td>\n",
              "      <td>'1'</td>\n",
              "      <td>113.000000</td>\n",
              "      <td>1 Adequate</td>\n",
              "    </tr>\n",
              "    <tr>\n",
              "      <th>...</th>\n",
              "      <td>...</td>\n",
              "      <td>...</td>\n",
              "      <td>...</td>\n",
              "      <td>...</td>\n",
              "      <td>...</td>\n",
              "      <td>...</td>\n",
              "      <td>...</td>\n",
              "      <td>...</td>\n",
              "      <td>...</td>\n",
              "      <td>...</td>\n",
              "    </tr>\n",
              "    <tr>\n",
              "      <th>9166</th>\n",
              "      <td>'730591550146'</td>\n",
              "      <td>3</td>\n",
              "      <td>'3'</td>\n",
              "      <td>'5'</td>\n",
              "      <td>125000</td>\n",
              "      <td>120000</td>\n",
              "      <td>6</td>\n",
              "      <td>'1'</td>\n",
              "      <td>309.333333</td>\n",
              "      <td>1 Adequate</td>\n",
              "    </tr>\n",
              "    <tr>\n",
              "      <th>9167</th>\n",
              "      <td>'400434500148'</td>\n",
              "      <td>4</td>\n",
              "      <td>'3'</td>\n",
              "      <td>'1'</td>\n",
              "      <td>660000</td>\n",
              "      <td>120000</td>\n",
              "      <td>6</td>\n",
              "      <td>'1'</td>\n",
              "      <td>313.000000</td>\n",
              "      <td>1 Adequate</td>\n",
              "    </tr>\n",
              "    <tr>\n",
              "      <th>9169</th>\n",
              "      <td>'688045370142'</td>\n",
              "      <td>2</td>\n",
              "      <td>'4'</td>\n",
              "      <td>'2'</td>\n",
              "      <td>265000</td>\n",
              "      <td>120000</td>\n",
              "      <td>6</td>\n",
              "      <td>'1'</td>\n",
              "      <td>374.000000</td>\n",
              "      <td>1 Adequate</td>\n",
              "    </tr>\n",
              "    <tr>\n",
              "      <th>9170</th>\n",
              "      <td>'736389050140'</td>\n",
              "      <td>1</td>\n",
              "      <td>'3'</td>\n",
              "      <td>'2'</td>\n",
              "      <td>180000</td>\n",
              "      <td>120000</td>\n",
              "      <td>6</td>\n",
              "      <td>'1'</td>\n",
              "      <td>315.666667</td>\n",
              "      <td>1 Adequate</td>\n",
              "    </tr>\n",
              "    <tr>\n",
              "      <th>9171</th>\n",
              "      <td>'688519790142'</td>\n",
              "      <td>2</td>\n",
              "      <td>'4'</td>\n",
              "      <td>'1'</td>\n",
              "      <td>150000</td>\n",
              "      <td>120000</td>\n",
              "      <td>6</td>\n",
              "      <td>'3'</td>\n",
              "      <td>163.000000</td>\n",
              "      <td>NaN</td>\n",
              "    </tr>\n",
              "  </tbody>\n",
              "</table>\n",
              "<p>7074 rows × 10 columns</p>\n",
              "</div>\n",
              "      <button class=\"colab-df-convert\" onclick=\"convertToInteractive('df-1248ab56-e872-4c23-8b30-062c60f75dfe')\"\n",
              "              title=\"Convert this dataframe to an interactive table.\"\n",
              "              style=\"display:none;\">\n",
              "        \n",
              "  <svg xmlns=\"http://www.w3.org/2000/svg\" height=\"24px\"viewBox=\"0 0 24 24\"\n",
              "       width=\"24px\">\n",
              "    <path d=\"M0 0h24v24H0V0z\" fill=\"none\"/>\n",
              "    <path d=\"M18.56 5.44l.94 2.06.94-2.06 2.06-.94-2.06-.94-.94-2.06-.94 2.06-2.06.94zm-11 1L8.5 8.5l.94-2.06 2.06-.94-2.06-.94L8.5 2.5l-.94 2.06-2.06.94zm10 10l.94 2.06.94-2.06 2.06-.94-2.06-.94-.94-2.06-.94 2.06-2.06.94z\"/><path d=\"M17.41 7.96l-1.37-1.37c-.4-.4-.92-.59-1.43-.59-.52 0-1.04.2-1.43.59L10.3 9.45l-7.72 7.72c-.78.78-.78 2.05 0 2.83L4 21.41c.39.39.9.59 1.41.59.51 0 1.02-.2 1.41-.59l7.78-7.78 2.81-2.81c.8-.78.8-2.07 0-2.86zM5.41 20L4 18.59l7.72-7.72 1.47 1.35L5.41 20z\"/>\n",
              "  </svg>\n",
              "      </button>\n",
              "      \n",
              "  <style>\n",
              "    .colab-df-container {\n",
              "      display:flex;\n",
              "      flex-wrap:wrap;\n",
              "      gap: 12px;\n",
              "    }\n",
              "\n",
              "    .colab-df-convert {\n",
              "      background-color: #E8F0FE;\n",
              "      border: none;\n",
              "      border-radius: 50%;\n",
              "      cursor: pointer;\n",
              "      display: none;\n",
              "      fill: #1967D2;\n",
              "      height: 32px;\n",
              "      padding: 0 0 0 0;\n",
              "      width: 32px;\n",
              "    }\n",
              "\n",
              "    .colab-df-convert:hover {\n",
              "      background-color: #E2EBFA;\n",
              "      box-shadow: 0px 1px 2px rgba(60, 64, 67, 0.3), 0px 1px 3px 1px rgba(60, 64, 67, 0.15);\n",
              "      fill: #174EA6;\n",
              "    }\n",
              "\n",
              "    [theme=dark] .colab-df-convert {\n",
              "      background-color: #3B4455;\n",
              "      fill: #D2E3FC;\n",
              "    }\n",
              "\n",
              "    [theme=dark] .colab-df-convert:hover {\n",
              "      background-color: #434B5C;\n",
              "      box-shadow: 0px 1px 3px 1px rgba(0, 0, 0, 0.15);\n",
              "      filter: drop-shadow(0px 1px 2px rgba(0, 0, 0, 0.3));\n",
              "      fill: #FFFFFF;\n",
              "    }\n",
              "  </style>\n",
              "\n",
              "      <script>\n",
              "        const buttonEl =\n",
              "          document.querySelector('#df-1248ab56-e872-4c23-8b30-062c60f75dfe button.colab-df-convert');\n",
              "        buttonEl.style.display =\n",
              "          google.colab.kernel.accessAllowed ? 'block' : 'none';\n",
              "\n",
              "        async function convertToInteractive(key) {\n",
              "          const element = document.querySelector('#df-1248ab56-e872-4c23-8b30-062c60f75dfe');\n",
              "          const dataTable =\n",
              "            await google.colab.kernel.invokeFunction('convertToInteractive',\n",
              "                                                     [key], {});\n",
              "          if (!dataTable) return;\n",
              "\n",
              "          const docLinkHtml = 'Like what you see? Visit the ' +\n",
              "            '<a target=\"_blank\" href=https://colab.research.google.com/notebooks/data_table.ipynb>data table notebook</a>'\n",
              "            + ' to learn more about interactive tables.';\n",
              "          element.innerHTML = '';\n",
              "          dataTable['output_type'] = 'display_data';\n",
              "          await google.colab.output.renderOutput(dataTable, element);\n",
              "          const docLink = document.createElement('div');\n",
              "          docLink.innerHTML = docLinkHtml;\n",
              "          element.appendChild(docLink);\n",
              "        }\n",
              "      </script>\n",
              "    </div>\n",
              "  </div>\n",
              "  "
            ]
          },
          "metadata": {},
          "execution_count": 90
        }
      ]
    },
    {
      "cell_type": "markdown",
      "source": [
        "# output the dataframe"
      ],
      "metadata": {
        "id": "nI0FWFk86A5M"
      }
    },
    {
      "cell_type": "code",
      "source": [
        "# Output the DataFrame to a CSV file\n",
        "hdata.to_csv('output.csv', index=False)\n"
      ],
      "metadata": {
        "id": "aqDGUVJt9t55"
      },
      "execution_count": null,
      "outputs": []
    },
    {
      "cell_type": "code",
      "source": [
        "from google.colab import files\n",
        "\n",
        "files.download('output.csv')\n"
      ],
      "metadata": {
        "colab": {
          "base_uri": "https://localhost:8080/",
          "height": 17
        },
        "id": "TREbI2IW6E14",
        "outputId": "18b3b7d8-6fac-41f5-8fa0-ba5e433314d1"
      },
      "execution_count": null,
      "outputs": [
        {
          "output_type": "display_data",
          "data": {
            "text/plain": [
              "<IPython.core.display.Javascript object>"
            ],
            "application/javascript": [
              "\n",
              "    async function download(id, filename, size) {\n",
              "      if (!google.colab.kernel.accessAllowed) {\n",
              "        return;\n",
              "      }\n",
              "      const div = document.createElement('div');\n",
              "      const label = document.createElement('label');\n",
              "      label.textContent = `Downloading \"${filename}\": `;\n",
              "      div.appendChild(label);\n",
              "      const progress = document.createElement('progress');\n",
              "      progress.max = size;\n",
              "      div.appendChild(progress);\n",
              "      document.body.appendChild(div);\n",
              "\n",
              "      const buffers = [];\n",
              "      let downloaded = 0;\n",
              "\n",
              "      const channel = await google.colab.kernel.comms.open(id);\n",
              "      // Send a message to notify the kernel that we're ready.\n",
              "      channel.send({})\n",
              "\n",
              "      for await (const message of channel.messages) {\n",
              "        // Send a message to notify the kernel that we're ready.\n",
              "        channel.send({})\n",
              "        if (message.buffers) {\n",
              "          for (const buffer of message.buffers) {\n",
              "            buffers.push(buffer);\n",
              "            downloaded += buffer.byteLength;\n",
              "            progress.value = downloaded;\n",
              "          }\n",
              "        }\n",
              "      }\n",
              "      const blob = new Blob(buffers, {type: 'application/binary'});\n",
              "      const a = document.createElement('a');\n",
              "      a.href = window.URL.createObjectURL(blob);\n",
              "      a.download = filename;\n",
              "      div.appendChild(a);\n",
              "      a.click();\n",
              "      div.remove();\n",
              "    }\n",
              "  "
            ]
          },
          "metadata": {}
        },
        {
          "output_type": "display_data",
          "data": {
            "text/plain": [
              "<IPython.core.display.Javascript object>"
            ],
            "application/javascript": [
              "download(\"download_0a5bdbde-6849-47db-82df-431c51f6f150\", \"output.csv\", 317661)"
            ]
          },
          "metadata": {}
        }
      ]
    },
    {
      "cell_type": "code",
      "source": [],
      "metadata": {
        "id": "iENaQuko86f-"
      },
      "execution_count": null,
      "outputs": []
    },
    {
      "cell_type": "code",
      "source": [],
      "metadata": {
        "id": "CfUK0D_S86F-"
      },
      "execution_count": null,
      "outputs": []
    }
  ]
}