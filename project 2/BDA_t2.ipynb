{
  "nbformat": 4,
  "nbformat_minor": 0,
  "metadata": {
    "colab": {
      "provenance": [],
      "collapsed_sections": [
        "OSFF10no61cx",
        "PvnVBgeS6u8K",
        "eaU04dBe95Jg",
        "y8NjrBiFMQHI",
        "VVMTQ4r1Sw2d",
        "5Y7w-a8i1yGn",
        "sPyUiKQJ41Sx",
        "dfxj5ocWdIQ9",
        "dAlzvejV-bNP",
        "cqAA-empG9-Y",
        "GKakf46SKbM-",
        "OPVFjAj0BsCa",
        "XggVMhCXtyP2"
      ]
    },
    "kernelspec": {
      "name": "python3",
      "display_name": "Python 3"
    },
    "language_info": {
      "name": "python"
    }
  },
  "cells": [
    {
      "cell_type": "markdown",
      "source": [
        "Fadwa Ramadan Ali 2024334\n"
      ],
      "metadata": {
        "id": "Abfo1zzQteY_"
      }
    },
    {
      "cell_type": "markdown",
      "source": [
        "## install spark"
      ],
      "metadata": {
        "id": "OSFF10no61cx"
      }
    },
    {
      "cell_type": "code",
      "source": [
        "!apt-get install openjdk-8-jdk-headless -qq> /dev/null"
      ],
      "metadata": {
        "id": "4OIEgOdofoVo"
      },
      "execution_count": 299,
      "outputs": []
    },
    {
      "cell_type": "code",
      "source": [
        "!wget -q https://dlcdn.apache.org/spark/spark-3.3.2/spark-3.3.2-bin-hadoop3.tgz\n"
      ],
      "metadata": {
        "id": "je6IQH2cDdW5"
      },
      "execution_count": 300,
      "outputs": []
    },
    {
      "cell_type": "code",
      "source": [
        "!tar xf spark-3.3.2-bin-hadoop3.tgz"
      ],
      "metadata": {
        "id": "xLdUTPmoEllG"
      },
      "execution_count": 301,
      "outputs": []
    },
    {
      "cell_type": "code",
      "source": [
        "import os\n",
        "os.environ[\"JAVA_HOME\"] = \"/usr/lib/jvm/java-8-openjdk-amd64\"\n",
        "os.environ[\"SPARK_HOME\"] = '/content/spark-3.3.2-bin-hadoop3'"
      ],
      "metadata": {
        "id": "zZsdAsRzFCiu"
      },
      "execution_count": 302,
      "outputs": []
    },
    {
      "cell_type": "code",
      "source": [
        "!pip install -q findspark\n",
        "import findspark"
      ],
      "metadata": {
        "id": "PK_At0HiGDU3"
      },
      "execution_count": 303,
      "outputs": []
    },
    {
      "cell_type": "code",
      "source": [
        "findspark.init()"
      ],
      "metadata": {
        "id": "EYUzO-30GYqP"
      },
      "execution_count": 304,
      "outputs": []
    },
    {
      "cell_type": "code",
      "source": [
        "findspark.find()"
      ],
      "metadata": {
        "colab": {
          "base_uri": "https://localhost:8080/",
          "height": 36
        },
        "id": "NHTG_cBuGc6o",
        "outputId": "ddf8c7bf-aff4-47b8-a7da-199177127302"
      },
      "execution_count": 305,
      "outputs": [
        {
          "output_type": "execute_result",
          "data": {
            "text/plain": [
              "'/content/spark-3.3.2-bin-hadoop3'"
            ],
            "application/vnd.google.colaboratory.intrinsic+json": {
              "type": "string"
            }
          },
          "metadata": {},
          "execution_count": 305
        }
      ]
    },
    {
      "cell_type": "code",
      "source": [
        "from pyspark.sql.functions import col"
      ],
      "metadata": {
        "id": "z2sQoQ7xHANy"
      },
      "execution_count": 306,
      "outputs": []
    },
    {
      "cell_type": "code",
      "source": [
        "from pyspark.sql import SparkSession\n",
        "spark = SparkSession.builder.appName(\"linkedinData\").getOrCreate()"
      ],
      "metadata": {
        "id": "dKzzDuIo5-UL"
      },
      "execution_count": 307,
      "outputs": []
    },
    {
      "cell_type": "code",
      "source": [
        "spark.conf.set(\"spark.sql.repl.eagerEval.enabled\", True) # Property used to format output tables better\n",
        "spark"
      ],
      "metadata": {
        "id": "3hvn9425kJEF",
        "colab": {
          "base_uri": "https://localhost:8080/",
          "height": 219
        },
        "outputId": "750894ed-31b2-4049-b362-7c07cb08d197"
      },
      "execution_count": 308,
      "outputs": [
        {
          "output_type": "execute_result",
          "data": {
            "text/plain": [
              "<pyspark.sql.session.SparkSession at 0x7f9dc5f2d240>"
            ],
            "text/html": [
              "\n",
              "            <div>\n",
              "                <p><b>SparkSession - in-memory</b></p>\n",
              "                \n",
              "        <div>\n",
              "            <p><b>SparkContext</b></p>\n",
              "\n",
              "            <p><a href=\"http://861c61f1ad72:4040\">Spark UI</a></p>\n",
              "\n",
              "            <dl>\n",
              "              <dt>Version</dt>\n",
              "                <dd><code>v3.3.2</code></dd>\n",
              "              <dt>Master</dt>\n",
              "                <dd><code>local[*]</code></dd>\n",
              "              <dt>AppName</dt>\n",
              "                <dd><code>mapsandlazyevaluationdag</code></dd>\n",
              "            </dl>\n",
              "        </div>\n",
              "        \n",
              "            </div>\n",
              "        "
            ]
          },
          "metadata": {},
          "execution_count": 308
        }
      ]
    },
    {
      "cell_type": "code",
      "source": [
        "import pyspark\n",
        "\n",
        "sc = pyspark.SparkContext.getOrCreate()\n"
      ],
      "metadata": {
        "id": "8ilJJEJAHUVS"
      },
      "execution_count": 309,
      "outputs": []
    },
    {
      "cell_type": "code",
      "source": [
        "import pyspark\n",
        "\n",
        "sc = pyspark.SparkContext.getOrCreate()\n",
        "sc.stop()\n",
        "\n",
        "sc = pyspark.SparkContext(appName=\"mapsandlazyevaluationdag\")\n"
      ],
      "metadata": {
        "id": "UpxUYXP173FV"
      },
      "execution_count": 310,
      "outputs": []
    },
    {
      "cell_type": "markdown",
      "source": [
        "# upload datasets"
      ],
      "metadata": {
        "id": "PvnVBgeS6u8K"
      }
    },
    {
      "cell_type": "code",
      "source": [
        "from google.colab import drive\n",
        "drive.mount('/content/drive')"
      ],
      "metadata": {
        "colab": {
          "base_uri": "https://localhost:8080/"
        },
        "id": "qhlskblo5Lp7",
        "outputId": "3c6d3bd2-b60e-4dc7-a53b-f731ea5a237a"
      },
      "execution_count": 311,
      "outputs": [
        {
          "output_type": "stream",
          "name": "stdout",
          "text": [
            "Drive already mounted at /content/drive; to attempt to forcibly remount, call drive.mount(\"/content/drive\", force_remount=True).\n"
          ]
        }
      ]
    },
    {
      "cell_type": "code",
      "source": [
        "import pyspark\n",
        "from pyspark.sql import SparkSession\n",
        "\n",
        "# Create a new SparkSession\n",
        "spark = SparkSession.builder.appName(\"ReadCSV\").getOrCreate()\n",
        "\n"
      ],
      "metadata": {
        "id": "w5i-Mu-A8fL-"
      },
      "execution_count": 312,
      "outputs": []
    },
    {
      "cell_type": "code",
      "source": [
        "dataset_path2 = '/content/drive/MyDrive/BigData/public_use-industry-employment-growth.csv'\n",
        "df2 =spark.read.csv(dataset_path2, header=True, inferSchema=True)\n",
        "df2.show()"
      ],
      "metadata": {
        "colab": {
          "base_uri": "https://localhost:8080/"
        },
        "id": "T4EMtzkI5Wkp",
        "outputId": "0497d4ce-4236-41a1-b233-ab6c628aba01"
      },
      "execution_count": 313,
      "outputs": [
        {
          "output_type": "stream",
          "name": "stdout",
          "text": [
            "+------------+--------------------+--------------------+-----------+------------------+--------------------+-----------+--------------------+----------------+----------------+----------------+----------------+----------------+\n",
            "|country_code|        country_name|           wb_region|  wb_income|isic_section_index|   isic_section_name|industry_id|       industry_name|growth_rate_2015|growth_rate_2016|growth_rate_2017|growth_rate_2018|growth_rate_2019|\n",
            "+------------+--------------------+--------------------+-----------+------------------+--------------------+-----------+--------------------+----------------+----------------+----------------+----------------+----------------+\n",
            "|          ae|United Arab Emirates|Middle East & Nor...|High income|                 B|Mining and quarrying|         56|     Mining & Metals|           7.80%|           5.85%|           4.34%|           1.00%|          -0.06%|\n",
            "|          ae|United Arab Emirates|Middle East & Nor...|High income|                 B|Mining and quarrying|         57|        Oil & Energy|           3.30%|           1.35%|           1.75%|           1.85%|           2.26%|\n",
            "|          ae|United Arab Emirates|Middle East & Nor...|High income|                 C|       Manufacturing|         15|     Pharmaceuticals|          17.14%|          13.70%|           9.06%|           4.81%|           2.84%|\n",
            "|          ae|United Arab Emirates|Middle East & Nor...|High income|                 C|       Manufacturing|         23|     Food Production|           6.34%|           3.86%|           2.21%|           0.60%|           0.43%|\n",
            "|          ae|United Arab Emirates|Middle East & Nor...|High income|                 C|       Manufacturing|         52|Aviation & Aerospace|           9.66%|           5.67%|           2.87%|           1.50%|           0.08%|\n",
            "|          ae|United Arab Emirates|Middle East & Nor...|High income|                 C|       Manufacturing|         53|          Automotive|           7.82%|           5.51%|           2.98%|           0.62%|           0.20%|\n",
            "|          ae|United Arab Emirates|Middle East & Nor...|High income|                 C|       Manufacturing|         54|           Chemicals|          12.64%|           9.81%|           6.71%|           2.93%|           1.23%|\n",
            "|          ae|United Arab Emirates|Middle East & Nor...|High income|                 C|       Manufacturing|         55|           Machinery|           9.71%|           7.51%|           3.22%|           2.37%|           0.11%|\n",
            "|          ae|United Arab Emirates|Middle East & Nor...|High income|                 C|       Manufacturing|         58|        Shipbuilding|           5.26%|           2.80%|          -0.10%|           0.10%|          -0.19%|\n",
            "|          ae|United Arab Emirates|Middle East & Nor...|High income|                 C|       Manufacturing|         60|            Textiles|          10.18%|           7.38%|           5.11%|          -0.86%|          -0.43%|\n",
            "|          ae|United Arab Emirates|Middle East & Nor...|High income|                 C|       Manufacturing|         61|Paper & Forest Pr...|           7.41%|           7.32%|           3.66%|           3.93%|           3.68%|\n",
            "|          ae|United Arab Emirates|Middle East & Nor...|High income|                 C|       Manufacturing|         83|            Printing|           4.59%|           1.82%|           0.40%|           0.49%|          -0.15%|\n",
            "|          ae|United Arab Emirates|Middle East & Nor...|High income|                 C|       Manufacturing|        112|Electrical & Elec...|           8.35%|           7.13%|           4.41%|           1.79%|           0.51%|\n",
            "|          ae|United Arab Emirates|Middle East & Nor...|High income|                 C|       Manufacturing|        117|            Plastics|           2.49%|          -0.39%|          -2.03%|          -2.25%|          -1.20%|\n",
            "|          ae|United Arab Emirates|Middle East & Nor...|High income|                 C|       Manufacturing|        144|Renewables & Envi...|           9.63%|           9.80%|           8.40%|           5.90%|          -0.10%|\n",
            "|          ae|United Arab Emirates|Middle East & Nor...|High income|                 C|       Manufacturing|        145|Glass, Ceramics &...|           3.62%|           4.45%|           3.06%|           2.26%|           0.84%|\n",
            "|          ae|United Arab Emirates|Middle East & Nor...|High income|                 C|       Manufacturing|        146|Packaging & Conta...|           9.49%|           7.37%|           3.69%|           2.51%|           0.47%|\n",
            "|          ae|United Arab Emirates|Middle East & Nor...|High income|                 C|       Manufacturing|        147|Industrial Automa...|          10.71%|           8.01%|           5.28%|           4.48%|           2.94%|\n",
            "|          ae|United Arab Emirates|Middle East & Nor...|High income|                 J|Information and c...|          3|   Computer Hardware|          -2.14%|           1.49%|          -0.81%|          -0.81%|          -0.13%|\n",
            "|          ae|United Arab Emirates|Middle East & Nor...|High income|                 J|Information and c...|          4|   Computer Software|          21.52%|          18.07%|          13.49%|           9.04%|           3.58%|\n",
            "+------------+--------------------+--------------------+-----------+------------------+--------------------+-----------+--------------------+----------------+----------------+----------------+----------------+----------------+\n",
            "only showing top 20 rows\n",
            "\n"
          ]
        }
      ]
    },
    {
      "cell_type": "code",
      "source": [
        "dataset_path3 = '/content/drive/MyDrive/BigData/public_use-Country-migration.csv'\n",
        "df3 =spark.read.csv(dataset_path3, header=True, inferSchema=True)\n",
        "df3.show()"
      ],
      "metadata": {
        "colab": {
          "base_uri": "https://localhost:8080/"
        },
        "id": "-XiCA31g5g5-",
        "outputId": "fa68f8df-49cc-40be-ced1-e5e376be970b"
      },
      "execution_count": 314,
      "outputs": [
        {
          "output_type": "stream",
          "name": "stdout",
          "text": [
            "+-----------------+--------------------+---------+---------+----------------------+----------------------+-------------------+-------------------+----------+-----------+------------------------+------------------------+----------------+----------------+----------------+----------------+----------------+----+----+----+----+----+----+----+----+----+\n",
            "|base_country_code|   base_country_name| base_lat|base_long|base_country_wb_income|base_country_wb_region|target_country_code|target_country_name|target_lat|target_long|target_country_wb_income|target_country_wb_region|net_per_10K_2015|net_per_10K_2016|net_per_10K_2017|net_per_10K_2018|net_per_10K_2019|_c17|_c18|_c19|_c20|_c21|_c22|_c23|_c24|_c25|\n",
            "+-----------------+--------------------+---------+---------+----------------------+----------------------+-------------------+-------------------+----------+-----------+------------------------+------------------------+----------------+----------------+----------------+----------------+----------------+----+----+----+----+----+----+----+----+----+\n",
            "|               ae|United Arab Emirates|23.424076|53.847818|           High Income|  Middle East & Nor...|                 af|        Afghanistan|  33.93911|  67.709953|              Low Income|              South Asia|            0.19|            0.16|            0.11|           -0.05|           -0.02|null|null|null|null|null|null|null|null|null|\n",
            "|               ae|United Arab Emirates|23.424076|53.847818|           High Income|  Middle East & Nor...|                 dz|            Algeria| 28.033886|   1.659626|     Upper Middle Income|    Middle East & Nor...|            0.19|            0.25|            0.57|            0.55|            0.78|null|null|null|null|null|null|null|null|null|\n",
            "|               ae|United Arab Emirates|23.424076|53.847818|           High Income|  Middle East & Nor...|                 ao|             Angola|-11.202692|  17.873887|     Lower Middle Income|      Sub-Saharan Africa|           -0.01|            0.04|            0.11|           -0.02|           -0.06|null|null|null|null|null|null|null|null|null|\n",
            "|               ae|United Arab Emirates|23.424076|53.847818|           High Income|  Middle East & Nor...|                 ar|          Argentina|-38.416097| -63.616672|             High Income|    Latin America & C...|            0.16|            0.18|            0.04|            0.01|            0.23|null|null|null|null|null|null|null|null|null|\n",
            "|               ae|United Arab Emirates|23.424076|53.847818|           High Income|  Middle East & Nor...|                 am|            Armenia| 40.069099|  45.038189|     Upper Middle Income|    Europe & Central ...|             0.1|            0.05|            0.03|           -0.01|            0.02|null|null|null|null|null|null|null|null|null|\n",
            "|               ae|United Arab Emirates|23.424076|53.847818|           High Income|  Middle East & Nor...|                 au|          Australia|-25.274398| 133.775136|             High Income|     East Asia & Pacific|           -1.06|           -3.31|           -4.01|           -4.58|           -4.09|null|null|null|null|null|null|null|null|null|\n",
            "|               ae|United Arab Emirates|23.424076|53.847818|           High Income|  Middle East & Nor...|                 at|            Austria| 47.516231|  14.550072|             High Income|    Europe & Central ...|            0.11|           -0.08|           -0.07|           -0.05|           -0.16|null|null|null|null|null|null|null|null|null|\n",
            "|               ae|United Arab Emirates|23.424076|53.847818|           High Income|  Middle East & Nor...|                 az|         Azerbaijan| 40.143105|  47.576927|     Upper Middle Income|    Europe & Central ...|            0.24|            0.25|             0.1|            0.05|            0.04|null|null|null|null|null|null|null|null|null|\n",
            "|               ae|United Arab Emirates|23.424076|53.847818|           High Income|  Middle East & Nor...|                 bh|            Bahrain| 25.930414|  50.637772|             High Income|    Middle East & Nor...|             0.9|            0.89|            0.38|           -0.07|            0.15|null|null|null|null|null|null|null|null|null|\n",
            "|               ae|United Arab Emirates|23.424076|53.847818|           High Income|  Middle East & Nor...|                 bd|         Bangladesh| 23.684994|  90.356331|     Lower Middle Income|              South Asia|           -0.21|           -0.21|           -0.26|           -0.18|           -0.04|null|null|null|null|null|null|null|null|null|\n",
            "|               ae|United Arab Emirates|23.424076|53.847818|           High Income|  Middle East & Nor...|                 by|            Belarus| 53.709807|  27.953389|     Upper Middle Income|    Europe & Central ...|            0.12|            0.12|            0.11|            0.12|             0.1|null|null|null|null|null|null|null|null|null|\n",
            "|               ae|United Arab Emirates|23.424076|53.847818|           High Income|  Middle East & Nor...|                 be|            Belgium| 50.503887|   4.469936|             High Income|    Europe & Central ...|            0.51|            0.22|           -0.01|           -0.09|           -0.06|null|null|null|null|null|null|null|null|null|\n",
            "|               ae|United Arab Emirates|23.424076|53.847818|           High Income|  Middle East & Nor...|                 br|             Brazil|-14.235004|  -51.92528|     Upper Middle Income|    Latin America & C...|            0.81|            0.78|            0.63|             0.9|            0.99|null|null|null|null|null|null|null|null|null|\n",
            "|               ae|United Arab Emirates|23.424076|53.847818|           High Income|  Middle East & Nor...|                 bg|           Bulgaria| 42.733883|   25.48583|     Upper Middle Income|    Europe & Central ...|            0.17|            0.09|           -0.07|           -0.02|           -0.04|null|null|null|null|null|null|null|null|null|\n",
            "|               ae|United Arab Emirates|23.424076|53.847818|           High Income|  Middle East & Nor...|                 cm|           Cameroon|  7.369722|  12.354722|     Lower Middle Income|      Sub-Saharan Africa|             0.2|            0.13|             0.2|            0.29|            0.29|null|null|null|null|null|null|null|null|null|\n",
            "|               ae|United Arab Emirates|23.424076|53.847818|           High Income|  Middle East & Nor...|                 ca|             Canada| 56.130366|-106.346771|             High Income|           North America|           -2.96|           -4.64|           -6.03|           -8.13|           -8.89|null|null|null|null|null|null|null|null|null|\n",
            "|               ae|United Arab Emirates|23.424076|53.847818|           High Income|  Middle East & Nor...|                 cl|              Chile|-35.675147| -71.542969|             High Income|    Latin America & C...|            0.02|            0.02|           -0.02|            0.01|            0.02|null|null|null|null|null|null|null|null|null|\n",
            "|               ae|United Arab Emirates|23.424076|53.847818|           High Income|  Middle East & Nor...|                 cn|              China|  35.86166| 104.195397|     Upper Middle Income|     East Asia & Pacific|            0.86|            0.99|            0.26|            0.24|            0.45|null|null|null|null|null|null|null|null|null|\n",
            "|               ae|United Arab Emirates|23.424076|53.847818|           High Income|  Middle East & Nor...|                 co|           Colombia|  4.570868| -74.297333|     Upper Middle Income|    Latin America & C...|            0.02|            0.22|            0.14|            0.15|            0.13|null|null|null|null|null|null|null|null|null|\n",
            "|               ae|United Arab Emirates|23.424076|53.847818|           High Income|  Middle East & Nor...|                 hr|            Croatia|      45.1|       15.2|             High Income|    Europe & Central ...|            0.16|            0.13|            0.04|            0.02|           -0.03|null|null|null|null|null|null|null|null|null|\n",
            "+-----------------+--------------------+---------+---------+----------------------+----------------------+-------------------+-------------------+----------+-----------+------------------------+------------------------+----------------+----------------+----------------+----------------+----------------+----+----+----+----+----+----+----+----+----+\n",
            "only showing top 20 rows\n",
            "\n"
          ]
        }
      ]
    },
    {
      "cell_type": "code",
      "source": [
        "dataset_path4 = '/content/drive/MyDrive/BigData/public_use-Industry-migration.csv'\n",
        "df4 =spark.read.csv(dataset_path4, header=True, inferSchema=True)\n",
        "df4.show()"
      ],
      "metadata": {
        "colab": {
          "base_uri": "https://localhost:8080/"
        },
        "id": "rPrh8UW45si7",
        "outputId": "a1628a83-b793-45f7-cc4e-2abb8178505a"
      },
      "execution_count": 315,
      "outputs": [
        {
          "output_type": "stream",
          "name": "stdout",
          "text": [
            "+------------+--------------------+-----------+--------------------+------------------+--------------------+-----------+--------------------+----------------+----------------+----------------+----------------+----------------+----+----+----+----+----+----+----+----+----+----+----+----+----+----+----+----+----+\n",
            "|country_code|        country_name|  wb_income|           wb_region|isic_section_index|   isic_section_name|industry_id|       industry_name|net_per_10K_2015|net_per_10K_2016|net_per_10K_2017|net_per_10K_2018|net_per_10K_2019|_c13|_c14|_c15|_c16|_c17|_c18|_c19|_c20|_c21|_c22|_c23|_c24|_c25|_c26|_c27|_c28|_c29|\n",
            "+------------+--------------------+-----------+--------------------+------------------+--------------------+-----------+--------------------+----------------+----------------+----------------+----------------+----------------+----+----+----+----+----+----+----+----+----+----+----+----+----+----+----+----+----+\n",
            "|          ae|United Arab Emirates|High income|Middle East & Nor...|                 C|       Manufacturing|          1|     Defense & Space|          378.74|          127.94|             8.2|           68.51|           49.55|null|null|null|null|null|null|null|null|null|null|null|null|null|null|null|null|null|\n",
            "|          ae|United Arab Emirates|High income|Middle East & Nor...|                 J|Information and c...|          3|   Computer Hardware|          100.97|          358.14|          112.98|          149.57|          182.22|null|null|null|null|null|null|null|null|null|null|null|null|null|null|null|null|null|\n",
            "|          ae|United Arab Emirates|High income|Middle East & Nor...|                 J|Information and c...|          4|   Computer Software|         1079.36|          848.15|          596.48|          409.18|          407.41|null|null|null|null|null|null|null|null|null|null|null|null|null|null|null|null|null|\n",
            "|          ae|United Arab Emirates|High income|Middle East & Nor...|                 J|Information and c...|          5| Computer Networking|          401.46|          447.39|          163.99|          236.69|          188.07|null|null|null|null|null|null|null|null|null|null|null|null|null|null|null|null|null|\n",
            "|          ae|United Arab Emirates|High income|Middle East & Nor...|                 J|Information and c...|          6|            Internet|         1840.33|         1368.42|          877.71|          852.39|           519.4|null|null|null|null|null|null|null|null|null|null|null|null|null|null|null|null|null|\n",
            "|          ae|United Arab Emirates|High income|Middle East & Nor...|                 J|Information and c...|          8|  Telecommunications|          676.91|          676.11|          365.96|          283.59|          281.91|null|null|null|null|null|null|null|null|null|null|null|null|null|null|null|null|null|\n",
            "|          ae|United Arab Emirates|High income|Middle East & Nor...|                 M|Professional scie...|          9|        Law Practice|           694.5|           529.5|          362.83|          356.56|          147.83|null|null|null|null|null|null|null|null|null|null|null|null|null|null|null|null|null|\n",
            "|          ae|United Arab Emirates|High income|Middle East & Nor...|                 M|Professional scie...|         10|      Legal Services|           661.1|          665.65|           462.3|          475.62|          255.21|null|null|null|null|null|null|null|null|null|null|null|null|null|null|null|null|null|\n",
            "|          ae|United Arab Emirates|High income|Middle East & Nor...|                 M|Professional scie...|         11|Management Consul...|          982.85|          694.25|          520.28|           574.6|          406.03|null|null|null|null|null|null|null|null|null|null|null|null|null|null|null|null|null|\n",
            "|          ae|United Arab Emirates|High income|Middle East & Nor...|                 M|Professional scie...|         12|       Biotechnology|         1230.17|          846.28|          500.77|          205.78|          513.23|null|null|null|null|null|null|null|null|null|null|null|null|null|null|null|null|null|\n",
            "|          ae|United Arab Emirates|High income|Middle East & Nor...|                 Q|Human health and ...|         13|    Medical Practice|          674.12|          449.37|          368.32|          266.66|          136.06|null|null|null|null|null|null|null|null|null|null|null|null|null|null|null|null|null|\n",
            "|          ae|United Arab Emirates|High income|Middle East & Nor...|                 Q|Human health and ...|         14|Hospital & Health...|          784.47|          663.06|          475.39|          373.26|          268.67|null|null|null|null|null|null|null|null|null|null|null|null|null|null|null|null|null|\n",
            "|          ae|United Arab Emirates|High income|Middle East & Nor...|                 C|       Manufacturing|         15|     Pharmaceuticals|          893.55|          714.75|           473.6|          515.47|          396.71|null|null|null|null|null|null|null|null|null|null|null|null|null|null|null|null|null|\n",
            "|          ae|United Arab Emirates|High income|Middle East & Nor...|                 Q|Human health and ...|         17|      Medical Device|           885.0|         1034.07|          543.44|          415.49|          183.75|null|null|null|null|null|null|null|null|null|null|null|null|null|null|null|null|null|\n",
            "|          ae|United Arab Emirates|High income|Middle East & Nor...|                 G|Wholesale and ret...|         18|           Cosmetics|          928.04|          689.92|          428.23|          278.95|          157.01|null|null|null|null|null|null|null|null|null|null|null|null|null|null|null|null|null|\n",
            "|          ae|United Arab Emirates|High income|Middle East & Nor...|                 G|Wholesale and ret...|         19|   Apparel & Fashion|          912.57|           692.7|          608.16|          167.82|           180.2|null|null|null|null|null|null|null|null|null|null|null|null|null|null|null|null|null|\n",
            "|          ae|United Arab Emirates|High income|Middle East & Nor...|                 G|Wholesale and ret...|         20|      Sporting Goods|          843.99|          543.19|           308.1|           11.09|           80.42|null|null|null|null|null|null|null|null|null|null|null|null|null|null|null|null|null|\n",
            "|          ae|United Arab Emirates|High income|Middle East & Nor...|                 G|Wholesale and ret...|         21|             Tobacco|         1377.42|         1000.15|           870.1|          270.76|          525.36|null|null|null|null|null|null|null|null|null|null|null|null|null|null|null|null|null|\n",
            "|          ae|United Arab Emirates|High income|Middle East & Nor...|                 G|Wholesale and ret...|         22|        Supermarkets|          386.54|          543.52|          257.02|          107.09|          185.34|null|null|null|null|null|null|null|null|null|null|null|null|null|null|null|null|null|\n",
            "|          ae|United Arab Emirates|High income|Middle East & Nor...|                 C|       Manufacturing|         23|     Food Production|          848.27|          387.07|          292.73|          235.68|          161.95|null|null|null|null|null|null|null|null|null|null|null|null|null|null|null|null|null|\n",
            "+------------+--------------------+-----------+--------------------+------------------+--------------------+-----------+--------------------+----------------+----------------+----------------+----------------+----------------+----+----+----+----+----+----+----+----+----+----+----+----+----+----+----+----+----+\n",
            "only showing top 20 rows\n",
            "\n"
          ]
        }
      ]
    },
    {
      "cell_type": "code",
      "source": [
        "dataset_path5 = '/content/drive/MyDrive/BigData/public_use-Skill-migration.csv'\n",
        "df5 =spark.read.csv(dataset_path5, header=True, inferSchema=True)\n",
        "df5.show()"
      ],
      "metadata": {
        "colab": {
          "base_uri": "https://localhost:8080/"
        },
        "id": "MOpIv9hN51gj",
        "outputId": "c22eae3c-46a2-4f16-dd79-de736a637558"
      },
      "execution_count": 316,
      "outputs": [
        {
          "output_type": "stream",
          "name": "stdout",
          "text": [
            "+------------+------------+----------+----------+--------------+--------------------+--------------------+----------------+----------------+----------------+----------------+----------------+----+----+----+----+----+----+----+----+----+----+----+----+----+----+----+----+----+\n",
            "|country_code|country_name| wb_income| wb_region|skill_group_id|skill_group_category|    skill_group_name|net_per_10K_2015|net_per_10K_2016|net_per_10K_2017|net_per_10K_2018|net_per_10K_2019|_c12|_c13|_c14|_c15|_c16|_c17|_c18|_c19|_c20|_c21|_c22|_c23|_c24|_c25|_c26|_c27|_c28|\n",
            "+------------+------------+----------+----------+--------------+--------------------+--------------------+----------------+----------------+----------------+----------------+----------------+----+----+----+----+----+----+----+----+----+----+----+----+----+----+----+----+----+\n",
            "|          af| Afghanistan|Low income|South Asia|          2549|         Tech Skills|Information Manag...|         -791.59|         -705.88|         -550.04|         -680.92|        -1208.79|null|null|null|null|null|null|null|null|null|null|null|null|null|null|null|null|null|\n",
            "|          af| Afghanistan|Low income|South Asia|          2608|     Business Skills|Operational Effic...|        -1610.25|         -933.55|         -776.06|         -532.22|         -790.09|null|null|null|null|null|null|null|null|null|null|null|null|null|null|null|null|null|\n",
            "|          af| Afghanistan|Low income|South Asia|          3806|Specialized Indus...|   National Security|        -1731.45|         -769.68|         -756.59|         -600.44|         -767.64|null|null|null|null|null|null|null|null|null|null|null|null|null|null|null|null|null|\n",
            "|          af| Afghanistan|Low income|South Asia|         50321|         Tech Skills|    Software Testing|          -957.5|         -828.54|         -964.73|          -406.5|         -739.51|null|null|null|null|null|null|null|null|null|null|null|null|null|null|null|null|null|\n",
            "|          af| Afghanistan|Low income|South Asia|          1606|Specialized Indus...|                Navy|        -1510.71|         -841.17|         -842.32|         -581.71|         -718.64|null|null|null|null|null|null|null|null|null|null|null|null|null|null|null|null|null|\n",
            "|          af| Afghanistan|Low income|South Asia|          3139|Disruptive Tech S...|   Materials Science|        -1085.03|        -1045.71|         -783.03|         -473.42|         -717.73|null|null|null|null|null|null|null|null|null|null|null|null|null|null|null|null|null|\n",
            "|          af| Afghanistan|Low income|South Asia|          1315|Specialized Indus...|        Criminal Law|          -687.8|         -294.93|         -769.01|         -415.34|         -698.84|null|null|null|null|null|null|null|null|null|null|null|null|null|null|null|null|null|\n",
            "|          af| Afghanistan|Low income|South Asia|          1017|         Soft Skills|     Problem Solving|         -906.42|         -210.44|         -480.92|         -126.62|         -696.16|null|null|null|null|null|null|null|null|null|null|null|null|null|null|null|null|null|\n",
            "|          af| Afghanistan|Low income|South Asia|          2130|         Tech Skills|Software Developm...|        -1096.96|          -566.7|          -478.3|         -324.99|         -692.24|null|null|null|null|null|null|null|null|null|null|null|null|null|null|null|null|null|\n",
            "|          af| Afghanistan|Low income|South Asia|          2265|Specialized Indus...|       Cybersecurity|        -1046.26|         -796.25|         -796.72|         -517.62|         -640.96|null|null|null|null|null|null|null|null|null|null|null|null|null|null|null|null|null|\n",
            "|          af| Afghanistan|Low income|South Asia|          1989|         Tech Skills| Enterprise Software|         -989.69|         -778.24|         -328.94|         -350.93|         -625.19|null|null|null|null|null|null|null|null|null|null|null|null|null|null|null|null|null|\n",
            "|          af| Afghanistan|Low income|South Asia|         17168|Specialized Indus...|   Water Engineering|         -639.43|          -851.4|         -486.67|         -377.28|         -560.86|null|null|null|null|null|null|null|null|null|null|null|null|null|null|null|null|null|\n",
            "|          af| Afghanistan|Low income|South Asia|          1871|Specialized Indus...|           Air Force|        -1488.62|         -839.32|         -777.83|         -480.36|         -553.91|null|null|null|null|null|null|null|null|null|null|null|null|null|null|null|null|null|\n",
            "|          af| Afghanistan|Low income|South Asia|          3980|Specialized Indus...|       Documentation|        -1115.58|         -955.82|        -1025.11|         -722.36|          -534.9|null|null|null|null|null|null|null|null|null|null|null|null|null|null|null|null|null|\n",
            "|          af| Afghanistan|Low income|South Asia|          2917|Specialized Indus...|       Public Safety|        -1191.25|         -789.13|         -743.97|         -465.34|         -531.68|null|null|null|null|null|null|null|null|null|null|null|null|null|null|null|null|null|\n",
            "|          af| Afghanistan|Low income|South Asia|          2060|     Business Skills|   People Management|        -1218.97|         -902.07|         -740.96|         -587.82|         -489.62|null|null|null|null|null|null|null|null|null|null|null|null|null|null|null|null|null|\n",
            "|          af| Afghanistan|Low income|South Asia|           635|     Business Skills|           Economics|          -64.75|          -620.9|         -784.09|         -289.27|         -481.75|null|null|null|null|null|null|null|null|null|null|null|null|null|null|null|null|null|\n",
            "|          af| Afghanistan|Low income|South Asia|           344|     Business Skills|Administrative As...|         -793.47|         -651.12|         -617.77|         -412.37|          -481.0|null|null|null|null|null|null|null|null|null|null|null|null|null|null|null|null|null|\n",
            "|          af| Afghanistan|Low income|South Asia|           314|Specialized Indus...|  Telecommunications|         -590.56|         -505.68|         -482.94|         -186.71|         -470.25|null|null|null|null|null|null|null|null|null|null|null|null|null|null|null|null|null|\n",
            "|          af| Afghanistan|Low income|South Asia|           441|     Business Skills|Management Consul...|         -535.68|         -575.16|         -617.85|         -166.44|         -465.04|null|null|null|null|null|null|null|null|null|null|null|null|null|null|null|null|null|\n",
            "+------------+------------+----------+----------+--------------+--------------------+--------------------+----------------+----------------+----------------+----------------+----------------+----+----+----+----+----+----+----+----+----+----+----+----+----+----+----+----+----+\n",
            "only showing top 20 rows\n",
            "\n"
          ]
        }
      ]
    },
    {
      "cell_type": "markdown",
      "source": [
        "# clean the data"
      ],
      "metadata": {
        "id": "eaU04dBe95Jg"
      }
    },
    {
      "cell_type": "markdown",
      "source": [
        "## check the null values"
      ],
      "metadata": {
        "id": "yjGVCz-l_QZO"
      }
    },
    {
      "cell_type": "code",
      "source": [
        "from pyspark.sql.functions import col\n",
        "\n",
        "# Iterate over the columns and check for null values in df2\n",
        "for column in df2.columns:\n",
        "    null_count = df2.filter(col(column).isNull()).count()\n",
        "    print(\"Null values in column '{}': {}\".format(column, null_count))\n",
        "\n",
        "##there r no null values in df1"
      ],
      "metadata": {
        "colab": {
          "base_uri": "https://localhost:8080/"
        },
        "id": "lNKgoUoIBBTx",
        "outputId": "c45c75b1-fda1-4b9e-b6f1-acd926881ce5"
      },
      "execution_count": 317,
      "outputs": [
        {
          "output_type": "stream",
          "name": "stdout",
          "text": [
            "Null values in column 'country_code': 0\n",
            "Null values in column 'country_name': 0\n",
            "Null values in column 'wb_region': 0\n",
            "Null values in column 'wb_income': 0\n",
            "Null values in column 'isic_section_index': 0\n",
            "Null values in column 'isic_section_name': 0\n",
            "Null values in column 'industry_id': 0\n",
            "Null values in column 'industry_name': 0\n",
            "Null values in column 'growth_rate_2015': 0\n",
            "Null values in column 'growth_rate_2016': 0\n",
            "Null values in column 'growth_rate_2017': 0\n",
            "Null values in column 'growth_rate_2018': 0\n",
            "Null values in column 'growth_rate_2019': 0\n"
          ]
        }
      ]
    },
    {
      "cell_type": "code",
      "source": [
        "from pyspark.sql.functions import col\n",
        "\n",
        "# Iterate over the columns and check for null values\n",
        "for column in df3.columns:\n",
        "    null_count = df3.filter(col(column).isNull()).count()\n",
        "    print(\"Null values in column '{}': {}\".format(column, null_count))\n",
        "\n",
        "##there r null values in df1"
      ],
      "metadata": {
        "colab": {
          "base_uri": "https://localhost:8080/"
        },
        "id": "lZHfzhUmBIuU",
        "outputId": "b1eb72ca-c456-4944-ff12-5970cda93865"
      },
      "execution_count": 318,
      "outputs": [
        {
          "output_type": "stream",
          "name": "stdout",
          "text": [
            "Null values in column 'base_country_code': 0\n",
            "Null values in column 'base_country_name': 0\n",
            "Null values in column 'base_lat': 0\n",
            "Null values in column 'base_long': 0\n",
            "Null values in column 'base_country_wb_income': 0\n",
            "Null values in column 'base_country_wb_region': 0\n",
            "Null values in column 'target_country_code': 0\n",
            "Null values in column 'target_country_name': 0\n",
            "Null values in column 'target_lat': 0\n",
            "Null values in column 'target_long': 0\n",
            "Null values in column 'target_country_wb_income': 0\n",
            "Null values in column 'target_country_wb_region': 0\n",
            "Null values in column 'net_per_10K_2015': 0\n",
            "Null values in column 'net_per_10K_2016': 0\n",
            "Null values in column 'net_per_10K_2017': 0\n",
            "Null values in column 'net_per_10K_2018': 0\n",
            "Null values in column 'net_per_10K_2019': 0\n",
            "Null values in column '_c17': 4148\n",
            "Null values in column '_c18': 4148\n",
            "Null values in column '_c19': 4148\n",
            "Null values in column '_c20': 4148\n",
            "Null values in column '_c21': 4148\n",
            "Null values in column '_c22': 4148\n",
            "Null values in column '_c23': 4148\n",
            "Null values in column '_c24': 4148\n",
            "Null values in column '_c25': 4148\n"
          ]
        }
      ]
    },
    {
      "cell_type": "markdown",
      "source": [
        "there are null values becoues of the invalid columns, i dicidid to delete the invaalid columns since they have no values"
      ],
      "metadata": {
        "id": "Ymc-H9TzEj32"
      }
    },
    {
      "cell_type": "code",
      "source": [
        "# List the columns with null values in df3\n",
        "columns_with_null = ['_c17', '_c18', '_c19', '_c20', '_c21', '_c22', '_c23', '_c24', '_c25']\n",
        "\n",
        "# Drop the columns with null values from df3\n",
        "df3 = df3.drop(*columns_with_null)\n",
        "\n",
        "# Display the updated DataFrame\n",
        "df3.show()\n"
      ],
      "metadata": {
        "colab": {
          "base_uri": "https://localhost:8080/"
        },
        "id": "QTYPnq_hEDb3",
        "outputId": "2d2e3ca0-cfa5-470f-b3f4-c224a448e728"
      },
      "execution_count": 319,
      "outputs": [
        {
          "output_type": "stream",
          "name": "stdout",
          "text": [
            "+-----------------+--------------------+---------+---------+----------------------+----------------------+-------------------+-------------------+----------+-----------+------------------------+------------------------+----------------+----------------+----------------+----------------+----------------+\n",
            "|base_country_code|   base_country_name| base_lat|base_long|base_country_wb_income|base_country_wb_region|target_country_code|target_country_name|target_lat|target_long|target_country_wb_income|target_country_wb_region|net_per_10K_2015|net_per_10K_2016|net_per_10K_2017|net_per_10K_2018|net_per_10K_2019|\n",
            "+-----------------+--------------------+---------+---------+----------------------+----------------------+-------------------+-------------------+----------+-----------+------------------------+------------------------+----------------+----------------+----------------+----------------+----------------+\n",
            "|               ae|United Arab Emirates|23.424076|53.847818|           High Income|  Middle East & Nor...|                 af|        Afghanistan|  33.93911|  67.709953|              Low Income|              South Asia|            0.19|            0.16|            0.11|           -0.05|           -0.02|\n",
            "|               ae|United Arab Emirates|23.424076|53.847818|           High Income|  Middle East & Nor...|                 dz|            Algeria| 28.033886|   1.659626|     Upper Middle Income|    Middle East & Nor...|            0.19|            0.25|            0.57|            0.55|            0.78|\n",
            "|               ae|United Arab Emirates|23.424076|53.847818|           High Income|  Middle East & Nor...|                 ao|             Angola|-11.202692|  17.873887|     Lower Middle Income|      Sub-Saharan Africa|           -0.01|            0.04|            0.11|           -0.02|           -0.06|\n",
            "|               ae|United Arab Emirates|23.424076|53.847818|           High Income|  Middle East & Nor...|                 ar|          Argentina|-38.416097| -63.616672|             High Income|    Latin America & C...|            0.16|            0.18|            0.04|            0.01|            0.23|\n",
            "|               ae|United Arab Emirates|23.424076|53.847818|           High Income|  Middle East & Nor...|                 am|            Armenia| 40.069099|  45.038189|     Upper Middle Income|    Europe & Central ...|             0.1|            0.05|            0.03|           -0.01|            0.02|\n",
            "|               ae|United Arab Emirates|23.424076|53.847818|           High Income|  Middle East & Nor...|                 au|          Australia|-25.274398| 133.775136|             High Income|     East Asia & Pacific|           -1.06|           -3.31|           -4.01|           -4.58|           -4.09|\n",
            "|               ae|United Arab Emirates|23.424076|53.847818|           High Income|  Middle East & Nor...|                 at|            Austria| 47.516231|  14.550072|             High Income|    Europe & Central ...|            0.11|           -0.08|           -0.07|           -0.05|           -0.16|\n",
            "|               ae|United Arab Emirates|23.424076|53.847818|           High Income|  Middle East & Nor...|                 az|         Azerbaijan| 40.143105|  47.576927|     Upper Middle Income|    Europe & Central ...|            0.24|            0.25|             0.1|            0.05|            0.04|\n",
            "|               ae|United Arab Emirates|23.424076|53.847818|           High Income|  Middle East & Nor...|                 bh|            Bahrain| 25.930414|  50.637772|             High Income|    Middle East & Nor...|             0.9|            0.89|            0.38|           -0.07|            0.15|\n",
            "|               ae|United Arab Emirates|23.424076|53.847818|           High Income|  Middle East & Nor...|                 bd|         Bangladesh| 23.684994|  90.356331|     Lower Middle Income|              South Asia|           -0.21|           -0.21|           -0.26|           -0.18|           -0.04|\n",
            "|               ae|United Arab Emirates|23.424076|53.847818|           High Income|  Middle East & Nor...|                 by|            Belarus| 53.709807|  27.953389|     Upper Middle Income|    Europe & Central ...|            0.12|            0.12|            0.11|            0.12|             0.1|\n",
            "|               ae|United Arab Emirates|23.424076|53.847818|           High Income|  Middle East & Nor...|                 be|            Belgium| 50.503887|   4.469936|             High Income|    Europe & Central ...|            0.51|            0.22|           -0.01|           -0.09|           -0.06|\n",
            "|               ae|United Arab Emirates|23.424076|53.847818|           High Income|  Middle East & Nor...|                 br|             Brazil|-14.235004|  -51.92528|     Upper Middle Income|    Latin America & C...|            0.81|            0.78|            0.63|             0.9|            0.99|\n",
            "|               ae|United Arab Emirates|23.424076|53.847818|           High Income|  Middle East & Nor...|                 bg|           Bulgaria| 42.733883|   25.48583|     Upper Middle Income|    Europe & Central ...|            0.17|            0.09|           -0.07|           -0.02|           -0.04|\n",
            "|               ae|United Arab Emirates|23.424076|53.847818|           High Income|  Middle East & Nor...|                 cm|           Cameroon|  7.369722|  12.354722|     Lower Middle Income|      Sub-Saharan Africa|             0.2|            0.13|             0.2|            0.29|            0.29|\n",
            "|               ae|United Arab Emirates|23.424076|53.847818|           High Income|  Middle East & Nor...|                 ca|             Canada| 56.130366|-106.346771|             High Income|           North America|           -2.96|           -4.64|           -6.03|           -8.13|           -8.89|\n",
            "|               ae|United Arab Emirates|23.424076|53.847818|           High Income|  Middle East & Nor...|                 cl|              Chile|-35.675147| -71.542969|             High Income|    Latin America & C...|            0.02|            0.02|           -0.02|            0.01|            0.02|\n",
            "|               ae|United Arab Emirates|23.424076|53.847818|           High Income|  Middle East & Nor...|                 cn|              China|  35.86166| 104.195397|     Upper Middle Income|     East Asia & Pacific|            0.86|            0.99|            0.26|            0.24|            0.45|\n",
            "|               ae|United Arab Emirates|23.424076|53.847818|           High Income|  Middle East & Nor...|                 co|           Colombia|  4.570868| -74.297333|     Upper Middle Income|    Latin America & C...|            0.02|            0.22|            0.14|            0.15|            0.13|\n",
            "|               ae|United Arab Emirates|23.424076|53.847818|           High Income|  Middle East & Nor...|                 hr|            Croatia|      45.1|       15.2|             High Income|    Europe & Central ...|            0.16|            0.13|            0.04|            0.02|           -0.03|\n",
            "+-----------------+--------------------+---------+---------+----------------------+----------------------+-------------------+-------------------+----------+-----------+------------------------+------------------------+----------------+----------------+----------------+----------------+----------------+\n",
            "only showing top 20 rows\n",
            "\n"
          ]
        }
      ]
    },
    {
      "cell_type": "code",
      "source": [
        "from pyspark.sql.functions import col\n",
        "\n",
        "# Iterate over the columns and check for null values in df4\n",
        "for column in df4.columns:\n",
        "    null_count = df4.filter(col(column).isNull()).count()\n",
        "    print(\"Null values in column '{}': {}\".format(column, null_count))\n"
      ],
      "metadata": {
        "colab": {
          "base_uri": "https://localhost:8080/"
        },
        "id": "ynDsIIuWCyDo",
        "outputId": "95639d77-3a63-42cc-cb76-b4cf290ef531"
      },
      "execution_count": 320,
      "outputs": [
        {
          "output_type": "stream",
          "name": "stdout",
          "text": [
            "Null values in column 'country_code': 0\n",
            "Null values in column 'country_name': 0\n",
            "Null values in column 'wb_income': 0\n",
            "Null values in column 'wb_region': 0\n",
            "Null values in column 'isic_section_index': 0\n",
            "Null values in column 'isic_section_name': 0\n",
            "Null values in column 'industry_id': 0\n",
            "Null values in column 'industry_name': 0\n",
            "Null values in column 'net_per_10K_2015': 0\n",
            "Null values in column 'net_per_10K_2016': 0\n",
            "Null values in column 'net_per_10K_2017': 0\n",
            "Null values in column 'net_per_10K_2018': 0\n",
            "Null values in column 'net_per_10K_2019': 0\n",
            "Null values in column '_c13': 5295\n",
            "Null values in column '_c14': 5295\n",
            "Null values in column '_c15': 5295\n",
            "Null values in column '_c16': 5295\n",
            "Null values in column '_c17': 5295\n",
            "Null values in column '_c18': 5295\n",
            "Null values in column '_c19': 5295\n",
            "Null values in column '_c20': 5295\n",
            "Null values in column '_c21': 5295\n",
            "Null values in column '_c22': 5295\n",
            "Null values in column '_c23': 5295\n",
            "Null values in column '_c24': 5295\n",
            "Null values in column '_c25': 5295\n",
            "Null values in column '_c26': 5295\n",
            "Null values in column '_c27': 5295\n",
            "Null values in column '_c28': 5295\n",
            "Null values in column '_c29': 5295\n"
          ]
        }
      ]
    },
    {
      "cell_type": "code",
      "source": [
        "# List the columns with null values in df4\n",
        "columns_with_null = ['_c13', '_c14', '_c15', '_c16', '_c17', '_c18', '_c19', '_c20', '_c21', '_c22', '_c23', '_c24', '_c25', '_c26', '_c27', '_c28', '_c29']\n",
        "\n",
        "# Drop the columns with null values from df4\n",
        "df4 = df4.drop(*columns_with_null)\n",
        "\n",
        "# Display the updated DataFrame\n",
        "df4.show()\n"
      ],
      "metadata": {
        "colab": {
          "base_uri": "https://localhost:8080/"
        },
        "id": "AcVQz6FuFFtt",
        "outputId": "9abb587c-ab83-4fb2-fc5a-88c570c18258"
      },
      "execution_count": 321,
      "outputs": [
        {
          "output_type": "stream",
          "name": "stdout",
          "text": [
            "+------------+--------------------+-----------+--------------------+------------------+--------------------+-----------+--------------------+----------------+----------------+----------------+----------------+----------------+\n",
            "|country_code|        country_name|  wb_income|           wb_region|isic_section_index|   isic_section_name|industry_id|       industry_name|net_per_10K_2015|net_per_10K_2016|net_per_10K_2017|net_per_10K_2018|net_per_10K_2019|\n",
            "+------------+--------------------+-----------+--------------------+------------------+--------------------+-----------+--------------------+----------------+----------------+----------------+----------------+----------------+\n",
            "|          ae|United Arab Emirates|High income|Middle East & Nor...|                 C|       Manufacturing|          1|     Defense & Space|          378.74|          127.94|             8.2|           68.51|           49.55|\n",
            "|          ae|United Arab Emirates|High income|Middle East & Nor...|                 J|Information and c...|          3|   Computer Hardware|          100.97|          358.14|          112.98|          149.57|          182.22|\n",
            "|          ae|United Arab Emirates|High income|Middle East & Nor...|                 J|Information and c...|          4|   Computer Software|         1079.36|          848.15|          596.48|          409.18|          407.41|\n",
            "|          ae|United Arab Emirates|High income|Middle East & Nor...|                 J|Information and c...|          5| Computer Networking|          401.46|          447.39|          163.99|          236.69|          188.07|\n",
            "|          ae|United Arab Emirates|High income|Middle East & Nor...|                 J|Information and c...|          6|            Internet|         1840.33|         1368.42|          877.71|          852.39|           519.4|\n",
            "|          ae|United Arab Emirates|High income|Middle East & Nor...|                 J|Information and c...|          8|  Telecommunications|          676.91|          676.11|          365.96|          283.59|          281.91|\n",
            "|          ae|United Arab Emirates|High income|Middle East & Nor...|                 M|Professional scie...|          9|        Law Practice|           694.5|           529.5|          362.83|          356.56|          147.83|\n",
            "|          ae|United Arab Emirates|High income|Middle East & Nor...|                 M|Professional scie...|         10|      Legal Services|           661.1|          665.65|           462.3|          475.62|          255.21|\n",
            "|          ae|United Arab Emirates|High income|Middle East & Nor...|                 M|Professional scie...|         11|Management Consul...|          982.85|          694.25|          520.28|           574.6|          406.03|\n",
            "|          ae|United Arab Emirates|High income|Middle East & Nor...|                 M|Professional scie...|         12|       Biotechnology|         1230.17|          846.28|          500.77|          205.78|          513.23|\n",
            "|          ae|United Arab Emirates|High income|Middle East & Nor...|                 Q|Human health and ...|         13|    Medical Practice|          674.12|          449.37|          368.32|          266.66|          136.06|\n",
            "|          ae|United Arab Emirates|High income|Middle East & Nor...|                 Q|Human health and ...|         14|Hospital & Health...|          784.47|          663.06|          475.39|          373.26|          268.67|\n",
            "|          ae|United Arab Emirates|High income|Middle East & Nor...|                 C|       Manufacturing|         15|     Pharmaceuticals|          893.55|          714.75|           473.6|          515.47|          396.71|\n",
            "|          ae|United Arab Emirates|High income|Middle East & Nor...|                 Q|Human health and ...|         17|      Medical Device|           885.0|         1034.07|          543.44|          415.49|          183.75|\n",
            "|          ae|United Arab Emirates|High income|Middle East & Nor...|                 G|Wholesale and ret...|         18|           Cosmetics|          928.04|          689.92|          428.23|          278.95|          157.01|\n",
            "|          ae|United Arab Emirates|High income|Middle East & Nor...|                 G|Wholesale and ret...|         19|   Apparel & Fashion|          912.57|           692.7|          608.16|          167.82|           180.2|\n",
            "|          ae|United Arab Emirates|High income|Middle East & Nor...|                 G|Wholesale and ret...|         20|      Sporting Goods|          843.99|          543.19|           308.1|           11.09|           80.42|\n",
            "|          ae|United Arab Emirates|High income|Middle East & Nor...|                 G|Wholesale and ret...|         21|             Tobacco|         1377.42|         1000.15|           870.1|          270.76|          525.36|\n",
            "|          ae|United Arab Emirates|High income|Middle East & Nor...|                 G|Wholesale and ret...|         22|        Supermarkets|          386.54|          543.52|          257.02|          107.09|          185.34|\n",
            "|          ae|United Arab Emirates|High income|Middle East & Nor...|                 C|       Manufacturing|         23|     Food Production|          848.27|          387.07|          292.73|          235.68|          161.95|\n",
            "+------------+--------------------+-----------+--------------------+------------------+--------------------+-----------+--------------------+----------------+----------------+----------------+----------------+----------------+\n",
            "only showing top 20 rows\n",
            "\n"
          ]
        }
      ]
    },
    {
      "cell_type": "code",
      "source": [
        "from pyspark.sql.functions import col\n",
        "\n",
        "# Iterate over the columns and check for null values in df5\n",
        "for column in df5.columns:\n",
        "    null_count = df5.filter(col(column).isNull()).count()\n",
        "    print(\"Null values in column '{}': {}\".format(column, null_count))\n"
      ],
      "metadata": {
        "colab": {
          "base_uri": "https://localhost:8080/"
        },
        "id": "JowDnSRnC86p",
        "outputId": "40e624a0-a4cc-437e-d381-9ef5899c3f38"
      },
      "execution_count": 322,
      "outputs": [
        {
          "output_type": "stream",
          "name": "stdout",
          "text": [
            "Null values in column 'country_code': 3030\n",
            "Null values in column 'country_name': 3030\n",
            "Null values in column 'wb_income': 3030\n",
            "Null values in column 'wb_region': 3030\n",
            "Null values in column 'skill_group_id': 3030\n",
            "Null values in column 'skill_group_category': 3030\n",
            "Null values in column 'skill_group_name': 3030\n",
            "Null values in column 'net_per_10K_2015': 3030\n",
            "Null values in column 'net_per_10K_2016': 3030\n",
            "Null values in column 'net_per_10K_2017': 3030\n",
            "Null values in column 'net_per_10K_2018': 3030\n",
            "Null values in column 'net_per_10K_2019': 3030\n",
            "Null values in column '_c12': 20647\n",
            "Null values in column '_c13': 20647\n",
            "Null values in column '_c14': 20647\n",
            "Null values in column '_c15': 20647\n",
            "Null values in column '_c16': 20647\n",
            "Null values in column '_c17': 20647\n",
            "Null values in column '_c18': 20647\n",
            "Null values in column '_c19': 20647\n",
            "Null values in column '_c20': 20647\n",
            "Null values in column '_c21': 20647\n",
            "Null values in column '_c22': 20647\n",
            "Null values in column '_c23': 20647\n",
            "Null values in column '_c24': 20647\n",
            "Null values in column '_c25': 20647\n",
            "Null values in column '_c26': 20647\n",
            "Null values in column '_c27': 20647\n",
            "Null values in column '_c28': 20647\n"
          ]
        }
      ]
    },
    {
      "cell_type": "code",
      "source": [
        "\n",
        "# Iterate over the columns and check for null values in df5\n",
        "for column in df5.columns:\n",
        "    null_count = df5.filter(col(column).isNull()).count()\n",
        "    print(\"Null values in column '{}': {}\".format(column, null_count))\n"
      ],
      "metadata": {
        "colab": {
          "base_uri": "https://localhost:8080/"
        },
        "id": "oUvpg3MaFqrv",
        "outputId": "fdcce8cc-92e5-49aa-d232-5de3455fc512"
      },
      "execution_count": 323,
      "outputs": [
        {
          "output_type": "stream",
          "name": "stdout",
          "text": [
            "Null values in column 'country_code': 3030\n",
            "Null values in column 'country_name': 3030\n",
            "Null values in column 'wb_income': 3030\n",
            "Null values in column 'wb_region': 3030\n",
            "Null values in column 'skill_group_id': 3030\n",
            "Null values in column 'skill_group_category': 3030\n",
            "Null values in column 'skill_group_name': 3030\n",
            "Null values in column 'net_per_10K_2015': 3030\n",
            "Null values in column 'net_per_10K_2016': 3030\n",
            "Null values in column 'net_per_10K_2017': 3030\n",
            "Null values in column 'net_per_10K_2018': 3030\n",
            "Null values in column 'net_per_10K_2019': 3030\n",
            "Null values in column '_c12': 20647\n",
            "Null values in column '_c13': 20647\n",
            "Null values in column '_c14': 20647\n",
            "Null values in column '_c15': 20647\n",
            "Null values in column '_c16': 20647\n",
            "Null values in column '_c17': 20647\n",
            "Null values in column '_c18': 20647\n",
            "Null values in column '_c19': 20647\n",
            "Null values in column '_c20': 20647\n",
            "Null values in column '_c21': 20647\n",
            "Null values in column '_c22': 20647\n",
            "Null values in column '_c23': 20647\n",
            "Null values in column '_c24': 20647\n",
            "Null values in column '_c25': 20647\n",
            "Null values in column '_c26': 20647\n",
            "Null values in column '_c27': 20647\n",
            "Null values in column '_c28': 20647\n"
          ]
        }
      ]
    },
    {
      "cell_type": "code",
      "source": [
        "# List the columns with null values in df5\n",
        "columns_with_null = ['_c12','_c13', '_c14', '_c15', '_c16', '_c17', '_c18', '_c19', '_c20', '_c21', '_c22', '_c23', '_c24', '_c25', '_c26', '_c27', '_c28', '_c29']\n",
        "\n",
        "# Drop the columns with null values from df5\n",
        "df5 = df5.drop(*columns_with_null)\n",
        "\n",
        "# Display the updated DataFrame\n",
        "df5.show()\n"
      ],
      "metadata": {
        "colab": {
          "base_uri": "https://localhost:8080/"
        },
        "id": "5B8xWE-YFnkX",
        "outputId": "e7b8e4c5-b7c7-4fdc-b6a6-a1912eed3caf"
      },
      "execution_count": 324,
      "outputs": [
        {
          "output_type": "stream",
          "name": "stdout",
          "text": [
            "+------------+------------+----------+----------+--------------+--------------------+--------------------+----------------+----------------+----------------+----------------+----------------+\n",
            "|country_code|country_name| wb_income| wb_region|skill_group_id|skill_group_category|    skill_group_name|net_per_10K_2015|net_per_10K_2016|net_per_10K_2017|net_per_10K_2018|net_per_10K_2019|\n",
            "+------------+------------+----------+----------+--------------+--------------------+--------------------+----------------+----------------+----------------+----------------+----------------+\n",
            "|          af| Afghanistan|Low income|South Asia|          2549|         Tech Skills|Information Manag...|         -791.59|         -705.88|         -550.04|         -680.92|        -1208.79|\n",
            "|          af| Afghanistan|Low income|South Asia|          2608|     Business Skills|Operational Effic...|        -1610.25|         -933.55|         -776.06|         -532.22|         -790.09|\n",
            "|          af| Afghanistan|Low income|South Asia|          3806|Specialized Indus...|   National Security|        -1731.45|         -769.68|         -756.59|         -600.44|         -767.64|\n",
            "|          af| Afghanistan|Low income|South Asia|         50321|         Tech Skills|    Software Testing|          -957.5|         -828.54|         -964.73|          -406.5|         -739.51|\n",
            "|          af| Afghanistan|Low income|South Asia|          1606|Specialized Indus...|                Navy|        -1510.71|         -841.17|         -842.32|         -581.71|         -718.64|\n",
            "|          af| Afghanistan|Low income|South Asia|          3139|Disruptive Tech S...|   Materials Science|        -1085.03|        -1045.71|         -783.03|         -473.42|         -717.73|\n",
            "|          af| Afghanistan|Low income|South Asia|          1315|Specialized Indus...|        Criminal Law|          -687.8|         -294.93|         -769.01|         -415.34|         -698.84|\n",
            "|          af| Afghanistan|Low income|South Asia|          1017|         Soft Skills|     Problem Solving|         -906.42|         -210.44|         -480.92|         -126.62|         -696.16|\n",
            "|          af| Afghanistan|Low income|South Asia|          2130|         Tech Skills|Software Developm...|        -1096.96|          -566.7|          -478.3|         -324.99|         -692.24|\n",
            "|          af| Afghanistan|Low income|South Asia|          2265|Specialized Indus...|       Cybersecurity|        -1046.26|         -796.25|         -796.72|         -517.62|         -640.96|\n",
            "|          af| Afghanistan|Low income|South Asia|          1989|         Tech Skills| Enterprise Software|         -989.69|         -778.24|         -328.94|         -350.93|         -625.19|\n",
            "|          af| Afghanistan|Low income|South Asia|         17168|Specialized Indus...|   Water Engineering|         -639.43|          -851.4|         -486.67|         -377.28|         -560.86|\n",
            "|          af| Afghanistan|Low income|South Asia|          1871|Specialized Indus...|           Air Force|        -1488.62|         -839.32|         -777.83|         -480.36|         -553.91|\n",
            "|          af| Afghanistan|Low income|South Asia|          3980|Specialized Indus...|       Documentation|        -1115.58|         -955.82|        -1025.11|         -722.36|          -534.9|\n",
            "|          af| Afghanistan|Low income|South Asia|          2917|Specialized Indus...|       Public Safety|        -1191.25|         -789.13|         -743.97|         -465.34|         -531.68|\n",
            "|          af| Afghanistan|Low income|South Asia|          2060|     Business Skills|   People Management|        -1218.97|         -902.07|         -740.96|         -587.82|         -489.62|\n",
            "|          af| Afghanistan|Low income|South Asia|           635|     Business Skills|           Economics|          -64.75|          -620.9|         -784.09|         -289.27|         -481.75|\n",
            "|          af| Afghanistan|Low income|South Asia|           344|     Business Skills|Administrative As...|         -793.47|         -651.12|         -617.77|         -412.37|          -481.0|\n",
            "|          af| Afghanistan|Low income|South Asia|           314|Specialized Indus...|  Telecommunications|         -590.56|         -505.68|         -482.94|         -186.71|         -470.25|\n",
            "|          af| Afghanistan|Low income|South Asia|           441|     Business Skills|Management Consul...|         -535.68|         -575.16|         -617.85|         -166.44|         -465.04|\n",
            "+------------+------------+----------+----------+--------------+--------------------+--------------------+----------------+----------------+----------------+----------------+----------------+\n",
            "only showing top 20 rows\n",
            "\n"
          ]
        }
      ]
    },
    {
      "cell_type": "markdown",
      "source": [
        "the null vlues are acully empty rows and column becoue of the converting to CSV, thues i disided to drop them, as they have no effect on the analsyis."
      ],
      "metadata": {
        "id": "z5Xvw-YtHCpB"
      }
    },
    {
      "cell_type": "code",
      "source": [
        "# Drop the null values in df5\n",
        "df5 = df5.dropna()\n",
        "\n",
        "# Check if there are any remaining null values\n",
        "if df5.count() == df5.na.drop().count():\n",
        "    print(\"All null values have been dropped from df5\")\n",
        "else:\n",
        "    print(\"Null values still exist in df5\")\n"
      ],
      "metadata": {
        "colab": {
          "base_uri": "https://localhost:8080/"
        },
        "id": "YyY2OdHCG0IC",
        "outputId": "b3eaf712-4298-4eef-c9c5-7603e6dead07"
      },
      "execution_count": 325,
      "outputs": [
        {
          "output_type": "stream",
          "name": "stdout",
          "text": [
            "All null values have been dropped from df5\n"
          ]
        }
      ]
    },
    {
      "cell_type": "markdown",
      "source": [
        "## duplicates"
      ],
      "metadata": {
        "id": "U7u1Fkw6-GlO"
      }
    },
    {
      "cell_type": "code",
      "source": [
        "# Check duplicates in df2\n",
        "df2_duplicates = df2.groupBy(df2.columns).count().where(\"count > 1\")\n",
        "if df2_duplicates.count() == 0:\n",
        "    print(\"No duplicates found in df2\")\n",
        "else:\n",
        "    num_duplicates = df2_duplicates.count()\n",
        "    print(f\"{num_duplicates} duplicate(s) found in df2\")\n",
        "\n",
        "# Check duplicates in df3\n",
        "df3_duplicates = df3.groupBy(df3.columns).count().where(\"count > 1\")\n",
        "if df3_duplicates.count() == 0:\n",
        "    print(\"No duplicates found in df3\")\n",
        "else:\n",
        "    num_duplicates = df3_duplicates.count()\n",
        "    print(f\"{num_duplicates} duplicate(s) found in df3\")\n",
        "\n",
        "# Check duplicates in df4\n",
        "df4_duplicates = df4.groupBy(df4.columns).count().where(\"count > 1\")\n",
        "if df4_duplicates.count() == 0:\n",
        "    print(\"No duplicates found in df4\")\n",
        "else:\n",
        "    num_duplicates = df4_duplicates.count()\n",
        "    print(f\"{num_duplicates} duplicate(s) found in df4\")\n",
        "\n",
        "# Check duplicates in df5\n",
        "df5_duplicates = df5.groupBy(df5.columns).count().where(\"count > 1\")\n",
        "if df5_duplicates.count() == 0:\n",
        "    print(\"No duplicates found in df5\")\n",
        "else:\n",
        "    num_duplicates = df5_duplicates.count()\n",
        "    print(f\"{num_duplicates} duplicate(s) found in df5\")"
      ],
      "metadata": {
        "colab": {
          "base_uri": "https://localhost:8080/"
        },
        "id": "Ccf0y6V-ETVY",
        "outputId": "4fdb1063-bcaf-45a3-92cf-a2c9c11c0141"
      },
      "execution_count": 326,
      "outputs": [
        {
          "output_type": "stream",
          "name": "stdout",
          "text": [
            "No duplicates found in df2\n",
            "No duplicates found in df3\n",
            "No duplicates found in df4\n",
            "No duplicates found in df5\n"
          ]
        }
      ]
    },
    {
      "cell_type": "markdown",
      "source": [
        "## check the invalis values"
      ],
      "metadata": {
        "id": "Mhj01YhXF8jM"
      }
    },
    {
      "cell_type": "markdown",
      "source": [
        "all values are valid in df1 for the caticorical column\n",
        "but for the numbatric column it needs cleaning"
      ],
      "metadata": {
        "id": "aIXsmGcoH4Ip"
      }
    },
    {
      "cell_type": "markdown",
      "source": [
        "for df2"
      ],
      "metadata": {
        "id": "VeEtsxAdIEGz"
      }
    },
    {
      "cell_type": "code",
      "source": [
        "# List of data types considered categorical\n",
        "categorical_data_types = ['string', 'boolean']\n",
        "\n",
        "# Identify the categorical columns in df2\n",
        "categorical_columns_df2 = [column for column, dtype in df2.dtypes if dtype in categorical_data_types]\n",
        "\n",
        "# Display the list of categorical column names\n",
        "print(\"Categorical column names in df2:\")\n",
        "for column in categorical_columns_df2:\n",
        "    print(column)\n"
      ],
      "metadata": {
        "colab": {
          "base_uri": "https://localhost:8080/"
        },
        "id": "L7UiGr4BH8-e",
        "outputId": "4f7442d4-369a-4578-c71a-f854c5a901a9"
      },
      "execution_count": 327,
      "outputs": [
        {
          "output_type": "stream",
          "name": "stdout",
          "text": [
            "Categorical column names in df2:\n",
            "country_code\n",
            "country_name\n",
            "wb_region\n",
            "wb_income\n",
            "isic_section_index\n",
            "isic_section_name\n",
            "industry_name\n",
            "growth_rate_2015\n",
            "growth_rate_2016\n",
            "growth_rate_2017\n",
            "growth_rate_2018\n",
            "growth_rate_2019\n"
          ]
        }
      ]
    },
    {
      "cell_type": "code",
      "source": [
        "# List of categorical column names in df3\n",
        "categorical_columns_df3 = [\"base_country_code\", \"base_country_name\", \"base_country_wb_income\", \"base_country_wb_region\",\n",
        "                           \"target_country_code\", \"target_country_name\", \"target_country_wb_income\",\n",
        "                           \"target_country_wb_region\"]\n",
        "\n",
        "# Iterate over the categorical columns in df3\n",
        "for column in categorical_columns_df3:\n",
        "    unique_values = df3.select(column).distinct().collect()\n",
        "    print(\"Unique values in column '{}':\".format(column))\n",
        "    for row in unique_values:\n",
        "        value = row[0]\n",
        "        print(value)\n",
        "    print(\"--------------------------\".format(column))\n",
        "\n",
        "    print()  # Add an empty line between columns\n"
      ],
      "metadata": {
        "colab": {
          "base_uri": "https://localhost:8080/"
        },
        "id": "TBMJ4kP8JvLR",
        "outputId": "61abbb66-c7ca-4de8-f1e9-3bb25c144ad6"
      },
      "execution_count": 328,
      "outputs": [
        {
          "output_type": "stream",
          "name": "stdout",
          "text": [
            "Unique values in column 'base_country_code':\n",
            "ye\n",
            "cr\n",
            "mz\n",
            "pr\n",
            "us\n",
            "eg\n",
            "ps\n",
            "ge\n",
            "cl\n",
            "il\n",
            "bw\n",
            "ro\n",
            "uz\n",
            "ba\n",
            "jp\n",
            "kw\n",
            "ao\n",
            "by\n",
            "lv\n",
            "vn\n",
            "pl\n",
            "cn\n",
            "za\n",
            "sk\n",
            "bd\n",
            "ir\n",
            "mu\n",
            "pt\n",
            "ke\n",
            "kh\n",
            "in\n",
            "au\n",
            "ni\n",
            "pk\n",
            "sg\n",
            "ae\n",
            "iq\n",
            "hk\n",
            "be\n",
            "qa\n",
            "tw\n",
            "gb\n",
            "zm\n",
            "np\n",
            "cd\n",
            "ec\n",
            "ci\n",
            "mg\n",
            "fj\n",
            "sa\n",
            "co\n",
            "tr\n",
            "de\n",
            "is\n",
            "lu\n",
            "tt\n",
            "br\n",
            "sd\n",
            "gt\n",
            "jo\n",
            "es\n",
            "hr\n",
            "zw\n",
            "rs\n",
            "kr\n",
            "af\n",
            "it\n",
            "uy\n",
            "pe\n",
            "py\n",
            "ar\n",
            "sv\n",
            "jm\n",
            "ph\n",
            "bo\n",
            "nl\n",
            "hn\n",
            "rw\n",
            "ly\n",
            "hu\n",
            "mn\n",
            "al\n",
            "ca\n",
            "tg\n",
            "ve\n",
            "my\n",
            "tn\n",
            "ee\n",
            "nz\n",
            "si\n",
            "gr\n",
            "lk\n",
            "mt\n",
            "cm\n",
            "ml\n",
            "ga\n",
            "th\n",
            "ch\n",
            "ng\n",
            "mk\n",
            "gh\n",
            "ma\n",
            "do\n",
            "lt\n",
            "ht\n",
            "sn\n",
            "bj\n",
            "pa\n",
            "no\n",
            "bg\n",
            "ug\n",
            "cu\n",
            "pg\n",
            "sy\n",
            "mm\n",
            "cy\n",
            "at\n",
            "dz\n",
            "cz\n",
            "ua\n",
            "bs\n",
            "kz\n",
            "mx\n",
            "az\n",
            "et\n",
            "bf\n",
            "om\n",
            "tz\n",
            "am\n",
            "fr\n",
            "se\n",
            "ie\n",
            "dk\n",
            "id\n",
            "md\n",
            "bh\n",
            "fi\n",
            "lb\n",
            "na\n",
            "mw\n",
            "--------------------------\n",
            "\n",
            "Unique values in column 'base_country_name':\n",
            "Paraguay\n",
            "Congo, Dem. Rep.\n",
            "Senegal\n",
            "Sweden\n",
            "Taiwan, China\n",
            "Macedonia, FYR\n",
            "Philippines\n",
            "Malaysia\n",
            "Singapore\n",
            "Fiji\n",
            "Turkey\n",
            "Malawi\n",
            "Iraq\n",
            "Germany\n",
            "Afghanistan\n",
            "Cambodia\n",
            "Jordan\n",
            "Rwanda\n",
            "Sudan\n",
            "France\n",
            "Greece\n",
            "Sri Lanka\n",
            "Algeria\n",
            "Togo\n",
            "Argentina\n",
            "Angola\n",
            "Belgium\n",
            "Iran, Islamic Rep.\n",
            "Ecuador\n",
            "Qatar\n",
            "Albania\n",
            "Madagascar\n",
            "Finland\n",
            "Ghana\n",
            "Myanmar\n",
            "Nicaragua\n",
            "Benin\n",
            "Peru\n",
            "China\n",
            "India\n",
            "United States\n",
            "Belarus\n",
            "Kuwait\n",
            "Malta\n",
            "Chile\n",
            "Puerto Rico\n",
            "Venezuela, RB\n",
            "Croatia\n",
            "Bolivia\n",
            "Nigeria\n",
            "Gabon\n",
            "Italy\n",
            "Lithuania\n",
            "Norway\n",
            "Spain\n",
            "Cuba\n",
            "Denmark\n",
            "Bangladesh\n",
            "Ireland\n",
            "Thailand\n",
            "Morocco\n",
            "Panama\n",
            "Ukraine\n",
            "Israel\n",
            "Iceland\n",
            "Oman\n",
            "Cyprus\n",
            "Uruguay\n",
            "Cote d'Ivoire\n",
            "Mexico\n",
            "Estonia\n",
            "Georgia\n",
            "Zimbabwe\n",
            "Indonesia\n",
            "Guatemala\n",
            "Mongolia\n",
            "Korea, Rep.\n",
            "Azerbaijan\n",
            "Egypt, Arab Rep.\n",
            "Libya\n",
            "Armenia\n",
            "Tunisia\n",
            "Honduras\n",
            "Trinidad and Tobago\n",
            "Saudi Arabia\n",
            "Uganda\n",
            "Namibia\n",
            "Switzerland\n",
            "Zambia\n",
            "Ethiopia\n",
            "Jamaica\n",
            "Latvia\n",
            "United Arab Emirates\n",
            "Hong Kong SAR, China\n",
            "Canada\n",
            "Uzbekistan\n",
            "Czech Republic\n",
            "Mozambique\n",
            "Brazil\n",
            "Kenya\n",
            "West Bank and Gaza\n",
            "Lebanon\n",
            "Yemen, Rep.\n",
            "Slovenia\n",
            "Dominican Republic\n",
            "Botswana\n",
            "Japan\n",
            "Tanzania\n",
            "Luxembourg\n",
            "New Zealand\n",
            "Bosnia and Herzegovina\n",
            "Bahamas, The\n",
            "Haiti\n",
            "Poland\n",
            "Portugal\n",
            "Australia\n",
            "Cameroon\n",
            "Papua New Guinea\n",
            "Romania\n",
            "Bulgaria\n",
            "Austria\n",
            "Nepal\n",
            "Costa Rica\n",
            "Kazakhstan\n",
            "El Salvador\n",
            "Serbia\n",
            "Burkina Faso\n",
            "South Africa\n",
            "Bahrain\n",
            "Colombia\n",
            "Hungary\n",
            "Pakistan\n",
            "Mauritius\n",
            "United Kingdom\n",
            "Moldova\n",
            "Syrian Arab Republic\n",
            "Slovak Republic\n",
            "Vietnam\n",
            "Mali\n",
            "Netherlands\n",
            "--------------------------\n",
            "\n",
            "Unique values in column 'base_country_wb_income':\n",
            "Upper Middle Income\n",
            "High Income\n",
            "Lower Middle Income\n",
            "Low Income\n",
            "--------------------------\n",
            "\n",
            "Unique values in column 'base_country_wb_region':\n",
            "South Asia\n",
            "Sub-Saharan Africa\n",
            "Europe & Central Asia\n",
            "North America\n",
            "East Asia & Pacific\n",
            "Middle East & North Africa\n",
            "Latin America & Caribbean\n",
            "--------------------------\n",
            "\n",
            "Unique values in column 'target_country_code':\n",
            "ye\n",
            "cr\n",
            "mz\n",
            "pr\n",
            "us\n",
            "eg\n",
            "ps\n",
            "ge\n",
            "cl\n",
            "il\n",
            "bw\n",
            "ro\n",
            "uz\n",
            "ba\n",
            "jp\n",
            "kw\n",
            "ao\n",
            "by\n",
            "lv\n",
            "vn\n",
            "pl\n",
            "cn\n",
            "za\n",
            "sk\n",
            "bd\n",
            "ir\n",
            "mu\n",
            "pt\n",
            "ke\n",
            "kh\n",
            "in\n",
            "au\n",
            "pk\n",
            "ni\n",
            "sg\n",
            "iq\n",
            "ae\n",
            "hk\n",
            "be\n",
            "qa\n",
            "tw\n",
            "gb\n",
            "zm\n",
            "np\n",
            "cd\n",
            "ec\n",
            "ci\n",
            "mg\n",
            "fj\n",
            "sa\n",
            "co\n",
            "tr\n",
            "de\n",
            "lu\n",
            "is\n",
            "tt\n",
            "br\n",
            "sd\n",
            "jo\n",
            "gt\n",
            "hr\n",
            "es\n",
            "zw\n",
            "rs\n",
            "kr\n",
            "af\n",
            "it\n",
            "uy\n",
            "py\n",
            "pe\n",
            "ar\n",
            "sv\n",
            "jm\n",
            "ph\n",
            "nl\n",
            "bo\n",
            "hn\n",
            "rw\n",
            "ly\n",
            "hu\n",
            "mn\n",
            "ca\n",
            "al\n",
            "ve\n",
            "tg\n",
            "my\n",
            "tn\n",
            "nz\n",
            "ee\n",
            "si\n",
            "gr\n",
            "mt\n",
            "lk\n",
            "cm\n",
            "ml\n",
            "th\n",
            "ga\n",
            "ch\n",
            "ng\n",
            "mk\n",
            "gh\n",
            "ma\n",
            "do\n",
            "lt\n",
            "ht\n",
            "sn\n",
            "bj\n",
            "pa\n",
            "no\n",
            "bg\n",
            "ug\n",
            "sy\n",
            "pg\n",
            "cu\n",
            "mm\n",
            "cy\n",
            "dz\n",
            "at\n",
            "cz\n",
            "ua\n",
            "kz\n",
            "mx\n",
            "bs\n",
            "az\n",
            "et\n",
            "om\n",
            "bf\n",
            "tz\n",
            "am\n",
            "fr\n",
            "se\n",
            "ie\n",
            "dk\n",
            "id\n",
            "md\n",
            "bh\n",
            "fi\n",
            "lb\n",
            "na\n",
            "mw\n",
            "--------------------------\n",
            "\n",
            "Unique values in column 'target_country_name':\n",
            "Paraguay\n",
            "Congo, Dem. Rep.\n",
            "Senegal\n",
            "Sweden\n",
            "Taiwan, China\n",
            "Macedonia, FYR\n",
            "Philippines\n",
            "Malaysia\n",
            "Singapore\n",
            "Fiji\n",
            "Turkey\n",
            "Malawi\n",
            "Iraq\n",
            "Germany\n",
            "Afghanistan\n",
            "Cambodia\n",
            "Jordan\n",
            "Rwanda\n",
            "Sudan\n",
            "France\n",
            "Greece\n",
            "Sri Lanka\n",
            "Algeria\n",
            "Togo\n",
            "Argentina\n",
            "Angola\n",
            "Belgium\n",
            "Iran, Islamic Rep.\n",
            "Qatar\n",
            "Ecuador\n",
            "Albania\n",
            "Madagascar\n",
            "Finland\n",
            "Ghana\n",
            "Myanmar\n",
            "Nicaragua\n",
            "Peru\n",
            "Benin\n",
            "China\n",
            "India\n",
            "United States\n",
            "Belarus\n",
            "Kuwait\n",
            "Malta\n",
            "Chile\n",
            "Puerto Rico\n",
            "Venezuela, RB\n",
            "Croatia\n",
            "Nigeria\n",
            "Bolivia\n",
            "Gabon\n",
            "Italy\n",
            "Lithuania\n",
            "Norway\n",
            "Spain\n",
            "Cuba\n",
            "Denmark\n",
            "Bangladesh\n",
            "Ireland\n",
            "Thailand\n",
            "Morocco\n",
            "Panama\n",
            "Ukraine\n",
            "Israel\n",
            "Iceland\n",
            "Oman\n",
            "Cyprus\n",
            "Uruguay\n",
            "Mexico\n",
            "Cote d'Ivoire\n",
            "Georgia\n",
            "Zimbabwe\n",
            "Estonia\n",
            "Indonesia\n",
            "Mongolia\n",
            "Guatemala\n",
            "Korea, Rep.\n",
            "Azerbaijan\n",
            "Egypt, Arab Rep.\n",
            "Libya\n",
            "Armenia\n",
            "Tunisia\n",
            "Honduras\n",
            "Trinidad and Tobago\n",
            "Saudi Arabia\n",
            "Uganda\n",
            "Namibia\n",
            "Switzerland\n",
            "Zambia\n",
            "Ethiopia\n",
            "Latvia\n",
            "Jamaica\n",
            "United Arab Emirates\n",
            "Hong Kong SAR, China\n",
            "Canada\n",
            "Uzbekistan\n",
            "Czech Republic\n",
            "Mozambique\n",
            "Brazil\n",
            "Kenya\n",
            "West Bank and Gaza\n",
            "Lebanon\n",
            "Yemen, Rep.\n",
            "Slovenia\n",
            "Dominican Republic\n",
            "Japan\n",
            "Tanzania\n",
            "Botswana\n",
            "Luxembourg\n",
            "New Zealand\n",
            "Bosnia and Herzegovina\n",
            "Bahamas, The\n",
            "Haiti\n",
            "Poland\n",
            "Portugal\n",
            "Australia\n",
            "Cameroon\n",
            "Papua New Guinea\n",
            "Romania\n",
            "Bulgaria\n",
            "Austria\n",
            "Nepal\n",
            "Kazakhstan\n",
            "Costa Rica\n",
            "El Salvador\n",
            "Serbia\n",
            "South Africa\n",
            "Burkina Faso\n",
            "Bahrain\n",
            "Colombia\n",
            "Hungary\n",
            "Pakistan\n",
            "Mauritius\n",
            "Syrian Arab Republic\n",
            "United Kingdom\n",
            "Moldova\n",
            "Slovak Republic\n",
            "Vietnam\n",
            "Netherlands\n",
            "Mali\n",
            "--------------------------\n",
            "\n",
            "Unique values in column 'target_country_wb_income':\n",
            "Upper Middle Income\n",
            "High Income\n",
            "Lower Middle Income\n",
            "Low Income\n",
            "--------------------------\n",
            "\n",
            "Unique values in column 'target_country_wb_region':\n",
            "South Asia\n",
            "Sub-Saharan Africa\n",
            "Europe & Central Asia\n",
            "North America\n",
            "East Asia & Pacific\n",
            "Middle East & North Africa\n",
            "Latin America & Caribbean\n",
            "--------------------------\n",
            "\n"
          ]
        }
      ]
    },
    {
      "cell_type": "markdown",
      "source": [
        "all values are valid in df2"
      ],
      "metadata": {
        "id": "VEDu65mdKM8g"
      }
    },
    {
      "cell_type": "markdown",
      "source": [
        "for df3"
      ],
      "metadata": {
        "id": "AGBLJKafKPKK"
      }
    },
    {
      "cell_type": "code",
      "source": [
        "# List of data types considered categorical\n",
        "categorical_data_types = ['string', 'boolean']\n",
        "\n",
        "# Identify the categorical columns in df3\n",
        "categorical_columns_df3 = [column for column, dtype in df3.dtypes if dtype in categorical_data_types]\n",
        "\n",
        "# Display the list of categorical column names\n",
        "print(\"Categorical column names in df3:\")\n",
        "for column in categorical_columns_df3:\n",
        "    print(column)\n"
      ],
      "metadata": {
        "colab": {
          "base_uri": "https://localhost:8080/"
        },
        "id": "fNQeZ4-tKVtV",
        "outputId": "1ec722f0-0108-48e2-9ced-98de7ca1877c"
      },
      "execution_count": 329,
      "outputs": [
        {
          "output_type": "stream",
          "name": "stdout",
          "text": [
            "Categorical column names in df3:\n",
            "base_country_code\n",
            "base_country_name\n",
            "base_country_wb_income\n",
            "base_country_wb_region\n",
            "target_country_code\n",
            "target_country_name\n",
            "target_country_wb_income\n",
            "target_country_wb_region\n"
          ]
        }
      ]
    },
    {
      "cell_type": "code",
      "source": [
        "# List of categorical column names in df3\n",
        "categorical_columns_df3 = [\"base_country_code\", \"base_country_name\", \"base_country_wb_income\", \"base_country_wb_region\",\n",
        "                           \"target_country_code\", \"target_country_name\", \"target_country_wb_income\",\n",
        "                           \"target_country_wb_region\"]\n",
        "\n",
        "# Iterate over the categorical columns in df3\n",
        "for column in categorical_columns_df3:\n",
        "    unique_values = df3.select(column).distinct().collect()\n",
        "    print(\"Unique values in column '{}':\".format(column))\n",
        "    for row in unique_values:\n",
        "        value = row[0]\n",
        "        print(value)\n",
        "    print(\"--------------------------\".format(column))\n",
        "\n",
        "    print()  # Add an empty line between columns\n"
      ],
      "metadata": {
        "colab": {
          "base_uri": "https://localhost:8080/"
        },
        "id": "bnlOhascKXZz",
        "outputId": "06364491-110b-4ea6-fdfb-5412c935cb58"
      },
      "execution_count": 330,
      "outputs": [
        {
          "output_type": "stream",
          "name": "stdout",
          "text": [
            "Unique values in column 'base_country_code':\n",
            "ye\n",
            "cr\n",
            "mz\n",
            "pr\n",
            "us\n",
            "eg\n",
            "ps\n",
            "ge\n",
            "cl\n",
            "il\n",
            "bw\n",
            "ro\n",
            "uz\n",
            "ba\n",
            "jp\n",
            "kw\n",
            "ao\n",
            "by\n",
            "lv\n",
            "vn\n",
            "pl\n",
            "cn\n",
            "za\n",
            "sk\n",
            "bd\n",
            "ir\n",
            "mu\n",
            "pt\n",
            "ke\n",
            "kh\n",
            "in\n",
            "au\n",
            "ni\n",
            "pk\n",
            "sg\n",
            "ae\n",
            "iq\n",
            "hk\n",
            "be\n",
            "qa\n",
            "tw\n",
            "gb\n",
            "zm\n",
            "np\n",
            "cd\n",
            "ec\n",
            "ci\n",
            "mg\n",
            "fj\n",
            "sa\n",
            "co\n",
            "tr\n",
            "de\n",
            "is\n",
            "lu\n",
            "tt\n",
            "br\n",
            "sd\n",
            "gt\n",
            "jo\n",
            "es\n",
            "hr\n",
            "zw\n",
            "rs\n",
            "kr\n",
            "af\n",
            "it\n",
            "uy\n",
            "pe\n",
            "py\n",
            "ar\n",
            "sv\n",
            "jm\n",
            "ph\n",
            "bo\n",
            "nl\n",
            "hn\n",
            "rw\n",
            "ly\n",
            "hu\n",
            "mn\n",
            "al\n",
            "ca\n",
            "tg\n",
            "ve\n",
            "my\n",
            "tn\n",
            "ee\n",
            "nz\n",
            "si\n",
            "gr\n",
            "lk\n",
            "mt\n",
            "cm\n",
            "ml\n",
            "ga\n",
            "th\n",
            "ch\n",
            "ng\n",
            "mk\n",
            "gh\n",
            "ma\n",
            "do\n",
            "lt\n",
            "ht\n",
            "sn\n",
            "bj\n",
            "pa\n",
            "no\n",
            "bg\n",
            "ug\n",
            "cu\n",
            "pg\n",
            "sy\n",
            "mm\n",
            "cy\n",
            "at\n",
            "dz\n",
            "cz\n",
            "ua\n",
            "bs\n",
            "kz\n",
            "mx\n",
            "az\n",
            "et\n",
            "bf\n",
            "om\n",
            "tz\n",
            "am\n",
            "fr\n",
            "se\n",
            "ie\n",
            "dk\n",
            "id\n",
            "md\n",
            "bh\n",
            "fi\n",
            "lb\n",
            "na\n",
            "mw\n",
            "--------------------------\n",
            "\n",
            "Unique values in column 'base_country_name':\n",
            "Paraguay\n",
            "Congo, Dem. Rep.\n",
            "Senegal\n",
            "Sweden\n",
            "Taiwan, China\n",
            "Macedonia, FYR\n",
            "Philippines\n",
            "Malaysia\n",
            "Singapore\n",
            "Fiji\n",
            "Turkey\n",
            "Malawi\n",
            "Iraq\n",
            "Germany\n",
            "Afghanistan\n",
            "Cambodia\n",
            "Jordan\n",
            "Rwanda\n",
            "Sudan\n",
            "France\n",
            "Greece\n",
            "Sri Lanka\n",
            "Algeria\n",
            "Togo\n",
            "Argentina\n",
            "Angola\n",
            "Belgium\n",
            "Iran, Islamic Rep.\n",
            "Ecuador\n",
            "Qatar\n",
            "Albania\n",
            "Madagascar\n",
            "Finland\n",
            "Ghana\n",
            "Myanmar\n",
            "Nicaragua\n",
            "Benin\n",
            "Peru\n",
            "China\n",
            "India\n",
            "United States\n",
            "Belarus\n",
            "Kuwait\n",
            "Malta\n",
            "Chile\n",
            "Puerto Rico\n",
            "Venezuela, RB\n",
            "Croatia\n",
            "Bolivia\n",
            "Nigeria\n",
            "Gabon\n",
            "Italy\n",
            "Lithuania\n",
            "Norway\n",
            "Spain\n",
            "Cuba\n",
            "Denmark\n",
            "Bangladesh\n",
            "Ireland\n",
            "Thailand\n",
            "Morocco\n",
            "Panama\n",
            "Ukraine\n",
            "Israel\n",
            "Iceland\n",
            "Oman\n",
            "Cyprus\n",
            "Uruguay\n",
            "Cote d'Ivoire\n",
            "Mexico\n",
            "Estonia\n",
            "Georgia\n",
            "Zimbabwe\n",
            "Indonesia\n",
            "Guatemala\n",
            "Mongolia\n",
            "Korea, Rep.\n",
            "Azerbaijan\n",
            "Egypt, Arab Rep.\n",
            "Libya\n",
            "Armenia\n",
            "Tunisia\n",
            "Honduras\n",
            "Trinidad and Tobago\n",
            "Saudi Arabia\n",
            "Uganda\n",
            "Namibia\n",
            "Switzerland\n",
            "Zambia\n",
            "Ethiopia\n",
            "Jamaica\n",
            "Latvia\n",
            "United Arab Emirates\n",
            "Hong Kong SAR, China\n",
            "Canada\n",
            "Uzbekistan\n",
            "Czech Republic\n",
            "Mozambique\n",
            "Brazil\n",
            "Kenya\n",
            "West Bank and Gaza\n",
            "Lebanon\n",
            "Yemen, Rep.\n",
            "Slovenia\n",
            "Dominican Republic\n",
            "Botswana\n",
            "Japan\n",
            "Tanzania\n",
            "Luxembourg\n",
            "New Zealand\n",
            "Bosnia and Herzegovina\n",
            "Bahamas, The\n",
            "Haiti\n",
            "Poland\n",
            "Portugal\n",
            "Australia\n",
            "Cameroon\n",
            "Papua New Guinea\n",
            "Romania\n",
            "Bulgaria\n",
            "Austria\n",
            "Nepal\n",
            "Costa Rica\n",
            "Kazakhstan\n",
            "El Salvador\n",
            "Serbia\n",
            "Burkina Faso\n",
            "South Africa\n",
            "Bahrain\n",
            "Colombia\n",
            "Hungary\n",
            "Pakistan\n",
            "Mauritius\n",
            "United Kingdom\n",
            "Moldova\n",
            "Syrian Arab Republic\n",
            "Slovak Republic\n",
            "Vietnam\n",
            "Mali\n",
            "Netherlands\n",
            "--------------------------\n",
            "\n",
            "Unique values in column 'base_country_wb_income':\n",
            "Upper Middle Income\n",
            "High Income\n",
            "Lower Middle Income\n",
            "Low Income\n",
            "--------------------------\n",
            "\n",
            "Unique values in column 'base_country_wb_region':\n",
            "South Asia\n",
            "Sub-Saharan Africa\n",
            "Europe & Central Asia\n",
            "North America\n",
            "East Asia & Pacific\n",
            "Middle East & North Africa\n",
            "Latin America & Caribbean\n",
            "--------------------------\n",
            "\n",
            "Unique values in column 'target_country_code':\n",
            "ye\n",
            "cr\n",
            "mz\n",
            "pr\n",
            "us\n",
            "eg\n",
            "ps\n",
            "ge\n",
            "cl\n",
            "il\n",
            "bw\n",
            "ro\n",
            "uz\n",
            "ba\n",
            "jp\n",
            "kw\n",
            "ao\n",
            "by\n",
            "lv\n",
            "vn\n",
            "pl\n",
            "cn\n",
            "za\n",
            "sk\n",
            "bd\n",
            "ir\n",
            "mu\n",
            "pt\n",
            "ke\n",
            "kh\n",
            "in\n",
            "au\n",
            "pk\n",
            "ni\n",
            "sg\n",
            "iq\n",
            "ae\n",
            "hk\n",
            "be\n",
            "qa\n",
            "tw\n",
            "gb\n",
            "zm\n",
            "np\n",
            "cd\n",
            "ec\n",
            "ci\n",
            "mg\n",
            "fj\n",
            "sa\n",
            "co\n",
            "tr\n",
            "de\n",
            "lu\n",
            "is\n",
            "tt\n",
            "br\n",
            "sd\n",
            "jo\n",
            "gt\n",
            "hr\n",
            "es\n",
            "zw\n",
            "rs\n",
            "kr\n",
            "af\n",
            "it\n",
            "uy\n",
            "py\n",
            "pe\n",
            "ar\n",
            "sv\n",
            "jm\n",
            "ph\n",
            "nl\n",
            "bo\n",
            "hn\n",
            "rw\n",
            "ly\n",
            "hu\n",
            "mn\n",
            "ca\n",
            "al\n",
            "ve\n",
            "tg\n",
            "my\n",
            "tn\n",
            "nz\n",
            "ee\n",
            "si\n",
            "gr\n",
            "mt\n",
            "lk\n",
            "cm\n",
            "ml\n",
            "th\n",
            "ga\n",
            "ch\n",
            "ng\n",
            "mk\n",
            "gh\n",
            "ma\n",
            "do\n",
            "lt\n",
            "ht\n",
            "sn\n",
            "bj\n",
            "pa\n",
            "no\n",
            "bg\n",
            "ug\n",
            "sy\n",
            "pg\n",
            "cu\n",
            "mm\n",
            "cy\n",
            "dz\n",
            "at\n",
            "cz\n",
            "ua\n",
            "kz\n",
            "mx\n",
            "bs\n",
            "az\n",
            "et\n",
            "om\n",
            "bf\n",
            "tz\n",
            "am\n",
            "fr\n",
            "se\n",
            "ie\n",
            "dk\n",
            "id\n",
            "md\n",
            "bh\n",
            "fi\n",
            "lb\n",
            "na\n",
            "mw\n",
            "--------------------------\n",
            "\n",
            "Unique values in column 'target_country_name':\n",
            "Paraguay\n",
            "Congo, Dem. Rep.\n",
            "Senegal\n",
            "Sweden\n",
            "Taiwan, China\n",
            "Macedonia, FYR\n",
            "Philippines\n",
            "Malaysia\n",
            "Singapore\n",
            "Fiji\n",
            "Turkey\n",
            "Malawi\n",
            "Iraq\n",
            "Germany\n",
            "Afghanistan\n",
            "Cambodia\n",
            "Jordan\n",
            "Rwanda\n",
            "Sudan\n",
            "France\n",
            "Greece\n",
            "Sri Lanka\n",
            "Algeria\n",
            "Togo\n",
            "Argentina\n",
            "Angola\n",
            "Belgium\n",
            "Iran, Islamic Rep.\n",
            "Qatar\n",
            "Ecuador\n",
            "Albania\n",
            "Madagascar\n",
            "Finland\n",
            "Ghana\n",
            "Myanmar\n",
            "Nicaragua\n",
            "Peru\n",
            "Benin\n",
            "China\n",
            "India\n",
            "United States\n",
            "Belarus\n",
            "Kuwait\n",
            "Malta\n",
            "Chile\n",
            "Puerto Rico\n",
            "Venezuela, RB\n",
            "Croatia\n",
            "Nigeria\n",
            "Bolivia\n",
            "Gabon\n",
            "Italy\n",
            "Lithuania\n",
            "Norway\n",
            "Spain\n",
            "Cuba\n",
            "Denmark\n",
            "Bangladesh\n",
            "Ireland\n",
            "Thailand\n",
            "Morocco\n",
            "Panama\n",
            "Ukraine\n",
            "Israel\n",
            "Iceland\n",
            "Oman\n",
            "Cyprus\n",
            "Uruguay\n",
            "Mexico\n",
            "Cote d'Ivoire\n",
            "Georgia\n",
            "Zimbabwe\n",
            "Estonia\n",
            "Indonesia\n",
            "Mongolia\n",
            "Guatemala\n",
            "Korea, Rep.\n",
            "Azerbaijan\n",
            "Egypt, Arab Rep.\n",
            "Libya\n",
            "Armenia\n",
            "Tunisia\n",
            "Honduras\n",
            "Trinidad and Tobago\n",
            "Saudi Arabia\n",
            "Uganda\n",
            "Namibia\n",
            "Switzerland\n",
            "Zambia\n",
            "Ethiopia\n",
            "Latvia\n",
            "Jamaica\n",
            "United Arab Emirates\n",
            "Hong Kong SAR, China\n",
            "Canada\n",
            "Uzbekistan\n",
            "Czech Republic\n",
            "Mozambique\n",
            "Brazil\n",
            "Kenya\n",
            "West Bank and Gaza\n",
            "Lebanon\n",
            "Yemen, Rep.\n",
            "Slovenia\n",
            "Dominican Republic\n",
            "Japan\n",
            "Tanzania\n",
            "Botswana\n",
            "Luxembourg\n",
            "New Zealand\n",
            "Bosnia and Herzegovina\n",
            "Bahamas, The\n",
            "Haiti\n",
            "Poland\n",
            "Portugal\n",
            "Australia\n",
            "Cameroon\n",
            "Papua New Guinea\n",
            "Romania\n",
            "Bulgaria\n",
            "Austria\n",
            "Nepal\n",
            "Kazakhstan\n",
            "Costa Rica\n",
            "El Salvador\n",
            "Serbia\n",
            "South Africa\n",
            "Burkina Faso\n",
            "Bahrain\n",
            "Colombia\n",
            "Hungary\n",
            "Pakistan\n",
            "Mauritius\n",
            "Syrian Arab Republic\n",
            "United Kingdom\n",
            "Moldova\n",
            "Slovak Republic\n",
            "Vietnam\n",
            "Netherlands\n",
            "Mali\n",
            "--------------------------\n",
            "\n",
            "Unique values in column 'target_country_wb_income':\n",
            "Upper Middle Income\n",
            "High Income\n",
            "Lower Middle Income\n",
            "Low Income\n",
            "--------------------------\n",
            "\n",
            "Unique values in column 'target_country_wb_region':\n",
            "South Asia\n",
            "Sub-Saharan Africa\n",
            "Europe & Central Asia\n",
            "North America\n",
            "East Asia & Pacific\n",
            "Middle East & North Africa\n",
            "Latin America & Caribbean\n",
            "--------------------------\n",
            "\n"
          ]
        }
      ]
    },
    {
      "cell_type": "markdown",
      "source": [
        "all values are valid in df3"
      ],
      "metadata": {
        "id": "lPg0L_KNKzFx"
      }
    },
    {
      "cell_type": "markdown",
      "source": [
        "df4:"
      ],
      "metadata": {
        "id": "Kd9FBviULIW7"
      }
    },
    {
      "cell_type": "code",
      "source": [
        "# List of data types considered categorical\n",
        "categorical_data_types = ['string', 'boolean']\n",
        "\n",
        "# Identify the categorical columns in df4\n",
        "categorical_columns_df4 = [column for column, dtype in df4.dtypes if dtype in categorical_data_types]\n",
        "\n",
        "# Display the list of categorical column names\n",
        "print(\"Categorical column names in df4:\")\n",
        "for column in categorical_columns_df4:\n",
        "    print(column)\n"
      ],
      "metadata": {
        "colab": {
          "base_uri": "https://localhost:8080/"
        },
        "id": "5UuW7mDlK2u3",
        "outputId": "c472bea5-814f-4998-cffe-cee73355b229"
      },
      "execution_count": 331,
      "outputs": [
        {
          "output_type": "stream",
          "name": "stdout",
          "text": [
            "Categorical column names in df4:\n",
            "country_code\n",
            "country_name\n",
            "wb_income\n",
            "wb_region\n",
            "isic_section_index\n",
            "isic_section_name\n",
            "industry_name\n"
          ]
        }
      ]
    },
    {
      "cell_type": "code",
      "source": [
        "# List of categorical column names in df4\n",
        "categorical_columns_df4 = [\"country_code\", \"country_name\", \"wb_income\", \"wb_region\", \"isic_section_index\",\n",
        "                           \"isic_section_name\", \"industry_name\"]\n",
        "\n",
        "# Iterate over the categorical columns in df4\n",
        "for column in categorical_columns_df4:\n",
        "    unique_values = df4.select(column).distinct().collect()\n",
        "    print(\"Unique values in column '{}':\".format(column))\n",
        "    for row in unique_values:\n",
        "        value = row[0]\n",
        "        print(value)\n",
        "    print(\"--------------------------\".format(column))\n",
        "\n",
        "    print()  # Add an empty line between columns\n"
      ],
      "metadata": {
        "colab": {
          "base_uri": "https://localhost:8080/"
        },
        "id": "zUZw4GMDLJum",
        "outputId": "71a11801-ff85-46f1-e9ab-da1d23717f42"
      },
      "execution_count": 332,
      "outputs": [
        {
          "output_type": "stream",
          "name": "stdout",
          "text": [
            "Unique values in column 'country_code':\n",
            "ye\n",
            "cr\n",
            "mz\n",
            "pr\n",
            "us\n",
            "eg\n",
            "ps\n",
            "ge\n",
            "cl\n",
            "il\n",
            "bw\n",
            "ro\n",
            "uz\n",
            "ba\n",
            "jp\n",
            "kw\n",
            "ao\n",
            "by\n",
            "lv\n",
            "vn\n",
            "pl\n",
            "cn\n",
            "za\n",
            "sk\n",
            "bd\n",
            "ir\n",
            "mu\n",
            "pt\n",
            "ke\n",
            "kh\n",
            "in\n",
            "au\n",
            "ni\n",
            "pk\n",
            "sg\n",
            "ae\n",
            "iq\n",
            "hk\n",
            "be\n",
            "qa\n",
            "tw\n",
            "gb\n",
            "zm\n",
            "np\n",
            "cd\n",
            "ec\n",
            "ci\n",
            "mg\n",
            "fj\n",
            "sa\n",
            "co\n",
            "tr\n",
            "de\n",
            "is\n",
            "lu\n",
            "tt\n",
            "br\n",
            "sd\n",
            "gt\n",
            "jo\n",
            "es\n",
            "hr\n",
            "zw\n",
            "rs\n",
            "kr\n",
            "af\n",
            "it\n",
            "uy\n",
            "pe\n",
            "ar\n",
            "sv\n",
            "jm\n",
            "ph\n",
            "bo\n",
            "nl\n",
            "hn\n",
            "rw\n",
            "ly\n",
            "hu\n",
            "mn\n",
            "al\n",
            "ca\n",
            "ve\n",
            "my\n",
            "tn\n",
            "ee\n",
            "nz\n",
            "si\n",
            "gr\n",
            "lk\n",
            "mt\n",
            "cm\n",
            "ml\n",
            "ga\n",
            "th\n",
            "ch\n",
            "ng\n",
            "mk\n",
            "gh\n",
            "ma\n",
            "do\n",
            "lt\n",
            "ht\n",
            "sn\n",
            "bj\n",
            "pa\n",
            "no\n",
            "bg\n",
            "ug\n",
            "cu\n",
            "pg\n",
            "sy\n",
            "mm\n",
            "cy\n",
            "at\n",
            "dz\n",
            "cz\n",
            "ua\n",
            "bs\n",
            "kz\n",
            "mx\n",
            "az\n",
            "et\n",
            "bf\n",
            "om\n",
            "tz\n",
            "am\n",
            "fr\n",
            "se\n",
            "ie\n",
            "dk\n",
            "id\n",
            "md\n",
            "bh\n",
            "fi\n",
            "lb\n",
            "mw\n",
            "--------------------------\n",
            "\n",
            "Unique values in column 'country_name':\n",
            "Congo, Dem. Rep.\n",
            "Senegal\n",
            "Sweden\n",
            "Taiwan, China\n",
            "Macedonia, FYR\n",
            "Philippines\n",
            "Malaysia\n",
            "Singapore\n",
            "Fiji\n",
            "Turkey\n",
            "Malawi\n",
            "Iraq\n",
            "Germany\n",
            "Afghanistan\n",
            "Cambodia\n",
            "Jordan\n",
            "Rwanda\n",
            "Sudan\n",
            "France\n",
            "Greece\n",
            "Sri Lanka\n",
            "Algeria\n",
            "Argentina\n",
            "Angola\n",
            "Belgium\n",
            "Iran, Islamic Rep.\n",
            "Ecuador\n",
            "Qatar\n",
            "Albania\n",
            "Madagascar\n",
            "Finland\n",
            "Ghana\n",
            "Myanmar\n",
            "Nicaragua\n",
            "Benin\n",
            "Peru\n",
            "China\n",
            "India\n",
            "United States\n",
            "Belarus\n",
            "Kuwait\n",
            "Malta\n",
            "Chile\n",
            "Puerto Rico\n",
            "Venezuela, RB\n",
            "Croatia\n",
            "Bolivia\n",
            "Nigeria\n",
            "Gabon\n",
            "Italy\n",
            "Lithuania\n",
            "Norway\n",
            "Spain\n",
            "Cuba\n",
            "Denmark\n",
            "Bangladesh\n",
            "Ireland\n",
            "Thailand\n",
            "Morocco\n",
            "Panama\n",
            "Ukraine\n",
            "Israel\n",
            "Iceland\n",
            "Oman\n",
            "Cyprus\n",
            "Uruguay\n",
            "Cote d'Ivoire\n",
            "Mexico\n",
            "Estonia\n",
            "Georgia\n",
            "Zimbabwe\n",
            "Indonesia\n",
            "Guatemala\n",
            "Mongolia\n",
            "Korea, Rep.\n",
            "Azerbaijan\n",
            "Egypt, Arab Rep.\n",
            "Libya\n",
            "Armenia\n",
            "Tunisia\n",
            "Honduras\n",
            "Trinidad and Tobago\n",
            "Saudi Arabia\n",
            "Uganda\n",
            "Switzerland\n",
            "Zambia\n",
            "Ethiopia\n",
            "Jamaica\n",
            "Latvia\n",
            "United Arab Emirates\n",
            "Hong Kong SAR, China\n",
            "Canada\n",
            "Uzbekistan\n",
            "Czech Republic\n",
            "Mozambique\n",
            "Brazil\n",
            "Kenya\n",
            "West Bank and Gaza\n",
            "Lebanon\n",
            "Yemen, Rep.\n",
            "Slovenia\n",
            "Dominican Republic\n",
            "Botswana\n",
            "Japan\n",
            "Tanzania\n",
            "Luxembourg\n",
            "New Zealand\n",
            "Bosnia and Herzegovina\n",
            "Bahamas, The\n",
            "Haiti\n",
            "Poland\n",
            "Portugal\n",
            "Australia\n",
            "Cameroon\n",
            "Papua New Guinea\n",
            "Romania\n",
            "Bulgaria\n",
            "Austria\n",
            "Nepal\n",
            "Costa Rica\n",
            "Kazakhstan\n",
            "El Salvador\n",
            "Serbia\n",
            "Burkina Faso\n",
            "South Africa\n",
            "Bahrain\n",
            "Colombia\n",
            "Hungary\n",
            "Pakistan\n",
            "Mauritius\n",
            "United Kingdom\n",
            "Moldova\n",
            "Syrian Arab Republic\n",
            "Slovak Republic\n",
            "Vietnam\n",
            "Mali\n",
            "Netherlands\n",
            "--------------------------\n",
            "\n",
            "Unique values in column 'wb_income':\n",
            "Lower middle income\n",
            "High income\n",
            "Upper middle income\n",
            "Low income\n",
            "--------------------------\n",
            "\n",
            "Unique values in column 'wb_region':\n",
            "South Asia\n",
            "Latin America & Caribbean \n",
            "Europe & Central Asia\n",
            "North America\n",
            "East Asia & Pacific\n",
            "Middle East & North Africa\n",
            "Sub-Saharan Africa \n",
            "--------------------------\n",
            "\n",
            "Unique values in column 'isic_section_index':\n",
            "K\n",
            "F\n",
            "Q\n",
            "B\n",
            "M\n",
            "L\n",
            "D\n",
            "O\n",
            "C\n",
            "J\n",
            "A\n",
            "N\n",
            "X\n",
            "S\n",
            "R\n",
            "G\n",
            "I\n",
            "P\n",
            "H\n",
            "--------------------------\n",
            "\n",
            "Unique values in column 'isic_section_name':\n",
            "Human health and social work activities\n",
            "Education\n",
            "Agriculture, forestry and fishing \n",
            "Electricity, gas, steam and air conditioning supply\n",
            "Not_mapped\n",
            "Accommodation and food service activities\n",
            "Arts, entertainment and recreation \n",
            "Transportation and storage\n",
            "Administrative and support service activities\n",
            "Construction\n",
            "Wholesale and retail trade; repair of motor vehicles and motorcycles\n",
            "Real estate activities\n",
            "Mining and quarrying\n",
            "Information and communication\n",
            "Financial and insurance activities\n",
            "Manufacturing\n",
            "Professional scientific and technical activities\n",
            "Public administration and defence; compulsory social security\n",
            "Other service activities\n",
            "--------------------------\n",
            "\n",
            "Unique values in column 'industry_name':\n",
            "Broadcast Media\n",
            "Investment Banking\n",
            "Wholesale\n",
            "Package/Freight Delivery\n",
            "International Trade & Development\n",
            "Online Media\n",
            "Sporting Goods\n",
            "Shipbuilding\n",
            "Computer Hardware\n",
            "Motion Pictures & Film\n",
            "Entertainment\n",
            "Maritime\n",
            "Railroad Manufacture\n",
            "Newspapers\n",
            "Education Management\n",
            "Wireless\n",
            "Information Services\n",
            "Events Services\n",
            "Primary/Secondary Education\n",
            "Insurance\n",
            "Financial Services\n",
            "Glass, Ceramics & Concrete\n",
            "Consumer Electronics\n",
            "Civic & Social Organization\n",
            "Public Safety\n",
            "Warehousing\n",
            "Computer Networking\n",
            "Consumer Goods\n",
            "Medical Device\n",
            "Machinery\n",
            "Sports\n",
            "Program Development\n",
            "Accounting\n",
            "International Affairs\n",
            "Recreational Facilities & Services\n",
            "Individual & Family Services\n",
            "Military\n",
            "Import & Export\n",
            "Logistics & Supply Chain\n",
            "Publishing\n",
            "Environmental Services\n",
            "Philanthropy\n",
            "Real Estate\n",
            "Internet\n",
            "Apparel & Fashion\n",
            "Think Tanks\n",
            "Oil & Energy\n",
            "Law Practice\n",
            "Public Policy\n",
            "Health, Wellness & Fitness\n",
            "Printing\n",
            "Electrical & Electronic Manufacturing\n",
            "Textiles\n",
            "Writing & Editing\n",
            "Professional Training & Coaching\n",
            "Market Research\n",
            "Leisure, Travel & Tourism\n",
            "Security & Investigations\n",
            "Mechanical or Industrial Engineering\n",
            "Renewables & Environment\n",
            "Graphic Design\n",
            "Computer Software\n",
            "Veterinary\n",
            "Capital Markets\n",
            "Law Enforcement\n",
            "Automotive\n",
            "Mining & Metals\n",
            "Gambling & Casinos\n",
            "Research\n",
            "Medical Practice\n",
            "Museums & Institutions\n",
            "Fundraising\n",
            "Investment Management\n",
            "Construction\n",
            "Arts & Crafts\n",
            "Semiconductors\n",
            "Utilities\n",
            "Executive Office\n",
            "Plastics\n",
            "Biotechnology\n",
            "Venture Capital & Private Equity\n",
            "Media Production\n",
            "Transportation/Trucking/Railroad\n",
            "Facilities Services\n",
            "Dairy\n",
            "Telecommunications\n",
            "Restaurants\n",
            "Packaging & Containers\n",
            "Industrial Automation\n",
            "Fine Art\n",
            "Animation\n",
            "Food & Beverages\n",
            "Hospitality\n",
            "Design\n",
            "Music\n",
            "Furniture\n",
            "Hospital & Health Care\n",
            "Photography\n",
            "Building Materials\n",
            "Information Technology & Services\n",
            "E-Learning\n",
            "Government Relations\n",
            "Marketing & Advertising\n",
            "Cosmetics\n",
            "Commercial Real Estate\n",
            "Consumer Services\n",
            "Political Organization\n",
            "Luxury Goods & Jewelry\n",
            "Architecture & Planning\n",
            "Defense & Space\n",
            "Supermarkets\n",
            "Aviation & Aerospace\n",
            "Chemicals\n",
            "Computer & Network Security\n",
            "Performing Arts\n",
            "Banking\n",
            "Airlines/Aviation\n",
            "Paper & Forest Products\n",
            "Government Administration\n",
            "Outsourcing/Offshoring\n",
            "Wine & Spirits\n",
            "Pharmaceuticals\n",
            "Judiciary\n",
            "Religious Institutions\n",
            "Nanotechnology\n",
            "Legal Services\n",
            "Tobacco\n",
            "Management Consulting\n",
            "Business Supplies & Equipment\n",
            "Food Production\n",
            "Retail\n",
            "Civil Engineering\n",
            "Libraries\n",
            "Staffing & Recruiting\n",
            "Higher Education\n",
            "Non-Profit Organization Management\n",
            "Public Relations & Communications\n",
            "Translation & Localization\n",
            "Mental Health Care\n",
            "Legislative Office\n",
            "Farming\n",
            "Computer Games\n",
            "Human Resources\n",
            "--------------------------\n",
            "\n"
          ]
        }
      ]
    },
    {
      "cell_type": "markdown",
      "source": [
        "there is no invlaus values in df4"
      ],
      "metadata": {
        "id": "SBlj3QUtLTcd"
      }
    },
    {
      "cell_type": "markdown",
      "source": [
        "df5:\n"
      ],
      "metadata": {
        "id": "3mW2w9NKLWxq"
      }
    },
    {
      "cell_type": "code",
      "source": [
        "# List of data types considered categorical\n",
        "categorical_data_types = ['string', 'boolean']\n",
        "\n",
        "# Identify the categorical columns in df5\n",
        "categorical_columns_df5 = [column for column, dtype in df5.dtypes if dtype in categorical_data_types]\n",
        "\n",
        "# Display the list of categorical column names\n",
        "print(\"Categorical column names in df5:\")\n",
        "for column in categorical_columns_df5:\n",
        "    print(column)\n"
      ],
      "metadata": {
        "colab": {
          "base_uri": "https://localhost:8080/"
        },
        "id": "Rk_CMULnLXvb",
        "outputId": "2635416d-b092-4a9a-d10f-232887d2f0f4"
      },
      "execution_count": 333,
      "outputs": [
        {
          "output_type": "stream",
          "name": "stdout",
          "text": [
            "Categorical column names in df5:\n",
            "country_code\n",
            "country_name\n",
            "wb_income\n",
            "wb_region\n",
            "skill_group_category\n",
            "skill_group_name\n"
          ]
        }
      ]
    },
    {
      "cell_type": "code",
      "source": [
        "# List of categorical column names in df5\n",
        "categorical_columns_df5 = [\"country_code\",\"country_name\",  \"wb_income\" ,\"wb_region\" ,\"skill_group_category\"\n",
        ",\"skill_group_name\"]\n",
        "\n",
        "# Iterate over the categorical columns in df5\n",
        "for column in categorical_columns_df5:\n",
        "    unique_values = df5.select(column).distinct().collect()\n",
        "    print(\"Unique values in column '{}':\".format(column))\n",
        "    for row in unique_values:\n",
        "        value = row[0]\n",
        "        print(value)\n",
        "    print(\"--------------------------\".format(column))\n",
        "\n",
        "    print()  # Add an empty line between columns\n"
      ],
      "metadata": {
        "colab": {
          "base_uri": "https://localhost:8080/"
        },
        "id": "pbaEBXukLm5x",
        "outputId": "53b2e374-776d-4b1d-cb27-1639e049c50f"
      },
      "execution_count": 334,
      "outputs": [
        {
          "output_type": "stream",
          "name": "stdout",
          "text": [
            "Unique values in column 'country_code':\n",
            "ye\n",
            "cr\n",
            "mz\n",
            "pr\n",
            "us\n",
            "eg\n",
            "ps\n",
            "ge\n",
            "cl\n",
            "il\n",
            "bw\n",
            "ro\n",
            "uz\n",
            "ba\n",
            "jp\n",
            "kw\n",
            "ao\n",
            "by\n",
            "lv\n",
            "vn\n",
            "pl\n",
            "cn\n",
            "za\n",
            "sk\n",
            "bd\n",
            "ir\n",
            "mu\n",
            "pt\n",
            "kh\n",
            "ke\n",
            "in\n",
            "au\n",
            "ni\n",
            "pk\n",
            "sg\n",
            "iq\n",
            "ae\n",
            "hk\n",
            "be\n",
            "qa\n",
            "tw\n",
            "gb\n",
            "zm\n",
            "np\n",
            "cd\n",
            "ec\n",
            "ci\n",
            "mg\n",
            "fj\n",
            "sa\n",
            "co\n",
            "tr\n",
            "de\n",
            "is\n",
            "lu\n",
            "tt\n",
            "br\n",
            "sd\n",
            "gt\n",
            "jo\n",
            "hr\n",
            "es\n",
            "zw\n",
            "rs\n",
            "kr\n",
            "af\n",
            "it\n",
            "uy\n",
            "py\n",
            "pe\n",
            "ar\n",
            "sv\n",
            "jm\n",
            "ph\n",
            "bo\n",
            "nl\n",
            "hn\n",
            "rw\n",
            "ly\n",
            "hu\n",
            "mn\n",
            "al\n",
            "ca\n",
            "tg\n",
            "ve\n",
            "my\n",
            "tn\n",
            "ee\n",
            "nz\n",
            "si\n",
            "gr\n",
            "mt\n",
            "lk\n",
            "cm\n",
            "ml\n",
            "ga\n",
            "th\n",
            "ch\n",
            "ng\n",
            "mk\n",
            "gh\n",
            "ma\n",
            "do\n",
            "lt\n",
            "ht\n",
            "sn\n",
            "bj\n",
            "pa\n",
            "no\n",
            "bg\n",
            "ug\n",
            "cu\n",
            "pg\n",
            "sy\n",
            "mm\n",
            "cy\n",
            "dz\n",
            "at\n",
            "cz\n",
            "ua\n",
            "bs\n",
            "kz\n",
            "mx\n",
            "az\n",
            "et\n",
            "bf\n",
            "om\n",
            "tz\n",
            "am\n",
            "fr\n",
            "se\n",
            "ie\n",
            "dk\n",
            "id\n",
            "md\n",
            "bh\n",
            "fi\n",
            "lb\n",
            "na\n",
            "mw\n",
            "--------------------------\n",
            "\n",
            "Unique values in column 'country_name':\n",
            "Paraguay\n",
            "Congo, Dem. Rep.\n",
            "Senegal\n",
            "Sweden\n",
            "Taiwan, China\n",
            "Macedonia, FYR\n",
            "Philippines\n",
            "Malaysia\n",
            "Singapore\n",
            "Fiji\n",
            "Turkey\n",
            "Malawi\n",
            "Iraq\n",
            "Germany\n",
            "Afghanistan\n",
            "Cambodia\n",
            "Jordan\n",
            "Rwanda\n",
            "Sudan\n",
            "France\n",
            "Greece\n",
            "Sri Lanka\n",
            "Algeria\n",
            "Togo\n",
            "Argentina\n",
            "Angola\n",
            "Belgium\n",
            "Iran, Islamic Rep.\n",
            "Ecuador\n",
            "Qatar\n",
            "Albania\n",
            "Madagascar\n",
            "Finland\n",
            "Ghana\n",
            "Myanmar\n",
            "Nicaragua\n",
            "Benin\n",
            "Peru\n",
            "China\n",
            "India\n",
            "United States\n",
            "Belarus\n",
            "Kuwait\n",
            "Malta\n",
            "Chile\n",
            "Puerto Rico\n",
            "Venezuela, RB\n",
            "Croatia\n",
            "Bolivia\n",
            "Nigeria\n",
            "Gabon\n",
            "Italy\n",
            "Lithuania\n",
            "Norway\n",
            "Spain\n",
            "Cuba\n",
            "Denmark\n",
            "Bangladesh\n",
            "Ireland\n",
            "Thailand\n",
            "Morocco\n",
            "Panama\n",
            "Ukraine\n",
            "Iceland\n",
            "Israel\n",
            "Oman\n",
            "Cyprus\n",
            "Uruguay\n",
            "Cote d'Ivoire\n",
            "Mexico\n",
            "Estonia\n",
            "Georgia\n",
            "Zimbabwe\n",
            "Indonesia\n",
            "Guatemala\n",
            "Mongolia\n",
            "Korea, Rep.\n",
            "Azerbaijan\n",
            "Egypt, Arab Rep.\n",
            "Libya\n",
            "Armenia\n",
            "Tunisia\n",
            "Honduras\n",
            "Trinidad and Tobago\n",
            "Saudi Arabia\n",
            "Uganda\n",
            "Namibia\n",
            "Switzerland\n",
            "Zambia\n",
            "Ethiopia\n",
            "Jamaica\n",
            "Latvia\n",
            "United Arab Emirates\n",
            "Hong Kong SAR, China\n",
            "Canada\n",
            "Uzbekistan\n",
            "Czech Republic\n",
            "Mozambique\n",
            "Brazil\n",
            "Kenya\n",
            "West Bank and Gaza\n",
            "Lebanon\n",
            "Yemen, Rep.\n",
            "Slovenia\n",
            "Dominican Republic\n",
            "Botswana\n",
            "Japan\n",
            "Tanzania\n",
            "Luxembourg\n",
            "New Zealand\n",
            "Bahamas, The\n",
            "Bosnia and Herzegovina\n",
            "Haiti\n",
            "Poland\n",
            "Portugal\n",
            "Australia\n",
            "Cameroon\n",
            "Papua New Guinea\n",
            "Romania\n",
            "Bulgaria\n",
            "Austria\n",
            "Nepal\n",
            "Costa Rica\n",
            "El Salvador\n",
            "Kazakhstan\n",
            "Serbia\n",
            "Burkina Faso\n",
            "South Africa\n",
            "Bahrain\n",
            "Colombia\n",
            "Hungary\n",
            "Pakistan\n",
            "Mauritius\n",
            "Moldova\n",
            "Syrian Arab Republic\n",
            "United Kingdom\n",
            "Slovak Republic\n",
            "Vietnam\n",
            "Mali\n",
            "Netherlands\n",
            "--------------------------\n",
            "\n",
            "Unique values in column 'wb_income':\n",
            "Lower middle income\n",
            "High income\n",
            "Upper middle income\n",
            "Low income\n",
            "--------------------------\n",
            "\n",
            "Unique values in column 'wb_region':\n",
            "South Asia\n",
            "Latin America & Caribbean \n",
            "Europe & Central Asia\n",
            "North America\n",
            "East Asia & Pacific\n",
            "Middle East & North Africa\n",
            "Sub-Saharan Africa \n",
            "--------------------------\n",
            "\n",
            "Unique values in column 'skill_group_category':\n",
            "Soft Skills\n",
            "Specialized Industry Skills\n",
            "Tech Skills\n",
            "Business Skills\n",
            "Disruptive Tech Skills\n",
            "--------------------------\n",
            "\n",
            "Unique values in column 'skill_group_name':\n",
            "Information Management\n",
            "Entrepreneurship\n",
            "Investment Banking\n",
            "Contract Law\n",
            "Legislation\n",
            "Travel Management\n",
            "Religious Studies\n",
            "Administrative Assistance\n",
            "Digital Marketing\n",
            "Product Testing\n",
            "Wholesale\n",
            "People Management\n",
            "Recreation\n",
            "Land Surveying\n",
            "Earth Science\n",
            "Oil & Gas\n",
            "Botany\n",
            "Signal Processing\n",
            "International Law\n",
            "Affiliate Marketing\n",
            "Wellness\n",
            "Kinesiology\n",
            "Data-driven Decision Making\n",
            "Cybersecurity\n",
            "Corporate Communications\n",
            "Obstetrics\n",
            "Product Development\n",
            "Computer Hardware\n",
            "Composites\n",
            "Genetic Engineering\n",
            "Nuclear Physics\n",
            "Manufacturing Operations\n",
            "Physical Medicine and Rehabilitation\n",
            "Video\n",
            "Anthropology\n",
            "Insurance\n",
            "Linguistics\n",
            "Alcoholic Beverages\n",
            "Sales Operations\n",
            "Tax Accounting\n",
            "Pathology\n",
            "Library Science\n",
            "Public Safety\n",
            "Volunteer Management\n",
            "Educational Administration\n",
            "Professional Cleaning\n",
            "Computer Networking\n",
            "Environmental Science\n",
            "Delivery Operations\n",
            "Theatre\n",
            "Food Service Operations\n",
            "Reading Comprehension\n",
            "Teaching\n",
            "Retail Packaging\n",
            "Property Management\n",
            "Mining\n",
            "Translation\n",
            "Urology\n",
            "Competitive Strategies\n",
            "Nursing\n",
            "Conceptual Art\n",
            "Enterprise Software\n",
            "Real Estate\n",
            "Nonprofit Management\n",
            "Financial Accounting\n",
            "Professional Sports\n",
            "Biomedical Engineering\n",
            "Digital Literacy\n",
            "Business Management\n",
            "Aerospace Engineering\n",
            "Public Policy\n",
            "System Administration\n",
            "Hospitality Industry\n",
            "Apparel\n",
            "Software Development Life Cycle (SDLC)\n",
            "Electronic Control Systems\n",
            "Printing\n",
            "Materials Science\n",
            "Drilling Engineering\n",
            "Veterinary Medicine\n",
            "Flexible Approach\n",
            "Electronics\n",
            "Sociology\n",
            "Product Marketing\n",
            "Mobile Application Development\n",
            "Educational Research\n",
            "Customer Service Systems\n",
            "Agricultural Production\n",
            "Foreign Languages\n",
            "Growth Strategies\n",
            "Recruiting\n",
            "Nuclear Engineering\n",
            "Web Hosting\n",
            "Graphic Design\n",
            "Human Computer Interaction\n",
            "Air Force\n",
            "Psychiatry\n",
            "Advertising\n",
            "Criminal Law\n",
            "Accounts Payable\n",
            "Social Media\n",
            "Ophthalmology\n",
            "Debt Collection\n",
            "Capital Markets\n",
            "Neurology\n",
            "Industrial Design\n",
            "Labor and Employment Law\n",
            "Automotive\n",
            "Pharmaceutics\n",
            "Food Manufacturing\n",
            "Structural Engineering\n",
            "Research\n",
            "Arts & Crafts\n",
            "Psychology\n",
            "Utilities\n",
            "Technical Support\n",
            "Plastics\n",
            "Compensation & Benefits\n",
            "Physical Security\n",
            "Game Development\n",
            "Chemical Processing\n",
            "History\n",
            "Maintenance & Repair\n",
            "Constitutional Law\n",
            "Instrumentation\n",
            "Telecommunications\n",
            "Customer Experience\n",
            "Air Traffic Control\n",
            "Dermatology\n",
            "Physiology\n",
            "Family Law\n",
            "Landscape Architecture\n",
            "Leadership\n",
            "Geotechnical Engineering\n",
            "Emergency Medicine\n",
            "Power Systems\n",
            "Urban Planning\n",
            "Animation\n",
            "Public Health\n",
            "Construction Engineering\n",
            "Web Development\n",
            "Cardiology\n",
            "Pediatrics\n",
            "Fishing\n",
            "Healthcare Management\n",
            "Tax Law\n",
            "Machining\n",
            "Army\n",
            "Pharmaceutical Manufacturing\n",
            "Architecture\n",
            "Sales Leads\n",
            "Music\n",
            "Commercial Banking\n",
            "Medicine\n",
            "Orthopedic Surgery\n",
            "Artificial Intelligence (AI)\n",
            "Development Tools\n",
            "Property Law\n",
            "Photography\n",
            "Teamwork\n",
            "Social Perceptiveness\n",
            "Intellectual Property\n",
            "Sports Coaching\n",
            "General Surgery\n",
            "Law\n",
            "Mathematics\n",
            "Social Services\n",
            "Ground Transportation\n",
            "Computer Graphics\n",
            "Structural Analysis\n",
            "Interior Design\n",
            "Analytical Reasoning\n",
            "Event Planning\n",
            "K-12 Education\n",
            "Art History\n",
            "Editing\n",
            "Management Accounting\n",
            "Fluid Mechanics\n",
            "Physics\n",
            "Inorganic Chemistry\n",
            "Employee Learning & Development\n",
            "Robotics\n",
            "Agronomy\n",
            "Environmental Consulting\n",
            "Family Medicine\n",
            "Television\n",
            "Journalism\n",
            "Cooking\n",
            "Anesthesiology\n",
            "Payroll Services\n",
            "Oceanography\n",
            "Scientific Computing\n",
            "Naval Architecture\n",
            "Active Learning\n",
            "Radio Production\n",
            "Persuasion\n",
            "Software Testing\n",
            "Airlines\n",
            "Gastroenterology\n",
            "Nanotechnology\n",
            "National Security\n",
            "Organic Chemistry\n",
            "Time Management\n",
            "Management Consulting\n",
            "Human Resources (HR)\n",
            "Documentation\n",
            "Personal Coaching\n",
            "Oncology\n",
            "Creativity Skills\n",
            "Project Management\n",
            "Retail\n",
            "Writing\n",
            "Bookkeeping\n",
            "Procurement\n",
            "Auditing\n",
            "Maritime Operations\n",
            "Investor Relations\n",
            "Economics\n",
            "Literature\n",
            "Oral Comprehension\n",
            "Communication\n",
            "Data Science\n",
            "Radiology\n",
            "Data Storage Technologies\n",
            "Evolutionary Biology\n",
            "Dance\n",
            "Cosmetology\n",
            "Higher Education\n",
            "Revenue Analysis\n",
            "Visual Arts\n",
            "Commercial Photography\n",
            "Dentistry\n",
            "Navy\n",
            "Inventory Management\n",
            "Childcare\n",
            "Problem Solving\n",
            "Inside Sales\n",
            "FinTech\n",
            "Partner Development\n",
            "Carpentry\n",
            "Operational Efficiency\n",
            "Zoology\n",
            "Water Engineering\n",
            "Politics\n",
            "Aircraft Management\n",
            "Negotiation\n",
            "Environmental Engineering\n",
            "Forestry\n",
            "Communication Disorders\n",
            "--------------------------\n",
            "\n"
          ]
        }
      ]
    },
    {
      "cell_type": "markdown",
      "source": [
        "df5 hv no invalid values as well alhumdullah"
      ],
      "metadata": {
        "id": "DzWGCXLnL1Mz"
      }
    },
    {
      "cell_type": "markdown",
      "source": [
        "## check the outliers."
      ],
      "metadata": {
        "id": "-l3RL30dLCIy"
      }
    },
    {
      "cell_type": "code",
      "source": [
        "df3.describe().show()\n"
      ],
      "metadata": {
        "colab": {
          "base_uri": "https://localhost:8080/"
        },
        "id": "itaq6QcnSHXa",
        "outputId": "9e87d222-8e17-4be7-d272-a1e57a5651ba"
      },
      "execution_count": 335,
      "outputs": [
        {
          "output_type": "stream",
          "name": "stdout",
          "text": [
            "+-------+-----------------+-----------------+------------------+------------------+----------------------+----------------------+-------------------+-------------------+------------------+------------------+------------------------+------------------------+------------------+-------------------+--------------------+--------------------+--------------------+\n",
            "|summary|base_country_code|base_country_name|          base_lat|         base_long|base_country_wb_income|base_country_wb_region|target_country_code|target_country_name|        target_lat|       target_long|target_country_wb_income|target_country_wb_region|  net_per_10K_2015|   net_per_10K_2016|    net_per_10K_2017|    net_per_10K_2018|    net_per_10K_2019|\n",
            "+-------+-----------------+-----------------+------------------+------------------+----------------------+----------------------+-------------------+-------------------+------------------+------------------+------------------------+------------------------+------------------+-------------------+--------------------+--------------------+--------------------+\n",
            "|  count|             4148|             4148|              4148|              4148|                  4148|                  4148|               4148|               4148|              4148|              4148|                    4148|                    4148|              4148|               4148|                4148|                4148|                4148|\n",
            "|   mean|             null|             null| 28.41802165308554|21.698305257714495|                  null|                  null|               null|               null|28.418021653085972|21.698305257714516|                    null|                    null|0.4617574734811976|0.15024831243973058|-0.08027242044358726|-0.04059064609450358|-0.02274349083895...|\n",
            "| stddev|             null|             null|25.086012250730718| 61.93738067550062|                  null|                  null|               null|               null|  25.0860122507307| 61.93738067550071|                    null|                    null| 5.006529628076897| 4.2011179412928366|   3.203092285748441|   3.593876307573041|   3.633246602241163|\n",
            "|    min|               ae|      Afghanistan|        -40.900557|       -106.346771|           High Income|   East Asia & Pacific|                 ae|        Afghanistan|        -40.900557|       -106.346771|             High Income|     East Asia & Pacific|            -37.01|             -40.89|              -43.66|              -56.22|              -50.33|\n",
            "|    max|               zw|         Zimbabwe|         64.963051|        179.414413|   Upper Middle Income|    Sub-Saharan Africa|                 zw|           Zimbabwe|         64.963051|        179.414413|     Upper Middle Income|      Sub-Saharan Africa|            150.68|             124.48|                87.0|               91.41|               87.71|\n",
            "+-------+-----------------+-----------------+------------------+------------------+----------------------+----------------------+-------------------+-------------------+------------------+------------------+------------------------+------------------------+------------------+-------------------+--------------------+--------------------+--------------------+\n",
            "\n"
          ]
        }
      ]
    },
    {
      "cell_type": "code",
      "source": [
        "import matplotlib.pyplot as plt\n",
        "import pandas as pd\n",
        "\n",
        "# Select the columns to check for outliers\n",
        "columns = [\"net_per_10K_2015\", \"net_per_10K_2016\", \"net_per_10K_2017\", \"net_per_10K_2018\", \"net_per_10K_2019\"]\n",
        "\n",
        "# Create a pandas DataFrame with the selected columns\n",
        "data = pd.DataFrame(df3.select(columns).collect(), columns=columns)\n",
        "\n",
        "# Create box plots for the columns\n",
        "data.boxplot(column=columns, vert=False)\n",
        "\n",
        "# Set the plot title and labels\n",
        "plt.title(\"Outliers in df3\")\n",
        "plt.xlabel(\"Value\")\n",
        "plt.ylabel(\"Columns\")\n",
        "\n",
        "# Display the plot\n",
        "plt.show()\n"
      ],
      "metadata": {
        "colab": {
          "base_uri": "https://localhost:8080/",
          "height": 472
        },
        "id": "3DIBwQz5MqOz",
        "outputId": "28957cba-1c38-45f8-c1ef-91e8634f8364"
      },
      "execution_count": 336,
      "outputs": [
        {
          "output_type": "display_data",
          "data": {
            "text/plain": [
              "<Figure size 640x480 with 1 Axes>"
            ],
            "image/png": "[encoded data removed]"
          },
          "metadata": {}
        }
      ]
    },
    {
      "cell_type": "markdown",
      "source": [
        "remove the outlier in the net_per_10K_2015 column that is above 150 in df3"
      ],
      "metadata": {
        "id": "EW5-cp4bMkUF"
      }
    },
    {
      "cell_type": "code",
      "source": [
        "from pyspark.sql.functions import col\n",
        "\n",
        "# Filter out the outlier\n",
        "df3 = df3.filter(col(\"net_per_10K_2015\") <= 150)"
      ],
      "metadata": {
        "id": "2J7pieYcM4pS"
      },
      "execution_count": 337,
      "outputs": []
    },
    {
      "cell_type": "code",
      "source": [
        "import matplotlib.pyplot as plt\n",
        "import pandas as pd\n",
        "\n",
        "# Select the columns to check for outliers\n",
        "columns = [\"net_per_10K_2015\", \"net_per_10K_2016\", \"net_per_10K_2017\", \"net_per_10K_2018\", \"net_per_10K_2019\"]\n",
        "\n",
        "# Create a pandas DataFrame with the selected columns\n",
        "data = pd.DataFrame(df3.select(columns).collect(), columns=columns)\n",
        "\n",
        "# Create box plots for the columns\n",
        "data.boxplot(column=columns, vert=False)\n",
        "\n",
        "# Set the plot title and labels\n",
        "plt.title(\"Outliers in df3\")\n",
        "plt.xlabel(\"Value\")\n",
        "plt.ylabel(\"Columns\")\n",
        "\n",
        "# Display the plot\n",
        "plt.show()\n"
      ],
      "metadata": {
        "colab": {
          "base_uri": "https://localhost:8080/",
          "height": 472
        },
        "id": "-JGkb1quM8Hd",
        "outputId": "76ff6d70-b477-463e-e00b-d6f9ff89c660"
      },
      "execution_count": 338,
      "outputs": [
        {
          "output_type": "display_data",
          "data": {
            "text/plain": [
              "<Figure size 640x480 with 1 Axes>"
            ],
            "image/png": "[encoded data removed]"
          },
          "metadata": {}
        }
      ]
    },
    {
      "cell_type": "code",
      "source": [
        "df4.describe().show()\n"
      ],
      "metadata": {
        "colab": {
          "base_uri": "https://localhost:8080/"
        },
        "id": "bLZllyFZSLLR",
        "outputId": "6e29be47-f4d4-46ca-f5f1-e657427609e5"
      },
      "execution_count": 339,
      "outputs": [
        {
          "output_type": "stream",
          "name": "stdout",
          "text": [
            "+-------+------------+------------+-------------------+-------------------+------------------+--------------------+------------------+-----------------+------------------+------------------+------------------+------------------+------------------+\n",
            "|summary|country_code|country_name|          wb_income|          wb_region|isic_section_index|   isic_section_name|       industry_id|    industry_name|  net_per_10K_2015|  net_per_10K_2016|  net_per_10K_2017|  net_per_10K_2018|  net_per_10K_2019|\n",
            "+-------+------------+------------+-------------------+-------------------+------------------+--------------------+------------------+-----------------+------------------+------------------+------------------+------------------+------------------+\n",
            "|  count|        5295|        5295|               5295|               5295|              5295|                5295|              5295|             5295|              5295|              5295|              5295|              5295|              5295|\n",
            "|   mean|        null|        null|               null|               null|              null|                null| 65.49688385269121|             null| 95.22883097261592|  68.1943002832861|41.837331444759485|31.354392823418376|  6.46759017941459|\n",
            "| stddev|        null|        null|               null|               null|              null|                null|41.139349879827456|             null|238.12401969863404|225.55035485231457|205.03141233196376|217.54323292067127|192.45105527287276|\n",
            "|    min|          ae| Afghanistan|        High income|East Asia & Pacific|                 A|Accommodation and...|                 1|       Accounting|          -1185.25|          -1876.78|          -1577.24|          -2025.55|          -3367.37|\n",
            "|    max|          zw|    Zimbabwe|Upper middle income|Sub-Saharan Africa |                 X|Wholesale and ret...|               148|Writing & Editing|            2280.6|           1787.58|           1981.38|            1500.0|           1820.99|\n",
            "+-------+------------+------------+-------------------+-------------------+------------------+--------------------+------------------+-----------------+------------------+------------------+------------------+------------------+------------------+\n",
            "\n"
          ]
        }
      ]
    },
    {
      "cell_type": "code",
      "source": [
        "\n",
        "# Select the columns to check for outliers\n",
        "columns = [\"net_per_10K_2015\", \"net_per_10K_2016\", \"net_per_10K_2017\", \"net_per_10K_2018\", \"net_per_10K_2019\"]\n",
        "\n",
        "# Create a pandas DataFrame with the selected columns\n",
        "data = pd.DataFrame(df4.select(columns).collect(), columns=columns)\n",
        "\n",
        "# Create box plots for the columns\n",
        "data.boxplot(column=columns, vert=False)\n",
        "\n",
        "# Set the plot title and labels\n",
        "plt.title(\"Outliers in df4\")\n",
        "plt.xlabel(\"Value\")\n",
        "plt.ylabel(\"Columns\")\n",
        "\n",
        "# Display the plot\n",
        "plt.show()\n"
      ],
      "metadata": {
        "colab": {
          "base_uri": "https://localhost:8080/",
          "height": 472
        },
        "id": "E8rHUIjINSIe",
        "outputId": "29c9036f-defd-40f0-c8d4-46af683ba2f3"
      },
      "execution_count": 340,
      "outputs": [
        {
          "output_type": "display_data",
          "data": {
            "text/plain": [
              "<Figure size 640x480 with 1 Axes>"
            ],
            "image/png": "[encoded data removed]"
          },
          "metadata": {}
        }
      ]
    },
    {
      "cell_type": "code",
      "source": [
        "# Filter out the outlier\n",
        "df4 = df4.filter(col(\"net_per_10K_2019\") >= -3000)"
      ],
      "metadata": {
        "id": "OPDLQ0_5NuON"
      },
      "execution_count": 341,
      "outputs": []
    },
    {
      "cell_type": "code",
      "source": [
        "\n",
        "# Select the columns to check for outliers\n",
        "columns = [\"net_per_10K_2015\", \"net_per_10K_2016\", \"net_per_10K_2017\", \"net_per_10K_2018\", \"net_per_10K_2019\"]\n",
        "\n",
        "# Create a pandas DataFrame with the selected columns\n",
        "data = pd.DataFrame(df4.select(columns).collect(), columns=columns)\n",
        "\n",
        "# Create box plots for the columns\n",
        "data.boxplot(column=columns, vert=False)\n",
        "\n",
        "# Set the plot title and labels\n",
        "plt.title(\"Outliers in df4\")\n",
        "plt.xlabel(\"Value\")\n",
        "plt.ylabel(\"Columns\")\n",
        "\n",
        "# Display the plot\n",
        "plt.show()\n"
      ],
      "metadata": {
        "colab": {
          "base_uri": "https://localhost:8080/",
          "height": 472
        },
        "id": "GUa0-ndyN6rX",
        "outputId": "0b206d53-8060-4f2a-8308-80fd8cffeee0"
      },
      "execution_count": 342,
      "outputs": [
        {
          "output_type": "display_data",
          "data": {
            "text/plain": [
              "<Figure size 640x480 with 1 Axes>"
            ],
            "image/png": "[encoded data removed]"
          },
          "metadata": {}
        }
      ]
    },
    {
      "cell_type": "code",
      "source": [
        "df5.describe().show()\n"
      ],
      "metadata": {
        "colab": {
          "base_uri": "https://localhost:8080/"
        },
        "id": "nb1Zo8U4SGX9",
        "outputId": "7946cd7c-4bc7-489a-8132-972b2f0565cd"
      },
      "execution_count": 343,
      "outputs": [
        {
          "output_type": "stream",
          "name": "stdout",
          "text": [
            "+-------+------------+------------+-------------------+-------------------+-----------------+--------------------+----------------+-------------------+------------------+------------------+-------------------+------------------+\n",
            "|summary|country_code|country_name|          wb_income|          wb_region|   skill_group_id|skill_group_category|skill_group_name|   net_per_10K_2015|  net_per_10K_2016|  net_per_10K_2017|   net_per_10K_2018|  net_per_10K_2019|\n",
            "+-------+------------+------------+-------------------+-------------------+-----------------+--------------------+----------------+-------------------+------------------+------------------+-------------------+------------------+\n",
            "|  count|       17617|       17617|              17617|              17617|            17617|               17617|           17617|              17617|             17617|             17617|              17617|             17617|\n",
            "|   mean|        null|        null|               null|               null|6768.889368223875|                null|            null|-14.600256002724597|-39.20081001305547|-54.77223817903177|-36.081341885678526|-34.78243060680024|\n",
            "| stddev|        null|        null|               null|               null|11609.74411345747|                null|            null| 255.69000742156422| 252.3337700828276| 256.9311973976908| 265.20972317358235|239.79893408386235|\n",
            "|    min|          ae| Afghanistan|        High income|East Asia & Pacific|               44|     Business Skills|Accounts Payable|           -3037.38|          -2435.26|          -6604.67|           -3629.02|          -4022.04|\n",
            "|    max|          zw|    Zimbabwe|Upper middle income|Sub-Saharan Africa |            50415|         Tech Skills|         Zoology|            2824.97|           1796.89|           1906.14|            1515.79|           1901.99|\n",
            "+-------+------------+------------+-------------------+-------------------+-----------------+--------------------+----------------+-------------------+------------------+------------------+-------------------+------------------+\n",
            "\n"
          ]
        }
      ]
    },
    {
      "cell_type": "code",
      "source": [
        "\n",
        "# Select the columns to check for outliers\n",
        "columns = [\"net_per_10K_2015\", \"net_per_10K_2016\", \"net_per_10K_2017\", \"net_per_10K_2018\", \"net_per_10K_2019\"]\n",
        "\n",
        "# Create a pandas DataFrame with the selected columns\n",
        "data = pd.DataFrame(df5.select(columns).collect(), columns=columns)\n",
        "\n",
        "# Create box plots for the columns\n",
        "data.boxplot(column=columns, vert=False)\n",
        "\n",
        "# Set the plot title and labels\n",
        "plt.title(\"Outliers in df5\")\n",
        "plt.xlabel(\"Value\")\n",
        "plt.ylabel(\"Columns\")\n",
        "\n",
        "# Display the plot\n",
        "plt.show()\n"
      ],
      "metadata": {
        "colab": {
          "base_uri": "https://localhost:8080/",
          "height": 472
        },
        "id": "ppmUT-JsOPbz",
        "outputId": "3caec3eb-0326-4977-8b7a-77d52d4b4469"
      },
      "execution_count": 344,
      "outputs": [
        {
          "output_type": "display_data",
          "data": {
            "text/plain": [
              "<Figure size 640x480 with 1 Axes>"
            ],
            "image/png": "[encoded data removed]"
          },
          "metadata": {}
        }
      ]
    },
    {
      "cell_type": "code",
      "source": [
        "# Filter out the outlier\n",
        "df5 = df5.filter(col(\"net_per_10K_2017\") >= -6000)"
      ],
      "metadata": {
        "id": "URWHsw3DOpMc"
      },
      "execution_count": 345,
      "outputs": []
    },
    {
      "cell_type": "code",
      "source": [
        "\n",
        "# Select the columns to check for outliers\n",
        "columns = [\"net_per_10K_2015\", \"net_per_10K_2016\", \"net_per_10K_2017\", \"net_per_10K_2018\", \"net_per_10K_2019\"]\n",
        "\n",
        "# Create a pandas DataFrame with the selected columns\n",
        "data = pd.DataFrame(df5.select(columns).collect(), columns=columns)\n",
        "\n",
        "# Create box plots for the columns\n",
        "data.boxplot(column=columns, vert=False)\n",
        "\n",
        "# Set the plot title and labels\n",
        "plt.title(\"Outliers in df5\")\n",
        "plt.xlabel(\"Value\")\n",
        "plt.ylabel(\"Columns\")\n",
        "\n",
        "# Display the plot\n",
        "plt.show()\n"
      ],
      "metadata": {
        "colab": {
          "base_uri": "https://localhost:8080/",
          "height": 472
        },
        "id": "1efrBemdSITK",
        "outputId": "d6955501-2d41-4444-de89-9ae09d8ec0ff"
      },
      "execution_count": 346,
      "outputs": [
        {
          "output_type": "display_data",
          "data": {
            "text/plain": [
              "<Figure size 640x480 with 1 Axes>"
            ],
            "image/png": "[encoded data removed]"
          },
          "metadata": {}
        }
      ]
    },
    {
      "cell_type": "markdown",
      "source": [
        "# selected Featuers"
      ],
      "metadata": {
        "id": "kAynQMKVg6lA"
      }
    },
    {
      "cell_type": "code",
      "source": [
        "# Filter countries in the Middle East & North Africa from df2\n",
        "mena_countries_df2 = df2.filter(col(\"wb_region\") == \"Middle East & North Africa\")\n"
      ],
      "metadata": {
        "id": "L2OrflvkhGeT"
      },
      "execution_count": 368,
      "outputs": []
    },
    {
      "cell_type": "code",
      "source": [
        "from pyspark.sql.functions import col, expr\n",
        "\n",
        "# Remove the percentage sign and cast growth rate columns to float\n",
        "mena_countries_df2 = mena_countries_df2.withColumn(\n",
        "    \"avg_growth_rate\",\n",
        "    expr(\"(growth_rate_2015 + growth_rate_2016 + growth_rate_2017 + growth_rate_2018 + growth_rate_2019) / 5\")\n",
        ").withColumn(\n",
        "    \"growth_rate_2015\",\n",
        "    expr(\"replace(growth_rate_2015, '%', '')\").cast(\"float\")\n",
        ").withColumn(\n",
        "    \"growth_rate_2016\",\n",
        "    expr(\"replace(growth_rate_2016, '%', '')\").cast(\"float\")\n",
        ").withColumn(\n",
        "    \"growth_rate_2017\",\n",
        "    expr(\"replace(growth_rate_2017, '%', '')\").cast(\"float\")\n",
        ").withColumn(\n",
        "    \"growth_rate_2018\",\n",
        "    expr(\"replace(growth_rate_2018, '%', '')\").cast(\"float\")\n",
        ").withColumn(\n",
        "    \"growth_rate_2019\",\n",
        "    expr(\"replace(growth_rate_2019, '%', '')\").cast(\"float\")\n",
        ")\n",
        "\n",
        "# Show the DataFrame with the added column\n",
        "mena_countries_df2.show()\n"
      ],
      "metadata": {
        "colab": {
          "base_uri": "https://localhost:8080/"
        },
        "id": "zQ6HKpvuhHty",
        "outputId": "0c7e8745-0cf8-46fe-859c-b9ed338e8d5b"
      },
      "execution_count": 377,
      "outputs": [
        {
          "output_type": "stream",
          "name": "stdout",
          "text": [
            "+------------+--------------------+--------------------+-----------+------------------+--------------------+-----------+--------------------+----------------+----------------+----------------+----------------+----------------+--------------------+\n",
            "|country_code|        country_name|           wb_region|  wb_income|isic_section_index|   isic_section_name|industry_id|       industry_name|growth_rate_2015|growth_rate_2016|growth_rate_2017|growth_rate_2018|growth_rate_2019|     avg_growth_rate|\n",
            "+------------+--------------------+--------------------+-----------+------------------+--------------------+-----------+--------------------+----------------+----------------+----------------+----------------+----------------+--------------------+\n",
            "|          ae|United Arab Emirates|Middle East & Nor...|High income|                 B|Mining and quarrying|         56|     Mining & Metals|             7.8|            5.85|            4.34|             1.0|           -0.06|   3.786000061035156|\n",
            "|          ae|United Arab Emirates|Middle East & Nor...|High income|                 B|Mining and quarrying|         57|        Oil & Energy|             3.3|            1.35|            1.75|            1.85|            2.26|   2.102000045776367|\n",
            "|          ae|United Arab Emirates|Middle East & Nor...|High income|                 C|       Manufacturing|         15|     Pharmaceuticals|           17.14|            13.7|            9.06|            4.81|            2.84|   9.510000610351563|\n",
            "|          ae|United Arab Emirates|Middle East & Nor...|High income|                 C|       Manufacturing|         23|     Food Production|            6.34|            3.86|            2.21|             0.6|            0.43|  2.6880001068115233|\n",
            "|          ae|United Arab Emirates|Middle East & Nor...|High income|                 C|       Manufacturing|         52|Aviation & Aerospace|            9.66|            5.67|            2.87|             1.5|            0.08|  3.9560001373291014|\n",
            "|          ae|United Arab Emirates|Middle East & Nor...|High income|                 C|       Manufacturing|         53|          Automotive|            7.82|            5.51|            2.98|            0.62|             0.2|   3.426000213623047|\n",
            "|          ae|United Arab Emirates|Middle East & Nor...|High income|                 C|       Manufacturing|         54|           Chemicals|           12.64|            9.81|            6.71|            2.93|            1.23|   6.663999938964844|\n",
            "|          ae|United Arab Emirates|Middle East & Nor...|High income|                 C|       Manufacturing|         55|           Machinery|            9.71|            7.51|            3.22|            2.37|            0.11|  4.5840003967285154|\n",
            "|          ae|United Arab Emirates|Middle East & Nor...|High income|                 C|       Manufacturing|         58|        Shipbuilding|            5.26|             2.8|            -0.1|             0.1|           -0.19|   1.574000072479248|\n",
            "|          ae|United Arab Emirates|Middle East & Nor...|High income|                 C|       Manufacturing|         60|            Textiles|           10.18|            7.38|            5.11|           -0.86|           -0.43|   4.276000213623047|\n",
            "|          ae|United Arab Emirates|Middle East & Nor...|High income|                 C|       Manufacturing|         61|Paper & Forest Pr...|            7.41|            7.32|            3.66|            3.93|            3.68|                 5.2|\n",
            "|          ae|United Arab Emirates|Middle East & Nor...|High income|                 C|       Manufacturing|         83|            Printing|            4.59|            1.82|             0.4|            0.49|           -0.15|  1.4300000190734863|\n",
            "|          ae|United Arab Emirates|Middle East & Nor...|High income|                 C|       Manufacturing|        112|Electrical & Elec...|            8.35|            7.13|            4.41|            1.79|            0.51|   4.438000106811524|\n",
            "|          ae|United Arab Emirates|Middle East & Nor...|High income|                 C|       Manufacturing|        117|            Plastics|            2.49|           -0.39|           -2.03|           -2.25|            -1.2| -0.6760000228881836|\n",
            "|          ae|United Arab Emirates|Middle East & Nor...|High income|                 C|       Manufacturing|        144|Renewables & Envi...|            9.63|             9.8|             8.4|             5.9|            -0.1|   6.726000213623047|\n",
            "|          ae|United Arab Emirates|Middle East & Nor...|High income|                 C|       Manufacturing|        145|Glass, Ceramics &...|            3.62|            4.45|            3.06|            2.26|            0.84|   2.845999908447266|\n",
            "|          ae|United Arab Emirates|Middle East & Nor...|High income|                 C|       Manufacturing|        146|Packaging & Conta...|            9.49|            7.37|            3.69|            2.51|            0.47|   4.706000137329101|\n",
            "|          ae|United Arab Emirates|Middle East & Nor...|High income|                 C|       Manufacturing|        147|Industrial Automa...|           10.71|            8.01|            5.28|            4.48|            2.94|   6.284000396728516|\n",
            "|          ae|United Arab Emirates|Middle East & Nor...|High income|                 J|Information and c...|          3|   Computer Hardware|           -2.14|            1.49|           -0.81|           -0.81|           -0.13|-0.48000001907348633|\n",
            "|          ae|United Arab Emirates|Middle East & Nor...|High income|                 J|Information and c...|          4|   Computer Software|           21.52|           18.07|           13.49|            9.04|            3.58|  13.140000915527343|\n",
            "+------------+--------------------+--------------------+-----------+------------------+--------------------+-----------+--------------------+----------------+----------------+----------------+----------------+----------------+--------------------+\n",
            "only showing top 20 rows\n",
            "\n"
          ]
        }
      ]
    },
    {
      "cell_type": "code",
      "source": [
        "from pyspark.sql.functions import col\n",
        "\n",
        "mena_df5 = df5.filter(col(\"wb_region\") == \"Middle East & North Africa\")"
      ],
      "metadata": {
        "id": "l-bDDQzdpPMK"
      },
      "execution_count": 370,
      "outputs": []
    },
    {
      "cell_type": "code",
      "source": [
        "mena_df5.show()"
      ],
      "metadata": {
        "colab": {
          "base_uri": "https://localhost:8080/"
        },
        "id": "evduMUvVrD97",
        "outputId": "36c7c1b9-826c-49bf-b243-f6c755a4adc3"
      },
      "execution_count": 371,
      "outputs": [
        {
          "output_type": "stream",
          "name": "stdout",
          "text": [
            "+------------+------------+-------------------+--------------------+--------------+--------------------+--------------------+----------------+----------------+----------------+----------------+----------------+\n",
            "|country_code|country_name|          wb_income|           wb_region|skill_group_id|skill_group_category|    skill_group_name|net_per_10K_2015|net_per_10K_2016|net_per_10K_2017|net_per_10K_2018|net_per_10K_2019|\n",
            "+------------+------------+-------------------+--------------------+--------------+--------------------+--------------------+----------------+----------------+----------------+----------------+----------------+\n",
            "|          dz|     Algeria|Upper middle income|Middle East & Nor...|          2130|         Tech Skills|Software Developm...|         -274.27|         -477.93|          -551.8|         -541.84|         -599.54|\n",
            "|          dz|     Algeria|Upper middle income|Middle East & Nor...|          2279|Disruptive Tech S...|   Development Tools|         -316.46|         -452.89|        -2158.62|         -551.84|         -574.17|\n",
            "|          dz|     Algeria|Upper middle income|Middle East & Nor...|         50061|Disruptive Tech S...|        Data Science|         -216.83|         -347.66|          -468.2|         -448.33|          -558.5|\n",
            "|          dz|     Algeria|Upper middle income|Middle East & Nor...|         25120|         Tech Skills|Data Storage Tech...|         -281.65|         -461.58|        -2960.83|         -508.95|         -551.55|\n",
            "|          dz|     Algeria|Upper middle income|Middle East & Nor...|           764|         Tech Skills|     Web Development|         -248.25|         -378.33|         -463.47|         -483.77|          -534.6|\n",
            "|          dz|     Algeria|Upper middle income|Middle East & Nor...|          6718|         Tech Skills|Scientific Computing|          -247.3|         -427.77|         -530.09|          -448.3|         -527.19|\n",
            "|          dz|     Algeria|Upper middle income|Middle East & Nor...|          1017|         Soft Skills|     Problem Solving|           27.24|          -80.65|          -887.3|         -643.73|         -498.88|\n",
            "|          dz|     Algeria|Upper middle income|Middle East & Nor...|          4565|Specialized Indus...| Structural Analysis|         -186.92|          -178.7|         -492.93|         -390.21|         -491.74|\n",
            "|          dz|     Algeria|Upper middle income|Middle East & Nor...|          1208|         Tech Skills|   Computer Hardware|         -338.15|         -525.64|         -621.96|         -474.04|         -471.26|\n",
            "|          dz|     Algeria|Upper middle income|Middle East & Nor...|          2060|     Business Skills|   People Management|         -262.35|          -17.37|         -305.55|         -219.48|         -463.86|\n",
            "|          dz|     Algeria|Upper middle income|Middle East & Nor...|          2263|         Soft Skills|     Time Management|         -285.35|          -159.3|         -267.63|         -332.76|         -450.06|\n",
            "|          dz|     Algeria|Upper middle income|Middle East & Nor...|          1735|     Business Skills|    Entrepreneurship|         -398.05|         -281.37|         -557.39|         -308.15|         -446.18|\n",
            "|          dz|     Algeria|Upper middle income|Middle East & Nor...|         50370|         Tech Skills| Computer Networking|         -206.83|         -217.66|         -343.97|         -356.57|         -405.03|\n",
            "|          dz|     Algeria|Upper middle income|Middle East & Nor...|          1836|     Business Skills|   Digital Marketing|         -230.76|         -116.67|         -328.63|         -221.19|         -392.58|\n",
            "|          dz|     Algeria|Upper middle income|Middle East & Nor...|          2265|Specialized Indus...|       Cybersecurity|         -253.48|         -273.34|         -364.64|         -356.62|         -389.15|\n",
            "|          dz|     Algeria|Upper middle income|Middle East & Nor...|           354|Specialized Indus...|            Politics|          -31.45|         -174.45|         -332.41|          -100.2|         -372.45|\n",
            "|          dz|     Algeria|Upper middle income|Middle East & Nor...|           921|         Soft Skills|            Teamwork|         -276.45|         -315.84|         -329.23|         -326.66|         -369.06|\n",
            "|          dz|     Algeria|Upper middle income|Middle East & Nor...|           785|     Business Skills|Corporate Communi...|         -102.06|         -156.02|         -485.39|          -190.8|         -364.11|\n",
            "|          dz|     Algeria|Upper middle income|Middle East & Nor...|           561|Specialized Indus...|         Electronics|         -154.22|         -243.25|         -318.18|         -326.48|         -358.63|\n",
            "|          dz|     Algeria|Upper middle income|Middle East & Nor...|          5587|Specialized Indus...|       Earth Science|         -108.11|          -88.71|         -265.45|         -280.16|         -357.35|\n",
            "+------------+------------+-------------------+--------------------+--------------+--------------------+--------------------+----------------+----------------+----------------+----------------+----------------+\n",
            "only showing top 20 rows\n",
            "\n"
          ]
        }
      ]
    },
    {
      "cell_type": "code",
      "source": [
        "mena_df5_UM  = mena_df5.filter(col(\"wb_income\") == \"Upper middle income\")\n",
        "mena_df5_LM  = mena_df5.filter(col(\"wb_income\") == \"Lower middle income\")\n",
        "mena_df5_H  = mena_df5.filter(col(\"wb_income\") == \"High income\")\n",
        "mena_df5_L  = mena_df5.filter(col(\"wb_income\") == \"Low income\")\n"
      ],
      "metadata": {
        "id": "YU7N7xjRqy17"
      },
      "execution_count": 378,
      "outputs": []
    },
    {
      "cell_type": "code",
      "source": [
        "from pyspark.sql.functions import col\n",
        "\n",
        "# Calculate the average of net_per_10K columns\n",
        "mena_df5 = mena_df5.withColumn(\n",
        "    \"avg_net_per_10K\",\n",
        "    (col(\"net_per_10K_2015\") + col(\"net_per_10K_2016\") + col(\"net_per_10K_2017\") + col(\"net_per_10K_2018\") + col(\"net_per_10K_2019\")) / 5\n",
        ")\n",
        "\n",
        "# Display the updated DataFrame\n",
        "mena_df5.show()\n"
      ],
      "metadata": {
        "colab": {
          "base_uri": "https://localhost:8080/"
        },
        "id": "o5z4qQh6DQE_",
        "outputId": "d557603c-db48-4c3e-94f5-d1246568c641"
      },
      "execution_count": 373,
      "outputs": [
        {
          "output_type": "stream",
          "name": "stdout",
          "text": [
            "+------------+------------+-------------------+--------------------+--------------+--------------------+--------------------+----------------+----------------+----------------+----------------+----------------+-------------------+\n",
            "|country_code|country_name|          wb_income|           wb_region|skill_group_id|skill_group_category|    skill_group_name|net_per_10K_2015|net_per_10K_2016|net_per_10K_2017|net_per_10K_2018|net_per_10K_2019|    avg_net_per_10K|\n",
            "+------------+------------+-------------------+--------------------+--------------+--------------------+--------------------+----------------+----------------+----------------+----------------+----------------+-------------------+\n",
            "|          dz|     Algeria|Upper middle income|Middle East & Nor...|          2130|         Tech Skills|Software Developm...|         -274.27|         -477.93|          -551.8|         -541.84|         -599.54|           -489.076|\n",
            "|          dz|     Algeria|Upper middle income|Middle East & Nor...|          2279|Disruptive Tech S...|   Development Tools|         -316.46|         -452.89|        -2158.62|         -551.84|         -574.17|           -810.796|\n",
            "|          dz|     Algeria|Upper middle income|Middle East & Nor...|         50061|Disruptive Tech S...|        Data Science|         -216.83|         -347.66|          -468.2|         -448.33|          -558.5|           -407.904|\n",
            "|          dz|     Algeria|Upper middle income|Middle East & Nor...|         25120|         Tech Skills|Data Storage Tech...|         -281.65|         -461.58|        -2960.83|         -508.95|         -551.55|           -952.912|\n",
            "|          dz|     Algeria|Upper middle income|Middle East & Nor...|           764|         Tech Skills|     Web Development|         -248.25|         -378.33|         -463.47|         -483.77|          -534.6|           -421.684|\n",
            "|          dz|     Algeria|Upper middle income|Middle East & Nor...|          6718|         Tech Skills|Scientific Computing|          -247.3|         -427.77|         -530.09|          -448.3|         -527.19|-436.12999999999994|\n",
            "|          dz|     Algeria|Upper middle income|Middle East & Nor...|          1017|         Soft Skills|     Problem Solving|           27.24|          -80.65|          -887.3|         -643.73|         -498.88|-416.66400000000004|\n",
            "|          dz|     Algeria|Upper middle income|Middle East & Nor...|          4565|Specialized Indus...| Structural Analysis|         -186.92|          -178.7|         -492.93|         -390.21|         -491.74|             -348.1|\n",
            "|          dz|     Algeria|Upper middle income|Middle East & Nor...|          1208|         Tech Skills|   Computer Hardware|         -338.15|         -525.64|         -621.96|         -474.04|         -471.26|-486.21000000000004|\n",
            "|          dz|     Algeria|Upper middle income|Middle East & Nor...|          2060|     Business Skills|   People Management|         -262.35|          -17.37|         -305.55|         -219.48|         -463.86|-253.72200000000004|\n",
            "|          dz|     Algeria|Upper middle income|Middle East & Nor...|          2263|         Soft Skills|     Time Management|         -285.35|          -159.3|         -267.63|         -332.76|         -450.06|            -299.02|\n",
            "|          dz|     Algeria|Upper middle income|Middle East & Nor...|          1735|     Business Skills|    Entrepreneurship|         -398.05|         -281.37|         -557.39|         -308.15|         -446.18|           -398.228|\n",
            "|          dz|     Algeria|Upper middle income|Middle East & Nor...|         50370|         Tech Skills| Computer Networking|         -206.83|         -217.66|         -343.97|         -356.57|         -405.03|           -306.012|\n",
            "|          dz|     Algeria|Upper middle income|Middle East & Nor...|          1836|     Business Skills|   Digital Marketing|         -230.76|         -116.67|         -328.63|         -221.19|         -392.58|           -257.966|\n",
            "|          dz|     Algeria|Upper middle income|Middle East & Nor...|          2265|Specialized Indus...|       Cybersecurity|         -253.48|         -273.34|         -364.64|         -356.62|         -389.15|           -327.446|\n",
            "|          dz|     Algeria|Upper middle income|Middle East & Nor...|           354|Specialized Indus...|            Politics|          -31.45|         -174.45|         -332.41|          -100.2|         -372.45|           -202.192|\n",
            "|          dz|     Algeria|Upper middle income|Middle East & Nor...|           921|         Soft Skills|            Teamwork|         -276.45|         -315.84|         -329.23|         -326.66|         -369.06|           -323.448|\n",
            "|          dz|     Algeria|Upper middle income|Middle East & Nor...|           785|     Business Skills|Corporate Communi...|         -102.06|         -156.02|         -485.39|          -190.8|         -364.11|-259.67600000000004|\n",
            "|          dz|     Algeria|Upper middle income|Middle East & Nor...|           561|Specialized Indus...|         Electronics|         -154.22|         -243.25|         -318.18|         -326.48|         -358.63|-280.15200000000004|\n",
            "|          dz|     Algeria|Upper middle income|Middle East & Nor...|          5587|Specialized Indus...|       Earth Science|         -108.11|          -88.71|         -265.45|         -280.16|         -357.35|-219.95600000000005|\n",
            "+------------+------------+-------------------+--------------------+--------------+--------------------+--------------------+----------------+----------------+----------------+----------------+----------------+-------------------+\n",
            "only showing top 20 rows\n",
            "\n"
          ]
        }
      ]
    },
    {
      "cell_type": "code",
      "source": [
        "\n",
        "mena_df4 = df4.filter(col(\"wb_region\") == \"Middle East & North Africa\")"
      ],
      "metadata": {
        "id": "QgOkTO8vIbkB"
      },
      "execution_count": 374,
      "outputs": []
    },
    {
      "cell_type": "code",
      "source": [
        "mena_B_df3 = df3.filter(col(\"base_country_wb_region\") == \"Middle East & North Africa\")"
      ],
      "metadata": {
        "id": "hC6JTwHLMZbC"
      },
      "execution_count": 375,
      "outputs": []
    },
    {
      "cell_type": "code",
      "source": [
        "mena_T_df3 = df3.filter(col(\"target_country_wb_region\") == \"Middle East & North Africa\")"
      ],
      "metadata": {
        "id": "J61AB6-iPYax"
      },
      "execution_count": 376,
      "outputs": []
    },
    {
      "cell_type": "markdown",
      "source": [
        "# Q1\n"
      ],
      "metadata": {
        "id": "VVMTQ4r1Sw2d"
      }
    },
    {
      "cell_type": "markdown",
      "source": [
        "thoes are the countries that locate in Middle East & North Africa"
      ],
      "metadata": {
        "id": "iScDizKvxpjK"
      }
    },
    {
      "cell_type": "code",
      "source": [
        "# Filter countries in the Middle East & North Africa from df2\n",
        "mena_countries  = df2.filter(col(\"wb_region\") == \"Middle East & North Africa\").select(\"country_name\").distinct()\n",
        "\n",
        "# Display the list of countries\n",
        "mena_countries .show(truncate=False)"
      ],
      "metadata": {
        "colab": {
          "base_uri": "https://localhost:8080/"
        },
        "id": "58DgSLygsrJ5",
        "outputId": "916d1394-9ccd-4bff-c16f-4f981318406d"
      },
      "execution_count": 379,
      "outputs": [
        {
          "output_type": "stream",
          "name": "stdout",
          "text": [
            "+--------------------+\n",
            "|country_name        |\n",
            "+--------------------+\n",
            "|Iraq                |\n",
            "|Jordan              |\n",
            "|Algeria             |\n",
            "|Iran, Islamic Rep.  |\n",
            "|Qatar               |\n",
            "|Kuwait              |\n",
            "|Malta               |\n",
            "|Morocco             |\n",
            "|Israel              |\n",
            "|Oman                |\n",
            "|Egypt, Arab Rep.    |\n",
            "|Libya               |\n",
            "|Tunisia             |\n",
            "|Saudi Arabia        |\n",
            "|United Arab Emirates|\n",
            "|West Bank and Gaza  |\n",
            "|Lebanon             |\n",
            "|Yemen, Rep.         |\n",
            "|Bahrain             |\n",
            "|Syrian Arab Republic|\n",
            "+--------------------+\n",
            "\n"
          ]
        }
      ]
    },
    {
      "cell_type": "markdown",
      "source": [
        "# Q2\n",
        "\n",
        "\n",
        "\n"
      ],
      "metadata": {
        "id": "5Y7w-a8i1yGn"
      }
    },
    {
      "cell_type": "markdown",
      "source": [
        "Which industries are present in all countries of the Middle East & North Africa region?  we use df4 (country_name, wb_region is Middle East & North Africa, industry_name is in all country_name)\n"
      ],
      "metadata": {
        "id": "GIo9sJgF2f_L"
      }
    },
    {
      "cell_type": "code",
      "source": [
        "\n",
        "# Get the list of industries present in all Middle East & North Africa countries\n",
        "industries_in_mena = mena_countries.join(df2, \"country_name\").groupBy(\"industry_name\").count().filter(col(\"count\") == mena_countries.count()).select(\"industry_name\")\n",
        "\n",
        "# Display the list of industries\n",
        "industries_in_mena.show(truncate=False)\n"
      ],
      "metadata": {
        "colab": {
          "base_uri": "https://localhost:8080/"
        },
        "id": "wG7gCOCe22sV",
        "outputId": "b84bdd5f-0e08-44aa-899d-18bc7d2d7039"
      },
      "execution_count": 380,
      "outputs": [
        {
          "output_type": "stream",
          "name": "stdout",
          "text": [
            "+-------------------------------------+\n",
            "|industry_name                        |\n",
            "+-------------------------------------+\n",
            "|Financial Services                   |\n",
            "|Accounting                           |\n",
            "|Internet                             |\n",
            "|Oil & Energy                         |\n",
            "|Electrical & Electronic Manufacturing|\n",
            "|Computer Software                    |\n",
            "|Automotive                           |\n",
            "|Telecommunications                   |\n",
            "|Design                               |\n",
            "|Information Technology & Services    |\n",
            "|Marketing & Advertising              |\n",
            "|Banking                              |\n",
            "|Pharmaceuticals                      |\n",
            "|Management Consulting                |\n",
            "+-------------------------------------+\n",
            "\n"
          ]
        }
      ]
    },
    {
      "cell_type": "markdown",
      "source": [
        "# Q3"
      ],
      "metadata": {
        "id": "sPyUiKQJ41Sx"
      }
    },
    {
      "cell_type": "code",
      "source": [
        "from pyspark.sql.functions import col, desc\n",
        "\n",
        "\n",
        "# Find the country with the highest net job growth rate\n",
        "highest_growth_country = mena_countries_df2.orderBy(desc(\"avg_growth_rate\")).select(\"country_name\", \"industry_name\", \"avg_growth_rate\").first()\n",
        "\n",
        "# Find the country with the lowest net job growth rate\n",
        "lowest_growth_country = mena_countries_df2.orderBy(\"avg_growth_rate\").select(\"country_name\", \"industry_name\", \"avg_growth_rate\").first()\n",
        "\n",
        "# Display the results\n",
        "print(\"Country with the highest net job growth rate:\")\n",
        "print(highest_growth_country)\n",
        "\n",
        "print(\"Country with the lowest net job growth rate:\")\n",
        "print(lowest_growth_country)\n"
      ],
      "metadata": {
        "colab": {
          "base_uri": "https://localhost:8080/"
        },
        "id": "ZDG7kjAX7b2a",
        "outputId": "4a24a3eb-298b-4080-cf3f-3d2c5f506067"
      },
      "execution_count": 381,
      "outputs": [
        {
          "output_type": "stream",
          "name": "stdout",
          "text": [
            "Country with the highest net job growth rate:\n",
            "Row(country_name='Saudi Arabia', industry_name='Railroad Manufacture', avg_growth_rate=24.189999389648438)\n",
            "Country with the lowest net job growth rate:\n",
            "Row(country_name='Tunisia', industry_name='Semiconductors', avg_growth_rate=-19.070001220703126)\n"
          ]
        }
      ]
    },
    {
      "cell_type": "markdown",
      "source": [
        "# Q4\n",
        "\n",
        "Which skill categories have experienced the most significant demand in the Middle East & North Africa region? (skill_group_name, wb_region) as the most repeated skill_group_name for diffrant income types"
      ],
      "metadata": {
        "id": "dfxj5ocWdIQ9"
      }
    },
    {
      "cell_type": "code",
      "source": [
        "\n",
        "# Group by skill_group_name and count the occurrences\n",
        "top_skills_UM= mena_df5_UM.groupBy(\"skill_group_name\").count()\n",
        "\n",
        "# Sort by count in descending order and select top 10\n",
        "top_skills_UM = top_skills_UM.orderBy(col(\"count\").desc()).limit(5)\n",
        "\n",
        "# Display the result\n",
        "top_skills_UM.show()\n"
      ],
      "metadata": {
        "colab": {
          "base_uri": "https://localhost:8080/"
        },
        "id": "8GSgpfZRr2aW",
        "outputId": "66ec1853-c7ee-486e-f2ca-5878af5256e2"
      },
      "execution_count": 382,
      "outputs": [
        {
          "output_type": "stream",
          "name": "stdout",
          "text": [
            "+--------------------+-----+\n",
            "|    skill_group_name|count|\n",
            "+--------------------+-----+\n",
            "|           Oil & Gas|    6|\n",
            "|       Public Safety|    6|\n",
            "|   International Law|    6|\n",
            "|       Cybersecurity|    6|\n",
            "|Manufacturing Ope...|    6|\n",
            "+--------------------+-----+\n",
            "\n"
          ]
        }
      ]
    },
    {
      "cell_type": "code",
      "source": [
        "\n",
        "# Group by skill_group_name and count the occurrences\n",
        "top_skills_LM = mena_df5_LM.groupBy(\"skill_group_name\").count()\n",
        "\n",
        "# Sort by count in descending order and select top 10\n",
        "top_skills_LM = top_skills_LM.orderBy(col(\"count\").desc()).limit(5)\n",
        "\n",
        "# Display the result\n",
        "top_skills_LM.show()\n"
      ],
      "metadata": {
        "colab": {
          "base_uri": "https://localhost:8080/"
        },
        "id": "srP_sHr7dOSw",
        "outputId": "ae4ed9f4-8db5-4968-f7fc-6ea360e09215"
      },
      "execution_count": 383,
      "outputs": [
        {
          "output_type": "stream",
          "name": "stdout",
          "text": [
            "+--------------------+-----+\n",
            "|    skill_group_name|count|\n",
            "+--------------------+-----+\n",
            "|   International Law|    4|\n",
            "|Manufacturing Ope...|    4|\n",
            "|       Cybersecurity|    4|\n",
            "|   Digital Marketing|    4|\n",
            "|Corporate Communi...|    4|\n",
            "+--------------------+-----+\n",
            "\n"
          ]
        }
      ]
    },
    {
      "cell_type": "code",
      "source": [
        "\n",
        "# Group by skill_group_name and count the occurrences\n",
        "top_skills_L = mena_df5_L.groupBy(\"skill_group_name\").count()\n",
        "\n",
        "# Sort by count in descending order and select top 10\n",
        "top_skills_L = top_skills_L.orderBy(col(\"count\").desc()).limit(5)\n",
        "\n",
        "# Display the result\n",
        "top_skills_L.show()\n"
      ],
      "metadata": {
        "colab": {
          "base_uri": "https://localhost:8080/"
        },
        "id": "xPvGB_W1sYpL",
        "outputId": "a9798289-9df5-47f3-efac-73ce2bac9bca"
      },
      "execution_count": 384,
      "outputs": [
        {
          "output_type": "stream",
          "name": "stdout",
          "text": [
            "+--------------------+-----+\n",
            "|    skill_group_name|count|\n",
            "+--------------------+-----+\n",
            "|   International Law|    2|\n",
            "|            Teaching|    2|\n",
            "|Manufacturing Ope...|    2|\n",
            "|       Public Safety|    2|\n",
            "|           Oil & Gas|    2|\n",
            "+--------------------+-----+\n",
            "\n"
          ]
        }
      ]
    },
    {
      "cell_type": "code",
      "source": [
        "\n",
        "# Group by skill_group_name and count the occurrences\n",
        "top_skills_H = mena_df5_H.groupBy(\"skill_group_name\").count()\n",
        "\n",
        "# Sort by count in descending order and select top 10\n",
        "top_skills_H = top_skills_H.orderBy(col(\"count\").desc()).limit(5)\n",
        "\n",
        "# Display the result\n",
        "top_skills_H.show()\n"
      ],
      "metadata": {
        "colab": {
          "base_uri": "https://localhost:8080/"
        },
        "id": "LEUu4xrAsr_B",
        "outputId": "14a65952-1dc9-47ae-8682-40611cb82e2c"
      },
      "execution_count": 385,
      "outputs": [
        {
          "output_type": "stream",
          "name": "stdout",
          "text": [
            "+--------------------+-----+\n",
            "|    skill_group_name|count|\n",
            "+--------------------+-----+\n",
            "|   Travel Management|    8|\n",
            "|Administrative As...|    8|\n",
            "|Information Manag...|    8|\n",
            "|  Investment Banking|    8|\n",
            "|    Entrepreneurship|    8|\n",
            "+--------------------+-----+\n",
            "\n"
          ]
        }
      ]
    },
    {
      "cell_type": "markdown",
      "source": [
        "# Q5"
      ],
      "metadata": {
        "id": "dAlzvejV-bNP"
      }
    },
    {
      "cell_type": "markdown",
      "source": [
        "what is the highest and lowest NetFlow for skills through the years from 2015 to 2019 in the Middle East & North African countries?\n",
        "(skill_group_name, avg_net_per_10K, wb_region)"
      ],
      "metadata": {
        "id": "PBFkfebMBaKJ"
      }
    },
    {
      "cell_type": "code",
      "source": [
        "\n",
        "# Sort by average net_per_10K in descending order\n",
        "sorted_netflow_df = mena_df5 .orderBy(desc(\"avg_net_per_10K\"))\n",
        "\n",
        "# Select the skill group with the highest and lowest average net_per_10K\n",
        "highest_netflow = sorted_netflow_df.first()\n",
        "lowest_netflow = sorted_netflow_df.orderBy(\"avg_net_per_10K\").first()\n",
        "\n",
        "# Display the results\n",
        "print(\"Skill with the highest NetFlow:\")\n",
        "print(highest_netflow[\"skill_group_name\"], highest_netflow[\"avg_net_per_10K\"], \"in Middle East & North Africa\")\n",
        "\n",
        "print(\"Skill with the lowest NetFlow:\")\n",
        "print(lowest_netflow[\"skill_group_name\"], lowest_netflow[\"avg_net_per_10K\"], \"in Middle East & North Africa\")\n"
      ],
      "metadata": {
        "colab": {
          "base_uri": "https://localhost:8080/"
        },
        "id": "Sd9iU0hI-ecj",
        "outputId": "e2a68409-2303-4da9-99cf-4ff52a63ef41"
      },
      "execution_count": 386,
      "outputs": [
        {
          "output_type": "stream",
          "name": "stdout",
          "text": [
            "Skill with the highest NetFlow:\n",
            "Artificial Intelligence (AI) 970.2719999999999 in Middle East & North Africa\n",
            "Skill with the lowest NetFlow:\n",
            "Mobile Application Development -1401.6560000000002 in Middle East & North Africa\n"
          ]
        }
      ]
    },
    {
      "cell_type": "markdown",
      "source": [
        "# Q6"
      ],
      "metadata": {
        "id": "cqAA-empG9-Y"
      }
    },
    {
      "cell_type": "markdown",
      "source": [
        " which countries in the Middle East & North African countries have  net gain of members for each year?\n",
        " use mena_df4 and columns (country_name, wb_region,net_per_10K_2015\tnet_per_10K_2016\tnet_per_10K_2017\tnet_per_10K_2018\tnet_per_10K_2019)"
      ],
      "metadata": {
        "id": "BIHjDk8fIRjr"
      }
    },
    {
      "cell_type": "code",
      "source": [
        "from pyspark.sql.functions import col\n",
        "\n",
        "# Define the list of year columns\n",
        "year_columns = [\"net_per_10K_2015\", \"net_per_10K_2016\", \"net_per_10K_2017\", \"net_per_10K_2018\", \"net_per_10K_2019\"]\n",
        "\n",
        "# Iterate over each year column\n",
        "for year_col in year_columns:\n",
        "    # Select relevant columns and sort by the year column in descending order\n",
        "    sorted_df = mena_df4.select(\"country_name\", \"wb_region\", year_col).orderBy(col(year_col).desc())\n",
        "\n",
        "    # Select the first row to get the country with the highest net_per_10K gain for that year\n",
        "    highest_gain_country = sorted_df.first()\n",
        "\n",
        "    # Display the result\n",
        "    print(f\"For {year_col}:\")\n",
        "    print(\"Country with the highest net_per_10K gain:\")\n",
        "    print(highest_gain_country[\"country_name\"], highest_gain_country[\"wb_region\"], highest_gain_country[year_col])\n",
        "    print()\n"
      ],
      "metadata": {
        "colab": {
          "base_uri": "https://localhost:8080/"
        },
        "id": "PsMpnPmSIxGm",
        "outputId": "a5ad432b-e598-4c4d-e6c5-5cf3aa89e16b"
      },
      "execution_count": 387,
      "outputs": [
        {
          "output_type": "stream",
          "name": "stdout",
          "text": [
            "For net_per_10K_2015:\n",
            "Country with the highest net_per_10K gain:\n",
            "United Arab Emirates Middle East & North Africa 2280.6\n",
            "\n",
            "For net_per_10K_2016:\n",
            "Country with the highest net_per_10K gain:\n",
            "United Arab Emirates Middle East & North Africa 1616.52\n",
            "\n",
            "For net_per_10K_2017:\n",
            "Country with the highest net_per_10K gain:\n",
            "United Arab Emirates Middle East & North Africa 1362.36\n",
            "\n",
            "For net_per_10K_2018:\n",
            "Country with the highest net_per_10K gain:\n",
            "United Arab Emirates Middle East & North Africa 1187.61\n",
            "\n",
            "For net_per_10K_2019:\n",
            "Country with the highest net_per_10K gain:\n",
            "Qatar Middle East & North Africa 955.84\n",
            "\n"
          ]
        }
      ]
    },
    {
      "cell_type": "code",
      "source": [
        "\n",
        "# Iterate over each year column\n",
        "for year_col in year_columns:\n",
        "    # Select relevant columns and sort by the year column in ascending order\n",
        "    sorted_df = mena_df4.select(\"country_name\", \"wb_region\", year_col).orderBy(col(year_col).asc())\n",
        "\n",
        "    # Select the first row to get the country with the lowest net_per_10K gain for that year\n",
        "    lowest_gain_country = sorted_df.first()\n",
        "\n",
        "    # Display the result\n",
        "    print(f\"For {year_col}:\")\n",
        "    print(\"Country with the lowest net_per_10K gain:\")\n",
        "    print(lowest_gain_country[\"country_name\"], lowest_gain_country[\"wb_region\"], lowest_gain_country[year_col])\n",
        "    print()"
      ],
      "metadata": {
        "colab": {
          "base_uri": "https://localhost:8080/"
        },
        "id": "37r-CHk_G9Yn",
        "outputId": "3010a0a0-d894-4910-b88f-1c1d76b4876f"
      },
      "execution_count": 388,
      "outputs": [
        {
          "output_type": "stream",
          "name": "stdout",
          "text": [
            "For net_per_10K_2015:\n",
            "Country with the lowest net_per_10K gain:\n",
            "Bahrain Middle East & North Africa -998.98\n",
            "\n",
            "For net_per_10K_2016:\n",
            "Country with the lowest net_per_10K gain:\n",
            "Kuwait Middle East & North Africa -1876.78\n",
            "\n",
            "For net_per_10K_2017:\n",
            "Country with the lowest net_per_10K gain:\n",
            "Kuwait Middle East & North Africa -1495.33\n",
            "\n",
            "For net_per_10K_2018:\n",
            "Country with the lowest net_per_10K gain:\n",
            "Bahrain Middle East & North Africa -1358.05\n",
            "\n",
            "For net_per_10K_2019:\n",
            "Country with the lowest net_per_10K gain:\n",
            "Bahrain Middle East & North Africa -1111.57\n",
            "\n"
          ]
        }
      ]
    },
    {
      "cell_type": "markdown",
      "source": [
        "#Q7"
      ],
      "metadata": {
        "id": "GKakf46SKbM-"
      }
    },
    {
      "cell_type": "markdown",
      "source": [
        "what are the top countries that users emigrate from in the Middle East & North African countries for each wb_incom?\n",
        "use mena_B_df3 dataframe and columns (base_country_name base_country_wb_income)"
      ],
      "metadata": {
        "id": "qdENtzLXMsLl"
      }
    },
    {
      "cell_type": "code",
      "source": [
        "from pyspark.sql.functions import col\n",
        "\n",
        "# Group by base_country_wb_income and base_country_name, count occurrences\n",
        "emigration_counts_B = mena_B_df3.groupBy(\"base_country_wb_income\", \"base_country_name\").count()\n",
        "\n",
        "# Rank the countries within each base_country_wb_income category based on count in descending order\n",
        "from pyspark.sql.window import Window\n",
        "from pyspark.sql.functions import desc, rank\n",
        "\n",
        "window_spec = Window.partitionBy(\"base_country_wb_income\").orderBy(desc(\"count\"))\n",
        "ranked_emigration_counts_B = emigration_counts_B.withColumn(\"rank\", rank().over(window_spec))\n",
        "\n",
        "# Select the top country for each base_country_wb_income category\n",
        "top_emigration_countries_B = ranked_emigration_counts_B.filter(col(\"rank\") == 1).select(\"base_country_wb_income\", \"base_country_name\", \"count\")\n",
        "\n",
        "# Display the results\n",
        "top_emigration_countries_B.show(truncate=False)\n"
      ],
      "metadata": {
        "colab": {
          "base_uri": "https://localhost:8080/"
        },
        "id": "Zdk2BnbnNjD2",
        "outputId": "ada87029-481b-491f-e7f8-8f42f959732f"
      },
      "execution_count": 389,
      "outputs": [
        {
          "output_type": "stream",
          "name": "stdout",
          "text": [
            "+----------------------+--------------------+-----+\n",
            "|base_country_wb_income|base_country_name   |count|\n",
            "+----------------------+--------------------+-----+\n",
            "|High Income           |United Arab Emirates|93   |\n",
            "|Low Income            |Syrian Arab Republic|14   |\n",
            "|Lower Middle Income   |Egypt, Arab Rep.    |42   |\n",
            "|Upper Middle Income   |Iran, Islamic Rep.  |29   |\n",
            "+----------------------+--------------------+-----+\n",
            "\n"
          ]
        }
      ]
    },
    {
      "cell_type": "markdown",
      "source": [
        "#Q8"
      ],
      "metadata": {
        "id": "Sn7ysf61SqA6"
      }
    },
    {
      "cell_type": "markdown",
      "source": [
        "predict the growth rate for each Middle East & North African country in 2020?\n",
        "user mena_countries_df2 and use the columns growth_rate_2015|growth_rate_2016|growth_rate_2017|growth_rate_2018|growth_rate_2019|     avg_growth_rate to predict growth_rate_2020\n",
        "\n",
        "tain be 80% and testing 20%"
      ],
      "metadata": {
        "id": "fqf1_yOxU9fz"
      }
    },
    {
      "cell_type": "code",
      "source": [
        "mena_countries_df2.show()\n"
      ],
      "metadata": {
        "colab": {
          "base_uri": "https://localhost:8080/"
        },
        "id": "ZYDc4VFWSsec",
        "outputId": "465126c4-d74e-4a66-9899-33821eb78d08"
      },
      "execution_count": 390,
      "outputs": [
        {
          "output_type": "stream",
          "name": "stdout",
          "text": [
            "+------------+--------------------+--------------------+-----------+------------------+--------------------+-----------+--------------------+----------------+----------------+----------------+----------------+----------------+--------------------+\n",
            "|country_code|        country_name|           wb_region|  wb_income|isic_section_index|   isic_section_name|industry_id|       industry_name|growth_rate_2015|growth_rate_2016|growth_rate_2017|growth_rate_2018|growth_rate_2019|     avg_growth_rate|\n",
            "+------------+--------------------+--------------------+-----------+------------------+--------------------+-----------+--------------------+----------------+----------------+----------------+----------------+----------------+--------------------+\n",
            "|          ae|United Arab Emirates|Middle East & Nor...|High income|                 B|Mining and quarrying|         56|     Mining & Metals|             7.8|            5.85|            4.34|             1.0|           -0.06|   3.786000061035156|\n",
            "|          ae|United Arab Emirates|Middle East & Nor...|High income|                 B|Mining and quarrying|         57|        Oil & Energy|             3.3|            1.35|            1.75|            1.85|            2.26|   2.102000045776367|\n",
            "|          ae|United Arab Emirates|Middle East & Nor...|High income|                 C|       Manufacturing|         15|     Pharmaceuticals|           17.14|            13.7|            9.06|            4.81|            2.84|   9.510000610351563|\n",
            "|          ae|United Arab Emirates|Middle East & Nor...|High income|                 C|       Manufacturing|         23|     Food Production|            6.34|            3.86|            2.21|             0.6|            0.43|  2.6880001068115233|\n",
            "|          ae|United Arab Emirates|Middle East & Nor...|High income|                 C|       Manufacturing|         52|Aviation & Aerospace|            9.66|            5.67|            2.87|             1.5|            0.08|  3.9560001373291014|\n",
            "|          ae|United Arab Emirates|Middle East & Nor...|High income|                 C|       Manufacturing|         53|          Automotive|            7.82|            5.51|            2.98|            0.62|             0.2|   3.426000213623047|\n",
            "|          ae|United Arab Emirates|Middle East & Nor...|High income|                 C|       Manufacturing|         54|           Chemicals|           12.64|            9.81|            6.71|            2.93|            1.23|   6.663999938964844|\n",
            "|          ae|United Arab Emirates|Middle East & Nor...|High income|                 C|       Manufacturing|         55|           Machinery|            9.71|            7.51|            3.22|            2.37|            0.11|  4.5840003967285154|\n",
            "|          ae|United Arab Emirates|Middle East & Nor...|High income|                 C|       Manufacturing|         58|        Shipbuilding|            5.26|             2.8|            -0.1|             0.1|           -0.19|   1.574000072479248|\n",
            "|          ae|United Arab Emirates|Middle East & Nor...|High income|                 C|       Manufacturing|         60|            Textiles|           10.18|            7.38|            5.11|           -0.86|           -0.43|   4.276000213623047|\n",
            "|          ae|United Arab Emirates|Middle East & Nor...|High income|                 C|       Manufacturing|         61|Paper & Forest Pr...|            7.41|            7.32|            3.66|            3.93|            3.68|                 5.2|\n",
            "|          ae|United Arab Emirates|Middle East & Nor...|High income|                 C|       Manufacturing|         83|            Printing|            4.59|            1.82|             0.4|            0.49|           -0.15|  1.4300000190734863|\n",
            "|          ae|United Arab Emirates|Middle East & Nor...|High income|                 C|       Manufacturing|        112|Electrical & Elec...|            8.35|            7.13|            4.41|            1.79|            0.51|   4.438000106811524|\n",
            "|          ae|United Arab Emirates|Middle East & Nor...|High income|                 C|       Manufacturing|        117|            Plastics|            2.49|           -0.39|           -2.03|           -2.25|            -1.2| -0.6760000228881836|\n",
            "|          ae|United Arab Emirates|Middle East & Nor...|High income|                 C|       Manufacturing|        144|Renewables & Envi...|            9.63|             9.8|             8.4|             5.9|            -0.1|   6.726000213623047|\n",
            "|          ae|United Arab Emirates|Middle East & Nor...|High income|                 C|       Manufacturing|        145|Glass, Ceramics &...|            3.62|            4.45|            3.06|            2.26|            0.84|   2.845999908447266|\n",
            "|          ae|United Arab Emirates|Middle East & Nor...|High income|                 C|       Manufacturing|        146|Packaging & Conta...|            9.49|            7.37|            3.69|            2.51|            0.47|   4.706000137329101|\n",
            "|          ae|United Arab Emirates|Middle East & Nor...|High income|                 C|       Manufacturing|        147|Industrial Automa...|           10.71|            8.01|            5.28|            4.48|            2.94|   6.284000396728516|\n",
            "|          ae|United Arab Emirates|Middle East & Nor...|High income|                 J|Information and c...|          3|   Computer Hardware|           -2.14|            1.49|           -0.81|           -0.81|           -0.13|-0.48000001907348633|\n",
            "|          ae|United Arab Emirates|Middle East & Nor...|High income|                 J|Information and c...|          4|   Computer Software|           21.52|           18.07|           13.49|            9.04|            3.58|  13.140000915527343|\n",
            "+------------+--------------------+--------------------+-----------+------------------+--------------------+-----------+--------------------+----------------+----------------+----------------+----------------+----------------+--------------------+\n",
            "only showing top 20 rows\n",
            "\n"
          ]
        }
      ]
    },
    {
      "cell_type": "code",
      "source": [
        "from pyspark.sql.functions import lit\n",
        "\n",
        "mena_countries_df2 = mena_countries_df2.withColumn(\"growth_rate_2020\", lit(0.0))\n"
      ],
      "metadata": {
        "id": "dsAyBQb7e88d"
      },
      "execution_count": 391,
      "outputs": []
    },
    {
      "cell_type": "code",
      "source": [
        "from pyspark.ml.feature import VectorAssembler\n",
        "\n",
        "# Select the desired columns\n",
        "selected_columns = [\"growth_rate_2019\", \"growth_rate_2020\"]\n",
        "\n",
        "# Create the feature vector\n",
        "assembler = VectorAssembler(inputCols=selected_columns, outputCol=\"features\")\n",
        "feature_vector = assembler.transform(mena_countries_df2)\n",
        "\n",
        "# Select the feature vector and the target variable\n",
        "data = feature_vector.select(\"features\", \"growth_rate_2020\")\n",
        "\n",
        "# Split the data into training and test sets\n",
        "train_data, test_data = data.randomSplit([0.8, 0.2], seed=42)\n",
        "\n",
        "# Train the linear regression model\n",
        "from pyspark.ml.regression import LinearRegression\n",
        "\n",
        "lr = LinearRegression(labelCol=\"growth_rate_2020\")\n",
        "lr_model = lr.fit(train_data)\n",
        "\n",
        "# Perform the prediction\n",
        "predictions = lr_model.transform(test_data)\n",
        "\n",
        "# Display the predictions\n",
        "predictions.show()\n"
      ],
      "metadata": {
        "colab": {
          "base_uri": "https://localhost:8080/"
        },
        "id": "DAJwRSmbdG9V",
        "outputId": "37071394-87be-44bc-c299-c27a259c03f9"
      },
      "execution_count": 392,
      "outputs": [
        {
          "output_type": "stream",
          "name": "stdout",
          "text": [
            "+--------------------+----------------+----------+\n",
            "|            features|growth_rate_2020|prediction|\n",
            "+--------------------+----------------+----------+\n",
            "|           (2,[],[])|             0.0|       0.0|\n",
            "|           (2,[],[])|             0.0|       0.0|\n",
            "|           (2,[],[])|             0.0|       0.0|\n",
            "|           (2,[],[])|             0.0|       0.0|\n",
            "|           (2,[],[])|             0.0|       0.0|\n",
            "|           (2,[],[])|             0.0|       0.0|\n",
            "|           (2,[],[])|             0.0|       0.0|\n",
            "|           (2,[],[])|             0.0|       0.0|\n",
            "|           (2,[],[])|             0.0|       0.0|\n",
            "|           (2,[],[])|             0.0|       0.0|\n",
            "|           (2,[],[])|             0.0|       0.0|\n",
            "|           (2,[],[])|             0.0|       0.0|\n",
            "|           (2,[],[])|             0.0|       0.0|\n",
            "|           (2,[],[])|             0.0|       0.0|\n",
            "|           (2,[],[])|             0.0|       0.0|\n",
            "|           (2,[],[])|             0.0|       0.0|\n",
            "|[-8.0799999237060...|             0.0|       0.0|\n",
            "|[-5.5100002288818...|             0.0|       0.0|\n",
            "|[-4.6900000572204...|             0.0|       0.0|\n",
            "|[-4.6100001335144...|             0.0|       0.0|\n",
            "+--------------------+----------------+----------+\n",
            "only showing top 20 rows\n",
            "\n"
          ]
        }
      ]
    },
    {
      "cell_type": "code",
      "source": [
        "from pyspark.ml.regression import RandomForestRegressor\n",
        "from pyspark.ml.feature import VectorAssembler\n",
        "\n",
        "# Select the relevant columns for prediction\n",
        "selected_features = [\"growth_rate_2018\", \"growth_rate_2019\"]\n",
        "\n",
        "# Create a VectorAssembler to combine the selected features into a feature vector\n",
        "assembler = VectorAssembler(inputCols=selected_features, outputCol=\"features\")\n",
        "\n",
        "# Transform the data by assembling the feature vector\n",
        "prediction_data = assembler.transform(mena_countries_df2)\n",
        "\n",
        "# Select the feature vector and the target variable\n",
        "prediction_data = prediction_data.select(\"features\", \"growth_rate_2020\")\n",
        "\n",
        "# Split the data into training and test sets\n",
        "train_data, test_data = prediction_data.randomSplit([0.7, 0.3], seed=42)\n",
        "\n",
        "# Create a Random Forest Regression model\n",
        "rf_model = RandomForestRegressor(featuresCol=\"features\", labelCol=\"growth_rate_2020\")\n",
        "\n",
        "# Fit the model to the training data\n",
        "rf_model = rf_model.fit(train_data)\n",
        "\n",
        "# Make predictions on the test data\n",
        "predictions = rf_model.transform(test_data)\n",
        "\n",
        "# Display the predictions\n",
        "predictions.show()\n"
      ],
      "metadata": {
        "colab": {
          "base_uri": "https://localhost:8080/"
        },
        "id": "2hBYzmPlq2Uj",
        "outputId": "574f8af2-f512-4b4d-8a49-d21615c77af7"
      },
      "execution_count": 393,
      "outputs": [
        {
          "output_type": "stream",
          "name": "stdout",
          "text": [
            "+--------------------+----------------+----------+\n",
            "|            features|growth_rate_2020|prediction|\n",
            "+--------------------+----------------+----------+\n",
            "|           (2,[],[])|             0.0|       0.0|\n",
            "|           (2,[],[])|             0.0|       0.0|\n",
            "|[-17.040000915527...|             0.0|       0.0|\n",
            "|[-15.479999542236...|             0.0|       0.0|\n",
            "|[-12.0,-5.7100000...|             0.0|       0.0|\n",
            "|[-11.829999923706...|             0.0|       0.0|\n",
            "|[-11.760000228881...|             0.0|       0.0|\n",
            "|[-10.260000228881...|             0.0|       0.0|\n",
            "|[-9.9600000381469...|             0.0|       0.0|\n",
            "|[-9.5200004577636...|             0.0|       0.0|\n",
            "|[-9.2299995422363...|             0.0|       0.0|\n",
            "|[-8.0600004196167...|             0.0|       0.0|\n",
            "|[-7.9499998092651...|             0.0|       0.0|\n",
            "|[-7.7300000190734...|             0.0|       0.0|\n",
            "|[-7.5300002098083...|             0.0|       0.0|\n",
            "|[-7.3099999427795...|             0.0|       0.0|\n",
            "|[-7.1599998474121...|             0.0|       0.0|\n",
            "|[-6.9099998474121...|             0.0|       0.0|\n",
            "|[-6.6700000762939...|             0.0|       0.0|\n",
            "|[-6.6700000762939...|             0.0|       0.0|\n",
            "+--------------------+----------------+----------+\n",
            "only showing top 20 rows\n",
            "\n"
          ]
        }
      ]
    },
    {
      "cell_type": "markdown",
      "source": [
        "# Visualizations"
      ],
      "metadata": {
        "id": "eXa4CkTfa7Vf"
      }
    },
    {
      "cell_type": "code",
      "source": [
        "df2.show()"
      ],
      "metadata": {
        "colab": {
          "base_uri": "https://localhost:8080/"
        },
        "id": "vxmzYT_ZcPNq",
        "outputId": "671f4401-1137-4519-b771-9218a7ca0ad4"
      },
      "execution_count": 394,
      "outputs": [
        {
          "output_type": "stream",
          "name": "stdout",
          "text": [
            "+------------+--------------------+--------------------+-----------+------------------+--------------------+-----------+--------------------+----------------+----------------+----------------+----------------+----------------+\n",
            "|country_code|        country_name|           wb_region|  wb_income|isic_section_index|   isic_section_name|industry_id|       industry_name|growth_rate_2015|growth_rate_2016|growth_rate_2017|growth_rate_2018|growth_rate_2019|\n",
            "+------------+--------------------+--------------------+-----------+------------------+--------------------+-----------+--------------------+----------------+----------------+----------------+----------------+----------------+\n",
            "|          ae|United Arab Emirates|Middle East & Nor...|High income|                 B|Mining and quarrying|         56|     Mining & Metals|           7.80%|           5.85%|           4.34%|           1.00%|          -0.06%|\n",
            "|          ae|United Arab Emirates|Middle East & Nor...|High income|                 B|Mining and quarrying|         57|        Oil & Energy|           3.30%|           1.35%|           1.75%|           1.85%|           2.26%|\n",
            "|          ae|United Arab Emirates|Middle East & Nor...|High income|                 C|       Manufacturing|         15|     Pharmaceuticals|          17.14%|          13.70%|           9.06%|           4.81%|           2.84%|\n",
            "|          ae|United Arab Emirates|Middle East & Nor...|High income|                 C|       Manufacturing|         23|     Food Production|           6.34%|           3.86%|           2.21%|           0.60%|           0.43%|\n",
            "|          ae|United Arab Emirates|Middle East & Nor...|High income|                 C|       Manufacturing|         52|Aviation & Aerospace|           9.66%|           5.67%|           2.87%|           1.50%|           0.08%|\n",
            "|          ae|United Arab Emirates|Middle East & Nor...|High income|                 C|       Manufacturing|         53|          Automotive|           7.82%|           5.51%|           2.98%|           0.62%|           0.20%|\n",
            "|          ae|United Arab Emirates|Middle East & Nor...|High income|                 C|       Manufacturing|         54|           Chemicals|          12.64%|           9.81%|           6.71%|           2.93%|           1.23%|\n",
            "|          ae|United Arab Emirates|Middle East & Nor...|High income|                 C|       Manufacturing|         55|           Machinery|           9.71%|           7.51%|           3.22%|           2.37%|           0.11%|\n",
            "|          ae|United Arab Emirates|Middle East & Nor...|High income|                 C|       Manufacturing|         58|        Shipbuilding|           5.26%|           2.80%|          -0.10%|           0.10%|          -0.19%|\n",
            "|          ae|United Arab Emirates|Middle East & Nor...|High income|                 C|       Manufacturing|         60|            Textiles|          10.18%|           7.38%|           5.11%|          -0.86%|          -0.43%|\n",
            "|          ae|United Arab Emirates|Middle East & Nor...|High income|                 C|       Manufacturing|         61|Paper & Forest Pr...|           7.41%|           7.32%|           3.66%|           3.93%|           3.68%|\n",
            "|          ae|United Arab Emirates|Middle East & Nor...|High income|                 C|       Manufacturing|         83|            Printing|           4.59%|           1.82%|           0.40%|           0.49%|          -0.15%|\n",
            "|          ae|United Arab Emirates|Middle East & Nor...|High income|                 C|       Manufacturing|        112|Electrical & Elec...|           8.35%|           7.13%|           4.41%|           1.79%|           0.51%|\n",
            "|          ae|United Arab Emirates|Middle East & Nor...|High income|                 C|       Manufacturing|        117|            Plastics|           2.49%|          -0.39%|          -2.03%|          -2.25%|          -1.20%|\n",
            "|          ae|United Arab Emirates|Middle East & Nor...|High income|                 C|       Manufacturing|        144|Renewables & Envi...|           9.63%|           9.80%|           8.40%|           5.90%|          -0.10%|\n",
            "|          ae|United Arab Emirates|Middle East & Nor...|High income|                 C|       Manufacturing|        145|Glass, Ceramics &...|           3.62%|           4.45%|           3.06%|           2.26%|           0.84%|\n",
            "|          ae|United Arab Emirates|Middle East & Nor...|High income|                 C|       Manufacturing|        146|Packaging & Conta...|           9.49%|           7.37%|           3.69%|           2.51%|           0.47%|\n",
            "|          ae|United Arab Emirates|Middle East & Nor...|High income|                 C|       Manufacturing|        147|Industrial Automa...|          10.71%|           8.01%|           5.28%|           4.48%|           2.94%|\n",
            "|          ae|United Arab Emirates|Middle East & Nor...|High income|                 J|Information and c...|          3|   Computer Hardware|          -2.14%|           1.49%|          -0.81%|          -0.81%|          -0.13%|\n",
            "|          ae|United Arab Emirates|Middle East & Nor...|High income|                 J|Information and c...|          4|   Computer Software|          21.52%|          18.07%|          13.49%|           9.04%|           3.58%|\n",
            "+------------+--------------------+--------------------+-----------+------------------+--------------------+-----------+--------------------+----------------+----------------+----------------+----------------+----------------+\n",
            "only showing top 20 rows\n",
            "\n"
          ]
        }
      ]
    },
    {
      "cell_type": "code",
      "source": [
        "import matplotlib.pyplot as plt\n",
        "\n",
        "# Group by wb_region and count occurrences\n",
        "region_counts = df2.groupBy(\"wb_region\").count().orderBy(\"wb_region\")\n",
        "\n",
        "# Extract the required columns\n",
        "regions = region_counts.select(\"wb_region\").rdd.flatMap(lambda x: x).collect()\n",
        "counts = region_counts.select(\"count\").rdd.flatMap(lambda x: x).collect()\n",
        "\n",
        "# Plot the graph\n",
        "fig, ax = plt.subplots()\n",
        "x = range(len(regions))\n",
        "\n",
        "ax.bar(x, counts)\n",
        "ax.set_xlabel('WB Region')\n",
        "ax.set_ylabel('Count')\n",
        "ax.set_title('Number of Countries in WB Regions')\n",
        "ax.set_xticks(x)\n",
        "ax.set_xticklabels(regions, rotation=45)\n",
        "plt.tight_layout()\n",
        "\n",
        "plt.show()\n"
      ],
      "metadata": {
        "colab": {
          "base_uri": "https://localhost:8080/",
          "height": 487
        },
        "id": "-JdMcYmqcqQ-",
        "outputId": "db677584-e4ba-4dd4-bc7f-2a3bb8fd64a4"
      },
      "execution_count": 395,
      "outputs": [
        {
          "output_type": "display_data",
          "data": {
            "text/plain": [
              "<Figure size 640x480 with 1 Axes>"
            ],
            "image/png": "[encoded data removed]"
          },
          "metadata": {}
        }
      ]
    },
    {
      "cell_type": "code",
      "source": [
        "import matplotlib.pyplot as plt\n",
        "\n",
        "# Group by wb_region and wb_income, count occurrences\n",
        "income_counts = df2.groupBy(\"wb_region\", \"wb_income\").count().orderBy(\"wb_region\")\n",
        "\n",
        "# Extract the required columns\n",
        "regions = income_counts.select(\"wb_region\").distinct().rdd.flatMap(lambda x: x).collect()\n",
        "income_types = income_counts.select(\"wb_income\").distinct().rdd.flatMap(lambda x: x).collect()\n",
        "\n",
        "# Prepare data for plotting\n",
        "data = {}\n",
        "for region in regions:\n",
        "    counts = income_counts.filter(income_counts.wb_region == region).select(\"count\").rdd.flatMap(lambda x: x).collect()\n",
        "    data[region] = counts\n",
        "\n",
        "# Plot the graph\n",
        "fig, ax = plt.subplots()\n",
        "width = 0.4\n",
        "x = range(len(regions))\n",
        "\n",
        "bottom = [0] * len(regions)\n",
        "for income_type in income_types:\n",
        "    counts = [data[region][income_types.index(income_type)] if income_types.index(income_type) < len(data[region]) else 0 for region in regions]\n",
        "    ax.bar(x, counts, width, bottom=bottom, label=income_type)\n",
        "    bottom = [b + c for b, c in zip(bottom, counts)]\n",
        "\n",
        "ax.set_xlabel('WB Region')\n",
        "ax.set_ylabel('Count')\n",
        "ax.set_title('Distribution of Income Types in WB Regions')\n",
        "ax.set_xticks(x)\n",
        "ax.set_xticklabels(regions, rotation=45)\n",
        "ax.legend()\n",
        "\n",
        "plt.tight_layout()\n",
        "plt.show()\n"
      ],
      "metadata": {
        "colab": {
          "base_uri": "https://localhost:8080/",
          "height": 487
        },
        "id": "NsS7BUlcejCv",
        "outputId": "269d48ee-408a-4b6b-bd5e-6e6ed5cbd2a8"
      },
      "execution_count": 396,
      "outputs": [
        {
          "output_type": "display_data",
          "data": {
            "text/plain": [
              "<Figure size 640x480 with 1 Axes>"
            ],
            "image/png": "[encoded data removed]"
          },
          "metadata": {}
        }
      ]
    },
    {
      "cell_type": "code",
      "source": [
        "df3.show()"
      ],
      "metadata": {
        "colab": {
          "base_uri": "https://localhost:8080/"
        },
        "id": "gjBUNRndfOly",
        "outputId": "36dd40d2-8c2f-43dd-dfb2-f21455c0616b"
      },
      "execution_count": 397,
      "outputs": [
        {
          "output_type": "stream",
          "name": "stdout",
          "text": [
            "+-----------------+--------------------+---------+---------+----------------------+----------------------+-------------------+-------------------+----------+-----------+------------------------+------------------------+----------------+----------------+----------------+----------------+----------------+\n",
            "|base_country_code|   base_country_name| base_lat|base_long|base_country_wb_income|base_country_wb_region|target_country_code|target_country_name|target_lat|target_long|target_country_wb_income|target_country_wb_region|net_per_10K_2015|net_per_10K_2016|net_per_10K_2017|net_per_10K_2018|net_per_10K_2019|\n",
            "+-----------------+--------------------+---------+---------+----------------------+----------------------+-------------------+-------------------+----------+-----------+------------------------+------------------------+----------------+----------------+----------------+----------------+----------------+\n",
            "|               ae|United Arab Emirates|23.424076|53.847818|           High Income|  Middle East & Nor...|                 af|        Afghanistan|  33.93911|  67.709953|              Low Income|              South Asia|            0.19|            0.16|            0.11|           -0.05|           -0.02|\n",
            "|               ae|United Arab Emirates|23.424076|53.847818|           High Income|  Middle East & Nor...|                 dz|            Algeria| 28.033886|   1.659626|     Upper Middle Income|    Middle East & Nor...|            0.19|            0.25|            0.57|            0.55|            0.78|\n",
            "|               ae|United Arab Emirates|23.424076|53.847818|           High Income|  Middle East & Nor...|                 ao|             Angola|-11.202692|  17.873887|     Lower Middle Income|      Sub-Saharan Africa|           -0.01|            0.04|            0.11|           -0.02|           -0.06|\n",
            "|               ae|United Arab Emirates|23.424076|53.847818|           High Income|  Middle East & Nor...|                 ar|          Argentina|-38.416097| -63.616672|             High Income|    Latin America & C...|            0.16|            0.18|            0.04|            0.01|            0.23|\n",
            "|               ae|United Arab Emirates|23.424076|53.847818|           High Income|  Middle East & Nor...|                 am|            Armenia| 40.069099|  45.038189|     Upper Middle Income|    Europe & Central ...|             0.1|            0.05|            0.03|           -0.01|            0.02|\n",
            "|               ae|United Arab Emirates|23.424076|53.847818|           High Income|  Middle East & Nor...|                 au|          Australia|-25.274398| 133.775136|             High Income|     East Asia & Pacific|           -1.06|           -3.31|           -4.01|           -4.58|           -4.09|\n",
            "|               ae|United Arab Emirates|23.424076|53.847818|           High Income|  Middle East & Nor...|                 at|            Austria| 47.516231|  14.550072|             High Income|    Europe & Central ...|            0.11|           -0.08|           -0.07|           -0.05|           -0.16|\n",
            "|               ae|United Arab Emirates|23.424076|53.847818|           High Income|  Middle East & Nor...|                 az|         Azerbaijan| 40.143105|  47.576927|     Upper Middle Income|    Europe & Central ...|            0.24|            0.25|             0.1|            0.05|            0.04|\n",
            "|               ae|United Arab Emirates|23.424076|53.847818|           High Income|  Middle East & Nor...|                 bh|            Bahrain| 25.930414|  50.637772|             High Income|    Middle East & Nor...|             0.9|            0.89|            0.38|           -0.07|            0.15|\n",
            "|               ae|United Arab Emirates|23.424076|53.847818|           High Income|  Middle East & Nor...|                 bd|         Bangladesh| 23.684994|  90.356331|     Lower Middle Income|              South Asia|           -0.21|           -0.21|           -0.26|           -0.18|           -0.04|\n",
            "|               ae|United Arab Emirates|23.424076|53.847818|           High Income|  Middle East & Nor...|                 by|            Belarus| 53.709807|  27.953389|     Upper Middle Income|    Europe & Central ...|            0.12|            0.12|            0.11|            0.12|             0.1|\n",
            "|               ae|United Arab Emirates|23.424076|53.847818|           High Income|  Middle East & Nor...|                 be|            Belgium| 50.503887|   4.469936|             High Income|    Europe & Central ...|            0.51|            0.22|           -0.01|           -0.09|           -0.06|\n",
            "|               ae|United Arab Emirates|23.424076|53.847818|           High Income|  Middle East & Nor...|                 br|             Brazil|-14.235004|  -51.92528|     Upper Middle Income|    Latin America & C...|            0.81|            0.78|            0.63|             0.9|            0.99|\n",
            "|               ae|United Arab Emirates|23.424076|53.847818|           High Income|  Middle East & Nor...|                 bg|           Bulgaria| 42.733883|   25.48583|     Upper Middle Income|    Europe & Central ...|            0.17|            0.09|           -0.07|           -0.02|           -0.04|\n",
            "|               ae|United Arab Emirates|23.424076|53.847818|           High Income|  Middle East & Nor...|                 cm|           Cameroon|  7.369722|  12.354722|     Lower Middle Income|      Sub-Saharan Africa|             0.2|            0.13|             0.2|            0.29|            0.29|\n",
            "|               ae|United Arab Emirates|23.424076|53.847818|           High Income|  Middle East & Nor...|                 ca|             Canada| 56.130366|-106.346771|             High Income|           North America|           -2.96|           -4.64|           -6.03|           -8.13|           -8.89|\n",
            "|               ae|United Arab Emirates|23.424076|53.847818|           High Income|  Middle East & Nor...|                 cl|              Chile|-35.675147| -71.542969|             High Income|    Latin America & C...|            0.02|            0.02|           -0.02|            0.01|            0.02|\n",
            "|               ae|United Arab Emirates|23.424076|53.847818|           High Income|  Middle East & Nor...|                 cn|              China|  35.86166| 104.195397|     Upper Middle Income|     East Asia & Pacific|            0.86|            0.99|            0.26|            0.24|            0.45|\n",
            "|               ae|United Arab Emirates|23.424076|53.847818|           High Income|  Middle East & Nor...|                 co|           Colombia|  4.570868| -74.297333|     Upper Middle Income|    Latin America & C...|            0.02|            0.22|            0.14|            0.15|            0.13|\n",
            "|               ae|United Arab Emirates|23.424076|53.847818|           High Income|  Middle East & Nor...|                 hr|            Croatia|      45.1|       15.2|             High Income|    Europe & Central ...|            0.16|            0.13|            0.04|            0.02|           -0.03|\n",
            "+-----------------+--------------------+---------+---------+----------------------+----------------------+-------------------+-------------------+----------+-----------+------------------------+------------------------+----------------+----------------+----------------+----------------+----------------+\n",
            "only showing top 20 rows\n",
            "\n"
          ]
        }
      ]
    },
    {
      "cell_type": "code",
      "source": [
        "import matplotlib.pyplot as plt\n",
        "\n",
        "# Group by wb_region and count occurrences\n",
        "region_counts = df3.groupBy(\"target_country_wb_region\").count().orderBy(\"target_country_wb_region\")\n",
        "\n",
        "# Extract the required columns\n",
        "regions = region_counts.select(\"target_country_wb_region\").rdd.flatMap(lambda x: x).collect()\n",
        "counts = region_counts.select(\"count\").rdd.flatMap(lambda x: x).collect()\n",
        "\n",
        "# Plot the graph\n",
        "fig, ax = plt.subplots()\n",
        "width = 0.4\n",
        "x = range(len(regions))\n",
        "\n",
        "ax.bar(x, counts, width)\n",
        "\n",
        "ax.set_xlabel('WB Region')\n",
        "ax.set_ylabel('Count')\n",
        "ax.set_title('Distribution of Target Countries across WB Regions')\n",
        "ax.set_xticks(x)\n",
        "ax.set_xticklabels(regions, rotation=45)\n",
        "\n",
        "plt.tight_layout()\n",
        "plt.show()\n"
      ],
      "metadata": {
        "colab": {
          "base_uri": "https://localhost:8080/",
          "height": 487
        },
        "id": "NJb_pi06feF6",
        "outputId": "e92c1efc-1967-434a-b26f-3fe8ee403d7c"
      },
      "execution_count": 398,
      "outputs": [
        {
          "output_type": "display_data",
          "data": {
            "text/plain": [
              "<Figure size 640x480 with 1 Axes>"
            ],
            "image/png": "[encoded data removed]"
          },
          "metadata": {}
        }
      ]
    },
    {
      "cell_type": "code",
      "source": [
        "import matplotlib.pyplot as plt\n",
        "\n",
        "# Filter the data for the top 10 base countries\n",
        "top_10_countries = df3.groupBy(\"base_country_name\").sum(\"net_per_10K_2015\", \"net_per_10K_2016\", \"net_per_10K_2017\", \"net_per_10K_2018\", \"net_per_10K_2019\") \\\n",
        "    .orderBy(\"sum(net_per_10K_2019)\", ascending=False).limit(10)\n",
        "\n",
        "# Extract the required columns\n",
        "countries = top_10_countries.select(\"base_country_name\").rdd.flatMap(lambda x: x).collect()\n",
        "years = [\"2015\", \"2016\", \"2017\", \"2018\", \"2019\"]\n",
        "data = top_10_countries.select(\"sum(net_per_10K_2015)\", \"sum(net_per_10K_2016)\", \"sum(net_per_10K_2017)\", \"sum(net_per_10K_2018)\", \"sum(net_per_10K_2019)\").collect()\n",
        "\n",
        "# Prepare the data for the stacked bar chart\n",
        "income_types = [\"2015\", \"2016\", \"2017\", \"2018\", \"2019\"]\n",
        "x = range(len(countries))\n",
        "width = 0.5\n",
        "\n",
        "# Plot the graph\n",
        "fig, ax = plt.subplots()\n",
        "\n",
        "for i in range(len(years)):\n",
        "    counts = [d[i] for d in data]\n",
        "    if i == 0:\n",
        "        ax.bar(x, counts, width, label=years[i])\n",
        "    else:\n",
        "        bottom = [sum(data[j][:i]) for j in range(len(data))]\n",
        "        ax.bar(x, counts, width, bottom=bottom, label=years[i])\n",
        "\n",
        "ax.set_xlabel('Base Countries')\n",
        "ax.set_ylabel('Net Migration Rate per 10,000 People')\n",
        "ax.set_title('Net Migration Rate Comparison by Year (Top 10 Base Countries)')\n",
        "ax.set_xticks(x)\n",
        "ax.set_xticklabels(countries, rotation=45)\n",
        "ax.legend()\n",
        "\n",
        "plt.tight_layout()\n",
        "plt.show()\n"
      ],
      "metadata": {
        "colab": {
          "base_uri": "https://localhost:8080/",
          "height": 487
        },
        "id": "k5RPr4SvfluH",
        "outputId": "d478767a-e33f-4a18-e8c6-fb8a6930b929"
      },
      "execution_count": 298,
      "outputs": [
        {
          "output_type": "display_data",
          "data": {
            "text/plain": [
              "<Figure size 640x480 with 1 Axes>"
            ],
            "image/png": "[encoded data removed]"
          },
          "metadata": {}
        }
      ]
    }
  ]
}